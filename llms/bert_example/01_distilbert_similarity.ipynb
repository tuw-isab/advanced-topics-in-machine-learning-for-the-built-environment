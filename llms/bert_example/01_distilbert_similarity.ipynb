{
 "cells": [
  {
   "metadata": {
    "ExecuteTime": {
     "end_time": "2025-06-06T07:39:58.413754Z",
     "start_time": "2025-06-06T07:39:56.123078Z"
    }
   },
   "cell_type": "code",
   "source": [
    "from sentence_transformers import SentenceTransformer\n",
    "\n",
    "# https://huggingface.co/sentence-transformers/multi-qa-distilbert-cos-v1\n",
    "model = SentenceTransformer(\"multi-qa-distilbert-cos-v1\")"
   ],
   "id": "616bb0fcf90024f2",
   "outputs": [],
   "execution_count": 3
  },
  {
   "metadata": {
    "ExecuteTime": {
     "end_time": "2025-06-06T07:20:45.647071Z",
     "start_time": "2025-06-06T07:20:45.571118Z"
    }
   },
   "cell_type": "code",
   "source": [
    "embeddings = model.encode([\n",
    "    \"The weather is lovely today.\",\n",
    "    \"It's so sunny outside!\",\n",
    "    \"He drove to the stadium.\"\n",
    "])\n",
    "similarities = model.similarity(embeddings, embeddings)\n",
    "print(similarities)"
   ],
   "id": "a9ebe5a3aaa80e0",
   "outputs": [
    {
     "name": "stdout",
     "output_type": "stream",
     "text": [
      "tensor([[1.0000, 0.6667, 0.1699],\n",
      "        [0.6667, 1.0000, 0.1556],\n",
      "        [0.1699, 0.1556, 1.0000]])\n"
     ]
    }
   ],
   "execution_count": 2
  }
 ],
 "metadata": {
  "kernelspec": {
   "display_name": "Python 3",
   "language": "python",
   "name": "python3"
  },
  "language_info": {
   "codemirror_mode": {
    "name": "ipython",
    "version": 2
   },
   "file_extension": ".py",
   "mimetype": "text/x-python",
   "name": "python",
   "nbconvert_exporter": "python",
   "pygments_lexer": "ipython2",
   "version": "2.7.6"
  }
 },
 "nbformat": 4,
 "nbformat_minor": 5
}
