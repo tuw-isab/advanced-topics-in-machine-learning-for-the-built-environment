{
 "cells": [
  {
   "cell_type": "markdown",
   "id": "cb1dd0bf99e41046",
   "metadata": {},
   "source": [
    "# Reading timeseries in pandas"
   ]
  },
  {
   "cell_type": "code",
   "id": "3022f15ccf2fd125",
   "metadata": {},
   "source": [
    "import pandas\n",
    "from datetime import datetime, timedelta\n",
    "from io import StringIO\n",
    "\n",
    "import pytz"
   ],
   "outputs": [],
   "execution_count": null
  },
  {
   "cell_type": "markdown",
   "id": "391a4d6eb88117dc",
   "metadata": {},
   "source": [
    "## TZ aware ISO Formatted example"
   ]
  },
  {
   "cell_type": "code",
   "id": "5c47880b2a87b06f",
   "metadata": {},
   "source": [
    "# Example weather measurement data from tawes, timestamps include a timzeone information and are in iso format\n",
    "tawes_utc = \"\"\"\n",
    "time,station,cglo_j,rr,tl_mittel,vv_mittel,p_mittel,tlmin,tlmax\n",
    "1999-04-09T00:00+00:00,5925,,-1,7.4,1.0,962.1,2.2,12.6\n",
    "1999-04-10T00:00+00:00,5925,,-1,8.3,1.0,957.7,-0.6,17.1\n",
    "1999-04-11T00:00+00:00,5925,,-1,10.9,1.5,951.9,7.5,14.3\n",
    "1999-04-12T00:00+00:00,5925,,2.5,8.1,1.0,947.4,4.5,11.7\n",
    "1999-04-13T00:00+00:00,5925,,7.8,9.1,0.6,939.7,6.2,12.0\n",
    "1999-04-14T00:00+00:00,5925,,0.4,6.5,1.0,945.4,0.9,12.1\n",
    "1999-04-15T00:00+00:00,5925,,-1,9.5,1.5,946.4,2.9,16.0\n",
    "1999-04-16T00:00+00:00,5925,,7.7,11.5,0.6,944.4,9.6,13.3\n",
    "1999-04-17T00:00+00:00,5925,,2.1,7.2,1.0,942.7,4.8,9.6\n",
    "1999-04-18T00:00+00:00,5925,,-1,6.7,1.0,949.9,2.5,10.9\n",
    "\"\"\""
   ],
   "outputs": [],
   "execution_count": null
  },
  {
   "cell_type": "code",
   "id": "756befeb649f75be",
   "metadata": {},
   "source": [
    "df = pandas.read_csv(StringIO(tawes_utc))\n",
    "df.head(5)"
   ],
   "outputs": [],
   "execution_count": null
  },
  {
   "cell_type": "code",
   "id": "f9b1d0a9f6b090a4",
   "metadata": {},
   "source": [
    "df['time'].dtype"
   ],
   "outputs": [],
   "execution_count": null
  },
  {
   "cell_type": "code",
   "id": "b00e5a9fc32ca169",
   "metadata": {},
   "source": [
    "df['time'] = pandas.to_datetime(df['time'])\n",
    "df['time'].dtype"
   ],
   "outputs": [],
   "execution_count": null
  },
  {
   "cell_type": "code",
   "id": "a36966a8e5007d47",
   "metadata": {},
   "source": [
    "df.head(5)"
   ],
   "outputs": [],
   "execution_count": null
  },
  {
   "cell_type": "markdown",
   "id": "463da87e937bb172",
   "metadata": {},
   "source": [
    "## TZ UNaware ISO Formatted example\n"
   ]
  },
  {
   "cell_type": "code",
   "id": "d4b2477c779c52dc",
   "metadata": {},
   "source": [
    "# Example weather measurement data from tawes, timestamps are in iso format but do not include a tz info\n",
    "tawes_notz = \"\"\"\n",
    "time,station,cglo_j,rr,tl_mittel,vv_mittel,p_mittel,tlmin,tlmax\n",
    "1999-04-09T00:00,5925,,-1,7.4,1.0,962.1,2.2,12.6\n",
    "1999-04-10T00:00,5925,,-1,8.3,1.0,957.7,-0.6,17.1\n",
    "1999-04-11T00:00,5925,,-1,10.9,1.5,951.9,7.5,14.3\n",
    "1999-04-12T00:00,5925,,2.5,8.1,1.0,947.4,4.5,11.7\n",
    "1999-04-13T00:00,5925,,7.8,9.1,0.6,939.7,6.2,12.0\n",
    "1999-04-14T00:00,5925,,0.4,6.5,1.0,945.4,0.9,12.1\n",
    "1999-04-15T00:00,5925,,-1,9.5,1.5,946.4,2.9,16.0\n",
    "1999-04-16T00:00,5925,,7.7,11.5,0.6,944.4,9.6,13.3\n",
    "1999-04-17T00:00,5925,,2.1,7.2,1.0,942.7,4.8,9.6\n",
    "1999-04-18T00:00,5925,,-1,6.7,1.0,949.9,2.5,10.9\n",
    "\"\"\""
   ],
   "outputs": [],
   "execution_count": null
  },
  {
   "cell_type": "code",
   "id": "6061cd8cd9c7e65f",
   "metadata": {},
   "source": [
    "df = pandas.read_csv(StringIO(tawes_notz))\n",
    "df.head(5)"
   ],
   "outputs": [],
   "execution_count": null
  },
  {
   "cell_type": "code",
   "id": "8d315ffc13e5569e",
   "metadata": {},
   "source": [
    "time_col_in_ns = pandas.to_datetime(df['time'])\n",
    "print(time_col_in_ns.head(3))"
   ],
   "outputs": [],
   "execution_count": null
  },
  {
   "cell_type": "markdown",
   "id": "b1334d7acaea7771",
   "metadata": {},
   "source": [
    "### Setting the time to UTC"
   ]
  },
  {
   "cell_type": "code",
   "id": "9188a98fb867eb1e",
   "metadata": {},
   "source": [
    "time_assumed_in_utc = pandas.to_datetime(df['time'], utc=True)\n",
    "print(time_assumed_in_utc.head(3))"
   ],
   "outputs": [],
   "execution_count": null
  },
  {
   "cell_type": "code",
   "id": "deb0790e771933d5",
   "metadata": {},
   "source": [
    "again_time_assumed_in_utc = pandas.to_datetime(df['time']).dt.tz_localize('UTC')\n",
    "print(again_time_assumed_in_utc.head(3))"
   ],
   "outputs": [],
   "execution_count": null
  },
  {
   "cell_type": "markdown",
   "id": "ac0ed140a06c817c",
   "metadata": {},
   "source": [
    "### Converting the time to UTC based on known timezone"
   ]
  },
  {
   "cell_type": "code",
   "id": "f5479be37fdccb97",
   "metadata": {},
   "source": [
    "converted_to_utc = pandas.to_datetime(df['time']).dt.tz_localize('Europe/Vienna').dt.tz_convert('UTC')\n",
    "print(converted_to_utc.head(3))"
   ],
   "outputs": [],
   "execution_count": null
  },
  {
   "cell_type": "markdown",
   "id": "877e1befa39e4708",
   "metadata": {},
   "source": [
    "## Custom formatted datetimes"
   ]
  },
  {
   "cell_type": "code",
   "id": "7875c60ad816ba3d",
   "metadata": {},
   "source": [
    "tawes_custom = \"\"\"\n",
    "time,station,cglo_j,rr,tl_mittel,vv_mittel,p_mittel,tlmin,tlmax\n",
    "09.04.1999 00:00,5925,,-1,7.4,1.0,962.1,2.2,12.6\n",
    "10.04.1999 00:00,5925,,-1,8.3,1.0,957.7,-0.6,17.1\n",
    "11.04.1999 00:00,5925,,-1,10.9,1.5,951.9,7.5,14.3\n",
    "12.04.1999 00:00,5925,,2.5,8.1,1.0,947.4,4.5,11.7\n",
    "13.04.1999 00:00,5925,,7.8,9.1,0.6,939.7,6.2,12.0\n",
    "14.04.1999 00:00,5925,,0.4,6.5,1.0,945.4,0.9,12.1\n",
    "15.04.1999 00:00,5925,,-1,9.5,1.5,946.4,2.9,16.0\n",
    "16.04.1999 00:00,5925,,7.7,11.5,0.6,944.4,9.6,13.3\n",
    "17.04.1999 00:00,5925,,2.1,7.2,1.0,942.7,4.8,9.6\n",
    "18.04.1999 00:00,5925,,-1,6.7,1.0,949.9,2.5,10.9\n",
    "\"\"\""
   ],
   "outputs": [],
   "execution_count": null
  },
  {
   "cell_type": "code",
   "id": "3d2f19b0134ff600",
   "metadata": {},
   "source": [
    "# you have to specify your custom format according to https://docs.python.org/3/library/datetime.html#format-codes\n",
    "format_data = \"%d.%m.%Y %H:%M\""
   ],
   "outputs": [],
   "execution_count": null
  },
  {
   "cell_type": "code",
   "id": "c8ca230cc35911aa",
   "metadata": {},
   "source": [
    "df = pandas.read_csv(StringIO(tawes_custom))\n",
    "df.head(5)"
   ],
   "outputs": [],
   "execution_count": null
  },
  {
   "cell_type": "code",
   "id": "5501b605f3078b3f",
   "metadata": {},
   "source": [
    "time_col = pandas.to_datetime(df['time'], format=format_data)\n",
    "print(time_col.head(5))"
   ],
   "outputs": [],
   "execution_count": null
  }
 ],
 "metadata": {
  "kernelspec": {
   "display_name": "Python 3 (ipykernel)",
   "language": "python",
   "name": "python3"
  },
  "language_info": {
   "codemirror_mode": {
    "name": "ipython",
    "version": 3
   },
   "file_extension": ".py",
   "mimetype": "text/x-python",
   "name": "python",
   "nbconvert_exporter": "python",
   "pygments_lexer": "ipython3",
   "version": "3.11.11"
  }
 },
 "nbformat": 4,
 "nbformat_minor": 5
}
