{
 "cells": [
  {
   "cell_type": "markdown",
   "metadata": {},
   "source": [
    "# Data Plotting"
   ]
  },
  {
   "cell_type": "markdown",
   "metadata": {},
   "source": [
    "The dataset `PV_Data_2022.csv` provides hourly measurements of a photovoltaic (PV) system and associated weather data. We'll explore how external conditions like temperature and cloud cover impact the system's energy generation throughout July 2022.\n",
    "\n",
    "In this example the task is to analyse and visualise the time series data with the help of `pandas` and `matplotlib`.\n",
    "\n",
    "The tasks are:\n",
    "1. Load the data and conduct exploratory data screening \n",
    "2. Plot the data\n",
    "3. PV generation statistics\n",
    "4. Correlation Analysis"
   ]
  },
  {
   "cell_type": "code",
   "execution_count": 137,
   "metadata": {},
   "outputs": [],
   "source": [
    "# Imports\n",
    "import pandas as pd\n",
    "import matplotlib.pyplot as plt"
   ]
  },
  {
   "cell_type": "markdown",
   "metadata": {},
   "source": [
    "## 1. Load and explore the data\n",
    "Hint: `read_csv()`, `.describe()`, `.info()`\n",
    "\n",
    "Remember how to handle timeseries data (`.to_datetime()`)"
   ]
  },
  {
   "cell_type": "code",
   "execution_count": null,
   "metadata": {},
   "outputs": [],
   "source": []
  },
  {
   "cell_type": "markdown",
   "metadata": {},
   "source": [
    "## 2. Plot the data\n",
    "Plot all four data variables over the time. Use an appropiate way to visualse the data (e.g. on figure with different scaled y axis or separate subplots)."
   ]
  },
  {
   "cell_type": "code",
   "execution_count": null,
   "metadata": {},
   "outputs": [],
   "source": []
  },
  {
   "cell_type": "markdown",
   "metadata": {},
   "source": [
    "## 3. PV Generation Statistics\n",
    "\n",
    "Calculate different visualisations/statistics about the PV generation: \n",
    "- daily generation profile (scatter plot, including mean and standard deviation)\n",
    "  - Hints: \n",
    "    1. create `PV generation` with `.diff()`\n",
    "    2. use `.groupby('hour')`\n",
    "    3. for the standard deviation `plt.fill_between()`is usefull\n",
    "- create a boxplot analysis for all four data variables (`df.boxplot()`)  - Discuss and write down for what variables it is usefull and where some other operations (daily sum, daily average, ...) would make more sense and why\n",
    "\n",
    "**Bonus:** Create additional statistics"
   ]
  },
  {
   "cell_type": "code",
   "execution_count": null,
   "metadata": {},
   "outputs": [],
   "source": []
  },
  {
   "cell_type": "markdown",
   "metadata": {},
   "source": [
    "## 4. Correlation Analysis\n",
    "\n",
    "Next the correlation between the PV generation and the cloud coverage should be investigated. (Hint: `df.plot.scatter()`)\n",
    "\n",
    "In addition write down if the result is similar to your intuition and what is different (include potential couses).\n",
    "\n",
    "**Bonus:** Think about how to improve the correlation anlysis and/or extend to different correlation (sum or average or different variable). "
   ]
  },
  {
   "cell_type": "code",
   "execution_count": null,
   "metadata": {},
   "outputs": [],
   "source": []
  }
 ],
 "metadata": {
  "kernelspec": {
   "display_name": "advML",
   "language": "python",
   "name": "python3"
  },
  "language_info": {
   "codemirror_mode": {
    "name": "ipython",
    "version": 3
   },
   "file_extension": ".py",
   "mimetype": "text/x-python",
   "name": "python",
   "nbconvert_exporter": "python",
   "pygments_lexer": "ipython3",
   "version": "3.13.3"
  }
 },
 "nbformat": 4,
 "nbformat_minor": 2
}
