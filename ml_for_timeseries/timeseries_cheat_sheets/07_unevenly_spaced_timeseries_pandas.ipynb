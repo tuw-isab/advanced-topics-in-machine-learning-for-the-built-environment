{
 "cells": [
  {
   "metadata": {},
   "cell_type": "markdown",
   "source": "# Unevenly spaced timeseries",
   "id": "cb1dd0bf99e41046"
  },
  {
   "metadata": {
    "ExecuteTime": {
     "end_time": "2025-05-14T11:58:15.918032Z",
     "start_time": "2025-05-14T11:58:15.914860Z"
    }
   },
   "cell_type": "code",
   "source": [
    "import pandas\n",
    "from io import StringIO\n",
    "from datetime import datetime, timedelta, UTC"
   ],
   "id": "3022f15ccf2fd125",
   "outputs": [],
   "execution_count": 6
  },
  {
   "metadata": {
    "ExecuteTime": {
     "end_time": "2025-05-14T11:58:18.123294Z",
     "start_time": "2025-05-14T11:58:18.119951Z"
    }
   },
   "cell_type": "code",
   "source": [
    "# Example weather measurement data from tawes, timestamps include a timzeone information and are in iso format\n",
    "tawes_utc = \"\"\"\n",
    "time,station,cglo_j,rr,tl_mittel,vv_mittel,p_mittel,tlmin,tlmax\n",
    "1999-04-09T00:00+00:00,5925,,-1,7.4,1.0,962.1,2.2,12.6\n",
    "1999-04-09T00:02+00:00,5925,,-1,8.3,1.0,957.7,-0.6,17.1\n",
    "1999-04-09T00:10+00:00,5925,,-1,10.9,1.5,951.9,7.5,14.3\n",
    "1999-04-09T01:03+00:00,5925,,2.5,8.1,1.0,947.4,4.5,11.7\n",
    "1999-04-09T01:56+00:00,5925,,7.8,9.1,0.6,939.7,6.2,12.0\n",
    "1999-04-09T03:30+00:00,5925,,0.4,6.5,1.0,945.4,0.9,12.1\n",
    "1999-04-09T03:33+00:00,5925,,-1,9.5,1.5,946.4,2.9,16.0\n",
    "1999-04-09T04:04+00:00,5925,,7.7,11.5,0.6,944.4,9.6,13.3\n",
    "\"\"\""
   ],
   "id": "5c47880b2a87b06f",
   "outputs": [],
   "execution_count": 8
  },
  {
   "metadata": {
    "ExecuteTime": {
     "end_time": "2025-05-14T12:00:23.715916Z",
     "start_time": "2025-05-14T12:00:23.705129Z"
    }
   },
   "cell_type": "code",
   "source": [
    "df = pandas.read_csv(StringIO(tawes_utc))\n",
    "df['time'] = pandas.to_datetime(df['time'])\n",
    "df = df.set_index('time')\n",
    "df"
   ],
   "id": "756befeb649f75be",
   "outputs": [
    {
     "data": {
      "text/plain": [
       "                           station  cglo_j   rr  tl_mittel  vv_mittel  \\\n",
       "time                                                                    \n",
       "1999-04-09 00:00:00+00:00    13305     NaN -1.0        7.4        1.0   \n",
       "1999-04-09 00:02:00+00:00    13305     NaN -1.0        8.3        1.0   \n",
       "1999-04-09 00:10:00+00:00    13305     NaN -1.0       10.9        1.5   \n",
       "1999-04-09 01:03:00+00:00    13305     NaN  2.5        8.1        1.0   \n",
       "1999-04-09 01:56:00+00:00    13305     NaN  7.8        9.1        0.6   \n",
       "1999-04-09 03:30:00+00:00    13305     NaN  0.4        6.5        1.0   \n",
       "1999-04-09 03:33:00+00:00    13305     NaN -1.0        9.5        1.5   \n",
       "1999-04-09 04:04:00+00:00    13305     NaN  7.7       11.5        0.6   \n",
       "\n",
       "                           p_mittel  tlmin  tlmax  \n",
       "time                                               \n",
       "1999-04-09 00:00:00+00:00     962.1    2.2   12.6  \n",
       "1999-04-09 00:02:00+00:00     957.7   -0.6   17.1  \n",
       "1999-04-09 00:10:00+00:00     951.9    7.5   14.3  \n",
       "1999-04-09 01:03:00+00:00     947.4    4.5   11.7  \n",
       "1999-04-09 01:56:00+00:00     939.7    6.2   12.0  \n",
       "1999-04-09 03:30:00+00:00     945.4    0.9   12.1  \n",
       "1999-04-09 03:33:00+00:00     946.4    2.9   16.0  \n",
       "1999-04-09 04:04:00+00:00     944.4    9.6   13.3  "
      ],
      "text/html": [
       "<div>\n",
       "<style scoped>\n",
       "    .dataframe tbody tr th:only-of-type {\n",
       "        vertical-align: middle;\n",
       "    }\n",
       "\n",
       "    .dataframe tbody tr th {\n",
       "        vertical-align: top;\n",
       "    }\n",
       "\n",
       "    .dataframe thead th {\n",
       "        text-align: right;\n",
       "    }\n",
       "</style>\n",
       "<table border=\"1\" class=\"dataframe\">\n",
       "  <thead>\n",
       "    <tr style=\"text-align: right;\">\n",
       "      <th></th>\n",
       "      <th>station</th>\n",
       "      <th>cglo_j</th>\n",
       "      <th>rr</th>\n",
       "      <th>tl_mittel</th>\n",
       "      <th>vv_mittel</th>\n",
       "      <th>p_mittel</th>\n",
       "      <th>tlmin</th>\n",
       "      <th>tlmax</th>\n",
       "    </tr>\n",
       "    <tr>\n",
       "      <th>time</th>\n",
       "      <th></th>\n",
       "      <th></th>\n",
       "      <th></th>\n",
       "      <th></th>\n",
       "      <th></th>\n",
       "      <th></th>\n",
       "      <th></th>\n",
       "      <th></th>\n",
       "    </tr>\n",
       "  </thead>\n",
       "  <tbody>\n",
       "    <tr>\n",
       "      <th>1999-04-09 00:00:00+00:00</th>\n",
       "      <td>13305</td>\n",
       "      <td>NaN</td>\n",
       "      <td>-1.0</td>\n",
       "      <td>7.4</td>\n",
       "      <td>1.0</td>\n",
       "      <td>962.1</td>\n",
       "      <td>2.2</td>\n",
       "      <td>12.6</td>\n",
       "    </tr>\n",
       "    <tr>\n",
       "      <th>1999-04-09 00:02:00+00:00</th>\n",
       "      <td>13305</td>\n",
       "      <td>NaN</td>\n",
       "      <td>-1.0</td>\n",
       "      <td>8.3</td>\n",
       "      <td>1.0</td>\n",
       "      <td>957.7</td>\n",
       "      <td>-0.6</td>\n",
       "      <td>17.1</td>\n",
       "    </tr>\n",
       "    <tr>\n",
       "      <th>1999-04-09 00:10:00+00:00</th>\n",
       "      <td>13305</td>\n",
       "      <td>NaN</td>\n",
       "      <td>-1.0</td>\n",
       "      <td>10.9</td>\n",
       "      <td>1.5</td>\n",
       "      <td>951.9</td>\n",
       "      <td>7.5</td>\n",
       "      <td>14.3</td>\n",
       "    </tr>\n",
       "    <tr>\n",
       "      <th>1999-04-09 01:03:00+00:00</th>\n",
       "      <td>13305</td>\n",
       "      <td>NaN</td>\n",
       "      <td>2.5</td>\n",
       "      <td>8.1</td>\n",
       "      <td>1.0</td>\n",
       "      <td>947.4</td>\n",
       "      <td>4.5</td>\n",
       "      <td>11.7</td>\n",
       "    </tr>\n",
       "    <tr>\n",
       "      <th>1999-04-09 01:56:00+00:00</th>\n",
       "      <td>13305</td>\n",
       "      <td>NaN</td>\n",
       "      <td>7.8</td>\n",
       "      <td>9.1</td>\n",
       "      <td>0.6</td>\n",
       "      <td>939.7</td>\n",
       "      <td>6.2</td>\n",
       "      <td>12.0</td>\n",
       "    </tr>\n",
       "    <tr>\n",
       "      <th>1999-04-09 03:30:00+00:00</th>\n",
       "      <td>13305</td>\n",
       "      <td>NaN</td>\n",
       "      <td>0.4</td>\n",
       "      <td>6.5</td>\n",
       "      <td>1.0</td>\n",
       "      <td>945.4</td>\n",
       "      <td>0.9</td>\n",
       "      <td>12.1</td>\n",
       "    </tr>\n",
       "    <tr>\n",
       "      <th>1999-04-09 03:33:00+00:00</th>\n",
       "      <td>13305</td>\n",
       "      <td>NaN</td>\n",
       "      <td>-1.0</td>\n",
       "      <td>9.5</td>\n",
       "      <td>1.5</td>\n",
       "      <td>946.4</td>\n",
       "      <td>2.9</td>\n",
       "      <td>16.0</td>\n",
       "    </tr>\n",
       "    <tr>\n",
       "      <th>1999-04-09 04:04:00+00:00</th>\n",
       "      <td>13305</td>\n",
       "      <td>NaN</td>\n",
       "      <td>7.7</td>\n",
       "      <td>11.5</td>\n",
       "      <td>0.6</td>\n",
       "      <td>944.4</td>\n",
       "      <td>9.6</td>\n",
       "      <td>13.3</td>\n",
       "    </tr>\n",
       "  </tbody>\n",
       "</table>\n",
       "</div>"
      ]
     },
     "execution_count": 12,
     "metadata": {},
     "output_type": "execute_result"
    }
   ],
   "execution_count": 12
  },
  {
   "metadata": {},
   "cell_type": "markdown",
   "source": [
    "## Working with irregular spaced timeseries is hard\n",
    "Because some of the pandas built in resamplers are not made for this"
   ],
   "id": "c5952a1c17ccee05"
  },
  {
   "metadata": {
    "ExecuteTime": {
     "end_time": "2025-05-14T12:00:26.828845Z",
     "start_time": "2025-05-14T12:00:26.821882Z"
    }
   },
   "cell_type": "code",
   "source": [
    "# Median still makes sense\n",
    "df.resample('1h').median()"
   ],
   "id": "8f2a85744af3631b",
   "outputs": [
    {
     "data": {
      "text/plain": [
       "                           station  cglo_j    rr  tl_mittel  vv_mittel  \\\n",
       "time                                                                     \n",
       "1999-04-09 00:00:00+00:00  13305.0     NaN -1.00        8.3       1.00   \n",
       "1999-04-09 01:00:00+00:00  13305.0     NaN  5.15        8.6       0.80   \n",
       "1999-04-09 02:00:00+00:00      NaN     NaN   NaN        NaN        NaN   \n",
       "1999-04-09 03:00:00+00:00  13305.0     NaN -0.30        8.0       1.25   \n",
       "1999-04-09 04:00:00+00:00  13305.0     NaN  7.70       11.5       0.60   \n",
       "\n",
       "                           p_mittel  tlmin  tlmax  \n",
       "time                                               \n",
       "1999-04-09 00:00:00+00:00    957.70   2.20  14.30  \n",
       "1999-04-09 01:00:00+00:00    943.55   5.35  11.85  \n",
       "1999-04-09 02:00:00+00:00       NaN    NaN    NaN  \n",
       "1999-04-09 03:00:00+00:00    945.90   1.90  14.05  \n",
       "1999-04-09 04:00:00+00:00    944.40   9.60  13.30  "
      ],
      "text/html": [
       "<div>\n",
       "<style scoped>\n",
       "    .dataframe tbody tr th:only-of-type {\n",
       "        vertical-align: middle;\n",
       "    }\n",
       "\n",
       "    .dataframe tbody tr th {\n",
       "        vertical-align: top;\n",
       "    }\n",
       "\n",
       "    .dataframe thead th {\n",
       "        text-align: right;\n",
       "    }\n",
       "</style>\n",
       "<table border=\"1\" class=\"dataframe\">\n",
       "  <thead>\n",
       "    <tr style=\"text-align: right;\">\n",
       "      <th></th>\n",
       "      <th>station</th>\n",
       "      <th>cglo_j</th>\n",
       "      <th>rr</th>\n",
       "      <th>tl_mittel</th>\n",
       "      <th>vv_mittel</th>\n",
       "      <th>p_mittel</th>\n",
       "      <th>tlmin</th>\n",
       "      <th>tlmax</th>\n",
       "    </tr>\n",
       "    <tr>\n",
       "      <th>time</th>\n",
       "      <th></th>\n",
       "      <th></th>\n",
       "      <th></th>\n",
       "      <th></th>\n",
       "      <th></th>\n",
       "      <th></th>\n",
       "      <th></th>\n",
       "      <th></th>\n",
       "    </tr>\n",
       "  </thead>\n",
       "  <tbody>\n",
       "    <tr>\n",
       "      <th>1999-04-09 00:00:00+00:00</th>\n",
       "      <td>13305.0</td>\n",
       "      <td>NaN</td>\n",
       "      <td>-1.00</td>\n",
       "      <td>8.3</td>\n",
       "      <td>1.00</td>\n",
       "      <td>957.70</td>\n",
       "      <td>2.20</td>\n",
       "      <td>14.30</td>\n",
       "    </tr>\n",
       "    <tr>\n",
       "      <th>1999-04-09 01:00:00+00:00</th>\n",
       "      <td>13305.0</td>\n",
       "      <td>NaN</td>\n",
       "      <td>5.15</td>\n",
       "      <td>8.6</td>\n",
       "      <td>0.80</td>\n",
       "      <td>943.55</td>\n",
       "      <td>5.35</td>\n",
       "      <td>11.85</td>\n",
       "    </tr>\n",
       "    <tr>\n",
       "      <th>1999-04-09 02:00:00+00:00</th>\n",
       "      <td>NaN</td>\n",
       "      <td>NaN</td>\n",
       "      <td>NaN</td>\n",
       "      <td>NaN</td>\n",
       "      <td>NaN</td>\n",
       "      <td>NaN</td>\n",
       "      <td>NaN</td>\n",
       "      <td>NaN</td>\n",
       "    </tr>\n",
       "    <tr>\n",
       "      <th>1999-04-09 03:00:00+00:00</th>\n",
       "      <td>13305.0</td>\n",
       "      <td>NaN</td>\n",
       "      <td>-0.30</td>\n",
       "      <td>8.0</td>\n",
       "      <td>1.25</td>\n",
       "      <td>945.90</td>\n",
       "      <td>1.90</td>\n",
       "      <td>14.05</td>\n",
       "    </tr>\n",
       "    <tr>\n",
       "      <th>1999-04-09 04:00:00+00:00</th>\n",
       "      <td>13305.0</td>\n",
       "      <td>NaN</td>\n",
       "      <td>7.70</td>\n",
       "      <td>11.5</td>\n",
       "      <td>0.60</td>\n",
       "      <td>944.40</td>\n",
       "      <td>9.60</td>\n",
       "      <td>13.30</td>\n",
       "    </tr>\n",
       "  </tbody>\n",
       "</table>\n",
       "</div>"
      ]
     },
     "execution_count": 13,
     "metadata": {},
     "output_type": "execute_result"
    }
   ],
   "execution_count": 13
  },
  {
   "metadata": {
    "ExecuteTime": {
     "end_time": "2025-05-14T12:03:05.939110Z",
     "start_time": "2025-05-14T12:03:05.929265Z"
    }
   },
   "cell_type": "code",
   "source": [
    "# Mean however, depends on your context if this is a sensible thing to do:\n",
    "df.resample('1h').mean()"
   ],
   "id": "8c92a887d5ca8204",
   "outputs": [
    {
     "data": {
      "text/plain": [
       "                           station  cglo_j    rr  tl_mittel  vv_mittel  \\\n",
       "time                                                                     \n",
       "1999-04-09 00:00:00+00:00  13305.0     NaN -1.00   8.866667   1.166667   \n",
       "1999-04-09 01:00:00+00:00  13305.0     NaN  5.15   8.600000   0.800000   \n",
       "1999-04-09 02:00:00+00:00      NaN     NaN   NaN        NaN        NaN   \n",
       "1999-04-09 03:00:00+00:00  13305.0     NaN -0.30   8.000000   1.250000   \n",
       "1999-04-09 04:00:00+00:00  13305.0     NaN  7.70  11.500000   0.600000   \n",
       "\n",
       "                             p_mittel     tlmin      tlmax  \n",
       "time                                                        \n",
       "1999-04-09 00:00:00+00:00  957.233333  3.033333  14.666667  \n",
       "1999-04-09 01:00:00+00:00  943.550000  5.350000  11.850000  \n",
       "1999-04-09 02:00:00+00:00         NaN       NaN        NaN  \n",
       "1999-04-09 03:00:00+00:00  945.900000  1.900000  14.050000  \n",
       "1999-04-09 04:00:00+00:00  944.400000  9.600000  13.300000  "
      ],
      "text/html": [
       "<div>\n",
       "<style scoped>\n",
       "    .dataframe tbody tr th:only-of-type {\n",
       "        vertical-align: middle;\n",
       "    }\n",
       "\n",
       "    .dataframe tbody tr th {\n",
       "        vertical-align: top;\n",
       "    }\n",
       "\n",
       "    .dataframe thead th {\n",
       "        text-align: right;\n",
       "    }\n",
       "</style>\n",
       "<table border=\"1\" class=\"dataframe\">\n",
       "  <thead>\n",
       "    <tr style=\"text-align: right;\">\n",
       "      <th></th>\n",
       "      <th>station</th>\n",
       "      <th>cglo_j</th>\n",
       "      <th>rr</th>\n",
       "      <th>tl_mittel</th>\n",
       "      <th>vv_mittel</th>\n",
       "      <th>p_mittel</th>\n",
       "      <th>tlmin</th>\n",
       "      <th>tlmax</th>\n",
       "    </tr>\n",
       "    <tr>\n",
       "      <th>time</th>\n",
       "      <th></th>\n",
       "      <th></th>\n",
       "      <th></th>\n",
       "      <th></th>\n",
       "      <th></th>\n",
       "      <th></th>\n",
       "      <th></th>\n",
       "      <th></th>\n",
       "    </tr>\n",
       "  </thead>\n",
       "  <tbody>\n",
       "    <tr>\n",
       "      <th>1999-04-09 00:00:00+00:00</th>\n",
       "      <td>13305.0</td>\n",
       "      <td>NaN</td>\n",
       "      <td>-1.00</td>\n",
       "      <td>8.866667</td>\n",
       "      <td>1.166667</td>\n",
       "      <td>957.233333</td>\n",
       "      <td>3.033333</td>\n",
       "      <td>14.666667</td>\n",
       "    </tr>\n",
       "    <tr>\n",
       "      <th>1999-04-09 01:00:00+00:00</th>\n",
       "      <td>13305.0</td>\n",
       "      <td>NaN</td>\n",
       "      <td>5.15</td>\n",
       "      <td>8.600000</td>\n",
       "      <td>0.800000</td>\n",
       "      <td>943.550000</td>\n",
       "      <td>5.350000</td>\n",
       "      <td>11.850000</td>\n",
       "    </tr>\n",
       "    <tr>\n",
       "      <th>1999-04-09 02:00:00+00:00</th>\n",
       "      <td>NaN</td>\n",
       "      <td>NaN</td>\n",
       "      <td>NaN</td>\n",
       "      <td>NaN</td>\n",
       "      <td>NaN</td>\n",
       "      <td>NaN</td>\n",
       "      <td>NaN</td>\n",
       "      <td>NaN</td>\n",
       "    </tr>\n",
       "    <tr>\n",
       "      <th>1999-04-09 03:00:00+00:00</th>\n",
       "      <td>13305.0</td>\n",
       "      <td>NaN</td>\n",
       "      <td>-0.30</td>\n",
       "      <td>8.000000</td>\n",
       "      <td>1.250000</td>\n",
       "      <td>945.900000</td>\n",
       "      <td>1.900000</td>\n",
       "      <td>14.050000</td>\n",
       "    </tr>\n",
       "    <tr>\n",
       "      <th>1999-04-09 04:00:00+00:00</th>\n",
       "      <td>13305.0</td>\n",
       "      <td>NaN</td>\n",
       "      <td>7.70</td>\n",
       "      <td>11.500000</td>\n",
       "      <td>0.600000</td>\n",
       "      <td>944.400000</td>\n",
       "      <td>9.600000</td>\n",
       "      <td>13.300000</td>\n",
       "    </tr>\n",
       "  </tbody>\n",
       "</table>\n",
       "</div>"
      ]
     },
     "execution_count": 18,
     "metadata": {},
     "output_type": "execute_result"
    }
   ],
   "execution_count": 18
  },
  {
   "metadata": {
    "ExecuteTime": {
     "end_time": "2025-05-14T12:03:33.704630Z",
     "start_time": "2025-05-14T12:03:33.697222Z"
    }
   },
   "cell_type": "code",
   "source": [
    "# For example the tlmin in the original data is:\n",
    "# 1999-04-09 00:00:00+00:00       2.2\n",
    "# 1999-04-09 00:02:00+00:00      -0.6\n",
    "# 1999-04-09 00:10:00+00:00       7.5\n",
    "\n",
    "df.resample('1h').mean().loc['1999-04-09 00:00:00+00:00']\n",
    "\n"
   ],
   "id": "2ff1c4ec675db66a",
   "outputs": [
    {
     "data": {
      "text/plain": [
       "station      13305.000000\n",
       "cglo_j                NaN\n",
       "rr              -1.000000\n",
       "tl_mittel        8.866667\n",
       "vv_mittel        1.166667\n",
       "p_mittel       957.233333\n",
       "tlmin            3.033333\n",
       "tlmax           14.666667\n",
       "Name: 1999-04-09 00:00:00+00:00, dtype: float64"
      ]
     },
     "execution_count": 21,
     "metadata": {},
     "output_type": "execute_result"
    }
   ],
   "execution_count": 21
  },
  {
   "metadata": {
    "ExecuteTime": {
     "end_time": "2025-05-14T12:05:10.155514Z",
     "start_time": "2025-05-14T12:05:10.152313Z"
    }
   },
   "cell_type": "code",
   "source": [
    "# tlmin = 3.033333333333333 according to pandas mean\n",
    "# which is exactly the mean of the values that occurred within this hour\n",
    "(2.2 + (-0.6) + 7.5)/3\n",
    "\n",
    "# however, depending on your context and use case, it may be sensible to consider the time between these timestamps as the -0.6 was occurring only for a short time inbetween the other measurements."
   ],
   "id": "299755c25a5b581e",
   "outputs": [
    {
     "data": {
      "text/plain": [
       "3.033333333333333"
      ]
     },
     "execution_count": 24,
     "metadata": {},
     "output_type": "execute_result"
    }
   ],
   "execution_count": 24
  },
  {
   "metadata": {},
   "cell_type": "markdown",
   "source": [
    "There are multiple ways to deal with such scenarios.\n",
    "One would be to upsample to a really high frequency (e.g. 1 second) under forward fill condition under the assumption that the values stayed the same until a new value arrived, and the downsample again with a mean for an hour.\n",
    "Or upsample to a really high frequency (e.g. 1 second) under linear interpolation conditon with the assumption that the values change continuously between measurements and then downsample again with a mean.\n",
    "The other option being writing a custom resampling method or numerically integrating the intervals."
   ],
   "id": "16b764c3d3bb1c13"
  }
 ],
 "metadata": {
  "kernelspec": {
   "display_name": "Python 3",
   "language": "python",
   "name": "python3"
  },
  "language_info": {
   "codemirror_mode": {
    "name": "ipython",
    "version": 2
   },
   "file_extension": ".py",
   "mimetype": "text/x-python",
   "name": "python",
   "nbconvert_exporter": "python",
   "pygments_lexer": "ipython2",
   "version": "2.7.6"
  }
 },
 "nbformat": 4,
 "nbformat_minor": 5
}
