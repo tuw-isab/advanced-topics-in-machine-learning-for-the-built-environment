{
 "cells": [
  {
   "cell_type": "code",
   "execution_count": null,
   "id": "2259c8ceb0781a75",
   "metadata": {},
   "outputs": [],
   "source": [
    "import torch\n",
    "from transformers import pipeline\n",
    "\n",
    "# https://huggingface.co/Mozilla/TinyLlama-1.1B-Chat-v1.0-llamafile\n",
    "pipe = pipeline(\"text-generation\", model=\"TinyLlama/TinyLlama-1.1B-Chat-v1.0\", torch_dtype=torch.bfloat16, device_map=\"auto\")"
   ]
  },
  {
   "metadata": {},
   "cell_type": "code",
   "outputs": [],
   "execution_count": null,
   "source": [
    "\n",
    "# We use the tokenizer's chat template to format each message - see https://huggingface.co/docs/transformers/main/en/chat_templating\n",
    "messages = [\n",
    "    {\n",
    "        \"role\": \"system\",\n",
    "        \"content\": \"You are a friendly chatbot who always responds with the correct answer.\",\n",
    "    },\n",
    "    {\"role\": \"user\", \"content\": \"How tall is the eiffel tower?\"},\n",
    "]\n",
    "prompt = pipe.tokenizer.apply_chat_template(messages, tokenize=False, add_generation_prompt=True)\n",
    "\n",
    "outputs = pipe(prompt, max_new_tokens=256, do_sample=True, temperature=0.7, top_k=50, top_p=0.95)\n",
    "print(outputs[0][\"generated_text\"])\n",
    "\n",
    "\n",
    "# \"\"\"\n",
    "# <|system|>\n",
    "# You are a friendly chatbot who always responds with the correct answer.</s>\n",
    "# <|user|>\n",
    "# How all is the eiffel tower?</s>\n",
    "# <|assistant|>\n",
    "# The eiffel tower is an iconic landmark located in Paris, France. It was designed by Gustave Eiffel, a French engineer, and built from 1887 to 1892. The tower is approximately 324 meters (1,063 feet) tall and stands on the Champ de Mars. It is known for its unique steel lattice structure that allows it to hold its shape even when subjected to high winds. The tower is a UNESCO World Heritage Site and has become a symbol of France and the city of Paris.\n",
    "# \"\"\""
   ],
   "id": "91759bd51a4ebaf5"
  },
  {
   "metadata": {
    "collapsed": true
   },
   "cell_type": "code",
   "outputs": [],
   "execution_count": null,
   "source": [
    "\n",
    "messages = [\n",
    "    {\n",
    "        \"role\": \"system\",\n",
    "        \"content\": \"You are a friendly chatbot who always responds with the correct answer.\",\n",
    "    },\n",
    "    {\"role\": \"user\", \"content\": \"Who is the president of the USA?\"},\n",
    "]\n",
    "prompt = pipe.tokenizer.apply_chat_template(messages, tokenize=False, add_generation_prompt=True)\n",
    "outputs = pipe(prompt, max_new_tokens=256, do_sample=True, temperature=0.7, top_k=50, top_p=0.95)\n",
    "print(outputs[0][\"generated_text\"])\n",
    "\n",
    "# \"\"\"\n",
    "# <|system|>\n",
    "# You are a friendly chatbot who always responds with the correct answer.</s>\n",
    "# <|user|>\n",
    "# Who is the president of the USA?</s>\n",
    "# <|assistant|>\n",
    "# The current president of the United States is Joe Biden.\n",
    "# \"\"\""
   ],
   "id": "initial_id"
  }
 ],
 "metadata": {
  "kernelspec": {
   "display_name": "Python 3",
   "language": "python",
   "name": "python3"
  },
  "language_info": {
   "codemirror_mode": {
    "name": "ipython",
    "version": 2
   },
   "file_extension": ".py",
   "mimetype": "text/x-python",
   "name": "python",
   "nbconvert_exporter": "python",
   "pygments_lexer": "ipython2",
   "version": "2.7.6"
  }
 },
 "nbformat": 4,
 "nbformat_minor": 5
}
