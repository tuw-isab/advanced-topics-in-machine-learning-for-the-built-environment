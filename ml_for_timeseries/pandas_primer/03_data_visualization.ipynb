{
 "cells": [
  {
   "metadata": {},
   "cell_type": "markdown",
   "source": "# Data Visualization",
   "id": "6f715807a6f8d50a"
  },
  {
   "metadata": {},
   "cell_type": "markdown",
   "source": "Setup, load data, make timeseries index, slice to the years 1998 to 2017",
   "id": "dce7ba9440de0634"
  },
  {
   "metadata": {},
   "cell_type": "code",
   "source": [
    "import pandas\n",
    "df = pandas.read_csv('Messstationen_Tagesdaten_v2_Datensatz_19900101_20250515.csv')\n",
    "df['time'] = pandas.to_datetime(df['time'], utc=True)\n",
    "df = df.set_index('time', drop=True)\n",
    "df = df['1998-01-01 00:00:00': '2017-12-31 00:00:00']\n"
   ],
   "id": "614b5e803e44d76d",
   "outputs": [],
   "execution_count": null
  },
  {
   "metadata": {},
   "cell_type": "code",
   "source": "df",
   "id": "c6fa5c3ba10b7799",
   "outputs": [],
   "execution_count": null
  },
  {
   "metadata": {},
   "cell_type": "markdown",
   "source": "We can diretcly plot columns of a dataframe",
   "id": "2bc1c498de78ef0b"
  },
  {
   "metadata": {},
   "cell_type": "code",
   "source": [
    "import matplotlib.pyplot as plt\n",
    "\n",
    "df[['tlmin', 'tlmax']].plot()\n",
    "plt.show()"
   ],
   "id": "5a1789ce3ecd6d4a",
   "outputs": [],
   "execution_count": null
  },
  {
   "metadata": {},
   "cell_type": "markdown",
   "source": "Lets just plot a single year.",
   "id": "be0bc05cdd567d22"
  },
  {
   "metadata": {},
   "cell_type": "code",
   "source": [
    "\n",
    "df['2016-01-01 00:00': '2016-12-31 00:00'][['tlmin', 'tlmax']].plot()\n",
    "plt.show()"
   ],
   "id": "a6f3bae608335425",
   "outputs": [],
   "execution_count": null
  },
  {
   "metadata": {},
   "cell_type": "markdown",
   "source": "**Exercise**: Plot the yearly average temperatures.",
   "id": "5568c7409438f33c"
  },
  {
   "metadata": {},
   "cell_type": "code",
   "source": "",
   "id": "47b34ae363f43043",
   "outputs": [],
   "execution_count": null
  },
  {
   "metadata": {},
   "cell_type": "markdown",
   "source": "## Pariplot",
   "id": "377f0e938e763ee3"
  },
  {
   "metadata": {},
   "cell_type": "markdown",
   "source": [
    "To get a better grasp for a new dataset, especially to investigate the interplay of features, you probably want to see a lot of plots.\n",
    "seabor is a wrapper around matplotlib that provides additional helper methods."
   ],
   "id": "c22586f775c2ed20"
  },
  {
   "metadata": {},
   "cell_type": "code",
   "source": [
    "import seaborn as sns\n",
    "\n",
    "sns.pairplot(df)"
   ],
   "id": "292f90e6dd7823c3",
   "outputs": [],
   "execution_count": null
  },
  {
   "metadata": {},
   "cell_type": "markdown",
   "source": "## Histograms",
   "id": "1a0b8dec8d488da6"
  },
  {
   "metadata": {},
   "cell_type": "code",
   "source": [
    "sns.displot(df['tl_mittel'], kde=True)\n",
    "plt.show()"
   ],
   "id": "acaeb1fcd88f7174",
   "outputs": [],
   "execution_count": null
  },
  {
   "metadata": {},
   "cell_type": "markdown",
   "source": "## Cross Correlation",
   "id": "a505cffdc3c19e86"
  },
  {
   "metadata": {},
   "cell_type": "code",
   "source": [
    "import numpy as np\n",
    "\n",
    "correlations = df.corr()\n",
    "mask = np.triu(np.ones_like(correlations, dtype=bool))\n",
    "cmap = sns.diverging_palette(230, 20, as_cmap=True)\n",
    "sns.heatmap(correlations, mask=mask, cmap=cmap)\n",
    "plt.show()"
   ],
   "id": "89b857951c343a87",
   "outputs": [],
   "execution_count": null
  },
  {
   "metadata": {},
   "cell_type": "markdown",
   "source": "",
   "id": "98f9725b0c4411d7"
  },
  {
   "metadata": {},
   "cell_type": "markdown",
   "source": "## Boxplots",
   "id": "b7e5197ab0e22eeb"
  },
  {
   "metadata": {},
   "cell_type": "code",
   "source": [
    "df[['tl_mittel', 'tlmin', 'tlmax']].boxplot()\n",
    "plt.show()"
   ],
   "id": "8218e116e44e1848",
   "outputs": [],
   "execution_count": null
  }
 ],
 "metadata": {
  "kernelspec": {
   "display_name": "Python 3",
   "language": "python",
   "name": "python3"
  },
  "language_info": {
   "codemirror_mode": {
    "name": "ipython",
    "version": 2
   },
   "file_extension": ".py",
   "mimetype": "text/x-python",
   "name": "python",
   "nbconvert_exporter": "python",
   "pygments_lexer": "ipython2",
   "version": "2.7.6"
  }
 },
 "nbformat": 4,
 "nbformat_minor": 5
}
