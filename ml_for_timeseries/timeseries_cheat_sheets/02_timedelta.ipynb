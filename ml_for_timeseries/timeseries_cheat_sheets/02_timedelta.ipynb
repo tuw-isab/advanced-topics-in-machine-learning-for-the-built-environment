{
 "cells": [
  {
   "cell_type": "markdown",
   "id": "dace6f9183cb1a4e",
   "metadata": {},
   "source": [
    "# Doing calcualtions with datetime"
   ]
  },
  {
   "cell_type": "code",
   "id": "initial_id",
   "metadata": {},
   "source": [
    "from datetime import datetime, timedelta"
   ],
   "outputs": [],
   "execution_count": null
  },
  {
   "cell_type": "code",
   "id": "7384579830841c74",
   "metadata": {},
   "source": [
    "dt1 = datetime.fromisoformat('2025-05-14T10:30:09Z')\n",
    "dt2 = datetime.fromisoformat('2025-05-12T21:12:33Z')"
   ],
   "outputs": [],
   "execution_count": null
  },
  {
   "cell_type": "code",
   "id": "c70628e26e1440dc",
   "metadata": {},
   "source": [
    "dt1 - dt2"
   ],
   "outputs": [],
   "execution_count": null
  },
  {
   "cell_type": "code",
   "id": "fe7ab5796a5528c4",
   "metadata": {},
   "source": [
    "td = timedelta(hours=5)\n",
    "dt1 + td"
   ],
   "outputs": [],
   "execution_count": null
  },
  {
   "cell_type": "code",
   "id": "93f6233a352baf84",
   "metadata": {},
   "source": [
    "td = timedelta(days=1, hours=5, minutes=2, seconds=1)\n",
    "dt1 + td"
   ],
   "outputs": [],
   "execution_count": null
  }
 ],
 "metadata": {
  "kernelspec": {
   "display_name": "Python 3 (ipykernel)",
   "language": "python",
   "name": "python3"
  },
  "language_info": {
   "codemirror_mode": {
    "name": "ipython",
    "version": 3
   },
   "file_extension": ".py",
   "mimetype": "text/x-python",
   "name": "python",
   "nbconvert_exporter": "python",
   "pygments_lexer": "ipython3",
   "version": "3.11.11"
  }
 },
 "nbformat": 4,
 "nbformat_minor": 5
}
