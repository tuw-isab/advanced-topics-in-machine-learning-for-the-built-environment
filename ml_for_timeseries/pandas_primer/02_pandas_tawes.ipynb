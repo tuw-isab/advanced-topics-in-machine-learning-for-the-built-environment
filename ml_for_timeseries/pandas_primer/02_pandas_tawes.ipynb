{
 "cells": [
  {
   "metadata": {},
   "cell_type": "markdown",
   "source": "# Real world data - TAWES",
   "id": "ca22802d3a89edc5"
  },
  {
   "metadata": {},
   "cell_type": "markdown",
   "source": "## Tawes weather data example",
   "id": "e13e8485f04fb928"
  },
  {
   "metadata": {},
   "cell_type": "markdown",
   "source": [
    "Tawes weather data for Vienna city center from 1990 to 2025 is in `Messstationen_Tagesdaten_v2_Datensatz_19900101_20250515.csv`.\n",
    "CSV (Comma Separated Value) files can be read with pandas (amongst many other file formats)."
   ],
   "id": "cbf954296ae85116"
  },
  {
   "metadata": {},
   "cell_type": "code",
   "source": [
    "import pandas\n",
    "df = pandas.read_csv('Messstationen_Tagesdaten_v2_Datensatz_19900101_20250515.csv')\n",
    "df.head()"
   ],
   "id": "223a0ab54fd6b2e1",
   "outputs": [],
   "execution_count": null
  },
  {
   "metadata": {},
   "cell_type": "markdown",
   "source": [
    "tl_mittel is average air temperature, tlmin and tlmax are the respective temperature extrema on these days, rf_mittel is mean relative humidity for this day.\n",
    "However, there are no values. NaN is short for Not A Number. And if there is no value in this row (that is otherwise numeric in nature) it simple fills it with this NaN indicator."
   ],
   "id": "1bad73c305a073b5"
  },
  {
   "metadata": {},
   "cell_type": "markdown",
   "source": "So how to get rid of those NaNs?\n",
   "id": "d13dd097d4a47669"
  },
  {
   "metadata": {},
   "cell_type": "code",
   "source": "df.dropna().head()",
   "id": "c6f26ee6281ee4f1",
   "outputs": [],
   "execution_count": null
  },
  {
   "metadata": {},
   "cell_type": "markdown",
   "source": "This however drops all rows that contain a NaN in any place. clgo was not available until later (2002) so we loose a lot of data. We want to know at least when all temperature values were available)",
   "id": "7faa1c9f0fa34b64"
  },
  {
   "metadata": {},
   "cell_type": "code",
   "source": "df.dropna(subset=['tl_mittel', 'tlmax', 'tlmin']).head()",
   "id": "5401fb906d43c9af",
   "outputs": [],
   "execution_count": null
  },
  {
   "metadata": {},
   "cell_type": "code",
   "source": "df\n",
   "id": "84f129630839efd0",
   "outputs": [],
   "execution_count": null
  },
  {
   "metadata": {},
   "cell_type": "markdown",
   "source": "## Accessing columns",
   "id": "f70eb7889a1e4203"
  },
  {
   "metadata": {},
   "cell_type": "markdown",
   "source": "One can access separate columns (can be multiple) like we would with a dictionary:",
   "id": "8e42d014b671748b"
  },
  {
   "metadata": {},
   "cell_type": "code",
   "source": "df['tl_mittel']",
   "id": "cedffcc8d38c05d3",
   "outputs": [],
   "execution_count": null
  },
  {
   "metadata": {},
   "cell_type": "code",
   "source": "df[['tl_mittel', 'tlmin', 'tlmax']]",
   "id": "7a67c9547fcb284b",
   "outputs": [],
   "execution_count": null
  },
  {
   "metadata": {},
   "cell_type": "markdown",
   "source": "## Basic maths operations",
   "id": "9c58cbc315b3a07f"
  },
  {
   "metadata": {},
   "cell_type": "markdown",
   "source": "Lets do some basic operations. Make a new column with the temperature differential tlmax - tmin.",
   "id": "dd2aab1a31003d71"
  },
  {
   "metadata": {},
   "cell_type": "code",
   "source": [
    "df['tl_diff'] = df['tlmax'] - df['tlmin']\n",
    "df.head()"
   ],
   "id": "263266fd45621768",
   "outputs": [],
   "execution_count": null
  },
  {
   "metadata": {},
   "cell_type": "markdown",
   "source": "**Exercise**: Create a new column named 'freezing' that contains True if the min temparature was below 0 and False otherwise.",
   "id": "af0dc3d55f004ca0"
  },
  {
   "metadata": {},
   "cell_type": "code",
   "source": "",
   "id": "fc48a781df623682",
   "outputs": [],
   "execution_count": null
  },
  {
   "metadata": {},
   "cell_type": "markdown",
   "source": "**Exercise**: Instead of True and False this freezing column should contain 1 and 0 (1 if True, 0 if False)",
   "id": "da1b3c2a6690510f"
  },
  {
   "metadata": {},
   "cell_type": "code",
   "source": "",
   "id": "6829041c792d755b",
   "outputs": [],
   "execution_count": null
  },
  {
   "metadata": {},
   "cell_type": "markdown",
   "source": "## Basic stats",
   "id": "d803c5f98bacf724"
  },
  {
   "metadata": {},
   "cell_type": "markdown",
   "source": "Get some basic statistics on the data using describe().",
   "id": "1a91c79741a1b904"
  },
  {
   "metadata": {},
   "cell_type": "code",
   "source": "df.describe()",
   "id": "6751b4af7a71a8a0",
   "outputs": [],
   "execution_count": null
  },
  {
   "metadata": {},
   "cell_type": "markdown",
   "source": "## Conditional slicing, finding and counting occurrences",
   "id": "82d080c702c51f58"
  },
  {
   "metadata": {},
   "cell_type": "markdown",
   "source": [
    "When was the coldest day in Vienna? We can see above that tlmin had a lowest value of -15.4, but when?\n",
    "We can use conditions that evaluate to true or false (like the freezing one above) as indexers."
   ],
   "id": "73660ff4a67d59fe"
  },
  {
   "metadata": {},
   "cell_type": "code",
   "source": "df['tlmin'] == -15.4",
   "id": "8f9d1aa99a8ec97d",
   "outputs": [],
   "execution_count": null
  },
  {
   "metadata": {},
   "cell_type": "code",
   "source": "df[df['tlmin'] == -15.4]\n",
   "id": "43f0efd0dc740b8",
   "outputs": [],
   "execution_count": null
  },
  {
   "metadata": {},
   "cell_type": "markdown",
   "source": "We can use this to select whole ranges of data where some condition applies. E.g. select all data where it was freezing.",
   "id": "a0b49af0e7e69dc9"
  },
  {
   "metadata": {},
   "cell_type": "code",
   "source": [
    "df['freezing'] = (df['tlmin'] < 0).astype(int)\n",
    "df[df['freezing'] == 1]"
   ],
   "id": "e70258c222019e32",
   "outputs": [],
   "execution_count": null
  },
  {
   "metadata": {},
   "cell_type": "markdown",
   "source": "We can use value_counts to see what value occurs how often in the dataframe.",
   "id": "97445fb2fbf18d8b"
  },
  {
   "metadata": {},
   "cell_type": "code",
   "source": "df['freezing'].value_counts()",
   "id": "a2225c0656804dca",
   "outputs": [],
   "execution_count": null
  },
  {
   "metadata": {},
   "cell_type": "markdown",
   "source": "**Exercise**: How many days were the temperature was always freezing (look at tlmax) and what percentage of the time does this represent.",
   "id": "2d8881a487567323"
  },
  {
   "metadata": {},
   "cell_type": "code",
   "source": "",
   "id": "7af5d74810c854ef",
   "outputs": [],
   "execution_count": null
  },
  {
   "metadata": {},
   "cell_type": "markdown",
   "source": "## Time indexed DataFrames",
   "id": "27de935586512a24"
  },
  {
   "metadata": {},
   "cell_type": "markdown",
   "source": "Pandas supports datetime indices",
   "id": "c48287648641aa08"
  },
  {
   "metadata": {},
   "cell_type": "code",
   "source": [
    "df['time'] = pandas.to_datetime(df['time'], utc=True)\n",
    "df = df.set_index('time', drop=True)"
   ],
   "id": "451dd740a0ee9d2c",
   "outputs": [],
   "execution_count": null
  },
  {
   "metadata": {},
   "cell_type": "code",
   "source": "df.head()\n",
   "id": "da77dc46bf6b8462",
   "outputs": [],
   "execution_count": null
  },
  {
   "metadata": {},
   "cell_type": "markdown",
   "source": "Now we can index rows based on times.",
   "id": "bd3ba934929d6960"
  },
  {
   "metadata": {},
   "cell_type": "code",
   "source": "df['2011-03-01 00:00': '2011-03-02 00:00']",
   "id": "1261ae1429b494ee",
   "outputs": [],
   "execution_count": null
  },
  {
   "metadata": {},
   "cell_type": "markdown",
   "source": [
    "We can now resample the dataframe to some other resolution. Resampling to a lower frequency is called downsampling, to a higher frequency this is called upsampling.\n",
    "\n",
    "When resampling, one has to specify a frequency and a method.\n",
    "\n",
    "For example yearly avarages:\n"
   ],
   "id": "bbaa89815a275edb"
  },
  {
   "metadata": {},
   "cell_type": "code",
   "source": "df.resample('1YS').mean() ",
   "id": "5954f49c72524bd3",
   "outputs": [],
   "execution_count": null
  },
  {
   "metadata": {},
   "cell_type": "markdown",
   "source": [
    "We can also resample to a higher frequency than the original data.\n",
    "\n",
    "For example upsampling to hourly frequency while using linear interpolation."
   ],
   "id": "e70b56706e08af20"
  },
  {
   "metadata": {},
   "cell_type": "code",
   "source": [
    "small_df = df['2011-03-01 00:00': '2011-03-07 00:00'].copy() \n",
    "small_df.resample('1h').interpolate()\n"
   ],
   "id": "42d833620e56b255",
   "outputs": [],
   "execution_count": null
  },
  {
   "metadata": {},
   "cell_type": "markdown",
   "source": "**Exercise**: Resample the 'freezing' column to yearly frequency providing not the mean (as in the examples above) but the sum within each year.",
   "id": "fd8f8aeffcadca50"
  },
  {
   "metadata": {},
   "cell_type": "code",
   "source": "",
   "id": "6dae9cfffb530ce4",
   "outputs": [],
   "execution_count": null
  },
  {
   "metadata": {},
   "cell_type": "markdown",
   "source": "",
   "id": "a7d4098b7fba4e07"
  }
 ],
 "metadata": {
  "kernelspec": {
   "display_name": "Python 3",
   "language": "python",
   "name": "python3"
  },
  "language_info": {
   "codemirror_mode": {
    "name": "ipython",
    "version": 2
   },
   "file_extension": ".py",
   "mimetype": "text/x-python",
   "name": "python",
   "nbconvert_exporter": "python",
   "pygments_lexer": "ipython2",
   "version": "2.7.6"
  }
 },
 "nbformat": 4,
 "nbformat_minor": 5
}
