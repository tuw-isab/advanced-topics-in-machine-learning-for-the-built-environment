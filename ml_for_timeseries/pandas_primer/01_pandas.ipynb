{
 "cells": [
  {
   "metadata": {},
   "cell_type": "markdown",
   "source": "# Pandas",
   "id": "ca22802d3a89edc5"
  },
  {
   "metadata": {},
   "cell_type": "markdown",
   "source": "Pandas is a library for data analysis and data manipulation.\n",
   "id": "1f4260a66f2c1e19"
  },
  {
   "metadata": {},
   "cell_type": "code",
   "source": [
    "import pandas\n",
    "\n",
    "pandas.DataFrame({'A':[1,2,3],'B':[4,5,6]})\n"
   ],
   "id": "5a48068b87684742",
   "outputs": [],
   "execution_count": null
  },
  {
   "metadata": {},
   "cell_type": "markdown",
   "source": "",
   "id": "d00f9ccd9bc0700e"
  },
  {
   "metadata": {},
   "cell_type": "markdown",
   "source": [
    "Whats the difference between numpy and pandas?\n",
    "\n",
    "numpy provides the numerical methods and mathematical methods, and can do matrix manipulation in a very efficient and fast way. (its like matlab inside python but with a nicer syntax and no vendor-lock-in)\n",
    "\n",
    "pandas is based on numpy, but is aimed towards data analysis and ease of use. E.g. we now have headers for columns, while in numpy you yourself have to keep track of what is what. (its like the equivalent of excel in python, with the exception that its actually useable at scale)\n",
    "\n",
    "In short - if you want to perform some complex mathematical operations on matrices, use numpy. - if you are working with measurements or other tabular data"
   ],
   "id": "f79c53cd3c1db2d4"
  },
  {
   "metadata": {},
   "cell_type": "markdown",
   "source": "## Working with dataframes",
   "id": "59cf66ac7a3a7489"
  },
  {
   "metadata": {},
   "cell_type": "code",
   "source": [
    "import pandas as pd\n",
    "data = {\n",
    "    'Name': ['Alice', 'Bob', 'Charlie', 'Diana', 'Edward', 'Fiona', 'George', 'Hannah', 'Ivan', 'Julia'],\n",
    "    'Height': [165, 170, 175, 160, 180, 155, 168, 172, 178, 169], \n",
    "    'Age': [25, 32, 40, 22, 28, 30, 35, 26, 41, 29],\n",
    "    'YearsStudying': [2, 5, 4, 1, 4, 4, 7, 3, 6, 2],\n",
    "    'Sex': ['Female', 'Male', 'Male', 'Female', 'Male', 'Female', 'Male', 'Female', 'Male', 'Female']\n",
    "}\n",
    "\n",
    "df = pd.DataFrame(data)\n",
    "df"
   ],
   "id": "91b343437e41ef08",
   "outputs": [],
   "execution_count": null
  },
  {
   "metadata": {},
   "cell_type": "markdown",
   "source": "`describe` create a very basic statistical overview of the dataset:",
   "id": "ee60c84d98026163"
  },
  {
   "metadata": {},
   "cell_type": "code",
   "source": "df.describe()",
   "id": "d9573710fafff13a",
   "outputs": [],
   "execution_count": null
  },
  {
   "metadata": {},
   "cell_type": "markdown",
   "source": "## Indexing Rows",
   "id": "a0ba5c1e67dfa4fe"
  },
  {
   "metadata": {},
   "cell_type": "markdown",
   "source": "The first column of the dataframe is the index. We can access rows in this dataframe the same way we did using indexes in lists. in the case of dataframes using the iloc function. (stands for integer location, so just the integer row number)",
   "id": "81b5ef30b6583426"
  },
  {
   "metadata": {},
   "cell_type": "code",
   "source": "df.iloc[0]",
   "id": "619d9ee5b1248bea",
   "outputs": [],
   "execution_count": null
  },
  {
   "metadata": {},
   "cell_type": "markdown",
   "source": "Slicing operateors also work",
   "id": "a7d4098b7fba4e07"
  },
  {
   "metadata": {},
   "cell_type": "code",
   "source": "df.iloc[3:5]",
   "id": "6e51be25134cf7c",
   "outputs": [],
   "execution_count": null
  },
  {
   "metadata": {},
   "cell_type": "markdown",
   "source": "## Indexing columns",
   "id": "dfcb5c60bcbde2e4"
  },
  {
   "metadata": {},
   "cell_type": "markdown",
   "source": "We can access single columns similar to dictionaries.",
   "id": "259c1659486ef04e"
  },
  {
   "metadata": {},
   "cell_type": "code",
   "source": "df['Height']",
   "id": "fab7729ad7ce9fc9",
   "outputs": [],
   "execution_count": null
  },
  {
   "metadata": {},
   "cell_type": "markdown",
   "source": "We can use lists of column names to get multiple with one operation",
   "id": "8c8f35e60749ec3a"
  },
  {
   "metadata": {},
   "cell_type": "code",
   "source": "df[['Height', 'Age']]",
   "id": "c484ecb2f9194768",
   "outputs": [],
   "execution_count": null
  },
  {
   "metadata": {},
   "cell_type": "markdown",
   "source": "To extract a specific value given row and column name",
   "id": "2d408a0f475d3d27"
  },
  {
   "metadata": {},
   "cell_type": "code",
   "source": "df.iloc[3]['Height']",
   "id": "c63dbc70c7b306db",
   "outputs": [],
   "execution_count": null
  },
  {
   "metadata": {},
   "cell_type": "code",
   "source": "df['Height'].iloc[3]",
   "id": "1e5ea949c89c56e8",
   "outputs": [],
   "execution_count": null
  },
  {
   "metadata": {},
   "cell_type": "markdown",
   "source": "",
   "id": "15b4b6e3b9e2b421"
  },
  {
   "metadata": {},
   "cell_type": "markdown",
   "source": "## Mathematical operations on columns",
   "id": "7897b4a0a3aed7b3"
  },
  {
   "metadata": {},
   "cell_type": "markdown",
   "source": [
    "Columns can be used to perform mathematical operations in bulk. Very similar to numpy (pandas actually uses numpy behind the curtain to do this).\n",
    "So we do not need loops, but can apply mathemtical operations directly to a whole bunch of data."
   ],
   "id": "b5b8967caeda171b"
  },
  {
   "metadata": {},
   "cell_type": "markdown",
   "source": "For example, how old were they when they started studying?",
   "id": "33e0e2ec018cebd5"
  },
  {
   "metadata": {},
   "cell_type": "code",
   "source": [
    "\n",
    "df['Age'] - df['YearsStudying']"
   ],
   "id": "a1a5cd3b715cd975",
   "outputs": [],
   "execution_count": null
  },
  {
   "metadata": {},
   "cell_type": "markdown",
   "source": "## Adding new columns",
   "id": "a0296e75f9964029"
  },
  {
   "metadata": {},
   "cell_type": "markdown",
   "source": "Lets add the age when starting their studies back to the dataframe as a new column",
   "id": "d97a9242e12d23cf"
  },
  {
   "metadata": {},
   "cell_type": "code",
   "source": [
    "df['StartAge'] = df['Age'] - df['YearsStudying']\n",
    "df\n"
   ],
   "id": "e6fb118334933a08",
   "outputs": [],
   "execution_count": null
  },
  {
   "metadata": {},
   "cell_type": "markdown",
   "source": "**Exercise**: Calculate what percentage of their lifespan people have been studying (years studying / height) * 100",
   "id": "7268af514b6ed222"
  },
  {
   "metadata": {},
   "cell_type": "code",
   "source": "",
   "id": "90290595b360205e",
   "outputs": [],
   "execution_count": null
  },
  {
   "metadata": {},
   "cell_type": "markdown",
   "source": "## Separating data based on conditions and grouping",
   "id": "dd64e04952e5fbb6"
  },
  {
   "metadata": {},
   "cell_type": "markdown",
   "source": "While slicing per index is useful, in practice we are often interested to look only at a specific part of the data to perform some analysis. For example, compare the height of male and female students.",
   "id": "416a0f6be3a81766"
  },
  {
   "metadata": {},
   "cell_type": "markdown",
   "source": "We can create True/False vectors if some condition is fulfilled or not:",
   "id": "1e176db75f5d8bd8"
  },
  {
   "metadata": {},
   "cell_type": "code",
   "source": "df['Sex'] == 'Male'",
   "id": "e81cdbb496cff94d",
   "outputs": [],
   "execution_count": null
  },
  {
   "metadata": {},
   "cell_type": "markdown",
   "source": "While this alone isnt that useful, such a vector of booleans can be use as an indexer. In the following example, we use this to select only the males from the dataframe.",
   "id": "9479e0ba46b36366"
  },
  {
   "metadata": {},
   "cell_type": "code",
   "source": "df[df['Sex'] == 'Male']",
   "id": "14d7afdd566ab308",
   "outputs": [],
   "execution_count": null
  },
  {
   "metadata": {},
   "cell_type": "markdown",
   "source": "**Exercise**: Select all rows where the height is above 175",
   "id": "9822477a111c2559"
  },
  {
   "metadata": {},
   "cell_type": "code",
   "source": "",
   "id": "9e1a1a2be2adc5d9",
   "outputs": [],
   "execution_count": null
  },
  {
   "metadata": {},
   "cell_type": "markdown",
   "source": "We can also chain such conditions, however, syntax is slightly different than regular python boolean operations",
   "id": "a1e617b1a245f8cf"
  },
  {
   "metadata": {},
   "cell_type": "code",
   "source": "df[(df['Sex'] == 'Male') & (df['Age'] >= 35)]\n",
   "id": "b6560ccd04a0103b",
   "outputs": [],
   "execution_count": null
  },
  {
   "metadata": {},
   "cell_type": "markdown",
   "source": "**Exercise**: Select all rows of males with a height greater than 175\n",
   "id": "65efadca9d9851fc"
  },
  {
   "metadata": {},
   "cell_type": "code",
   "source": "",
   "id": "921e9d673039e91",
   "outputs": [],
   "execution_count": null
  },
  {
   "metadata": {},
   "cell_type": "markdown",
   "source": "## Basic math functions on columns (or rows)",
   "id": "8db9f81038e813e5"
  },
  {
   "metadata": {},
   "cell_type": "markdown",
   "source": "What weve already seen with 'describe' we can perform selectively aswell",
   "id": "a7b8a14143c6ff4a"
  },
  {
   "metadata": {},
   "cell_type": "code",
   "source": [
    "print(df['Age'].mean())\n",
    "print(df['Age'].std())"
   ],
   "id": "f260fb363085faa",
   "outputs": [],
   "execution_count": null
  },
  {
   "metadata": {},
   "cell_type": "markdown",
   "source": "Also, all kinds of maths functions are available in pandas",
   "id": "fd45d2926c102926"
  },
  {
   "metadata": {},
   "cell_type": "code",
   "source": [
    "print(df['Age'].sum())\n",
    "print(df['Age'].min())\n",
    "print(df['Age'].max())\n"
   ],
   "id": "58e1e4e3908406c8",
   "outputs": [],
   "execution_count": null
  },
  {
   "metadata": {},
   "cell_type": "markdown",
   "source": "Some functions return not a skalar, but again a series (a column)",
   "id": "1a70a7aa7acd6e14"
  },
  {
   "metadata": {},
   "cell_type": "code",
   "source": "print(df['Age'].cumsum())\n",
   "id": "f5303c15983aa624",
   "outputs": [],
   "execution_count": null
  },
  {
   "metadata": {},
   "cell_type": "markdown",
   "source": "**Exercise**: Calculate the mean and std of age of male and female students separately",
   "id": "cf5f40f3ee268900"
  },
  {
   "metadata": {},
   "cell_type": "code",
   "source": "",
   "id": "8b32adbe500caa1b",
   "outputs": [],
   "execution_count": null
  },
  {
   "metadata": {},
   "cell_type": "markdown",
   "source": "## Loading and storing data",
   "id": "c65544e92c6c8c6b"
  },
  {
   "metadata": {},
   "cell_type": "markdown",
   "source": "While pandas supports a TON of different formats, we will mostly deal with csv for now.",
   "id": "988379414d86c356"
  },
  {
   "metadata": {},
   "cell_type": "markdown",
   "source": "We can store a dataframe as csv file with 'to_csv'",
   "id": "f3c00d562ce14c8e"
  },
  {
   "metadata": {},
   "cell_type": "code",
   "source": "df.to_csv('pandas_students_example.csv')",
   "id": "4b0641f8b65ef60c",
   "outputs": [],
   "execution_count": null
  },
  {
   "metadata": {},
   "cell_type": "markdown",
   "source": "And load it again, using 'pandas.read_csv'",
   "id": "81d0442f4c316c45"
  },
  {
   "metadata": {},
   "cell_type": "code",
   "source": "df = pandas.read_csv('pandas_students_example.csv')",
   "id": "e05f1e2b2bd620ca",
   "outputs": [],
   "execution_count": null
  }
 ],
 "metadata": {
  "kernelspec": {
   "display_name": "Python 3",
   "language": "python",
   "name": "python3"
  },
  "language_info": {
   "codemirror_mode": {
    "name": "ipython",
    "version": 2
   },
   "file_extension": ".py",
   "mimetype": "text/x-python",
   "name": "python",
   "nbconvert_exporter": "python",
   "pygments_lexer": "ipython2",
   "version": "2.7.6"
  }
 },
 "nbformat": 4,
 "nbformat_minor": 5
}
