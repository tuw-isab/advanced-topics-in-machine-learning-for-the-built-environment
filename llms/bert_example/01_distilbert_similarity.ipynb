{
 "cells": [
  {
   "cell_type": "code",
   "id": "67c5896c-605f-4314-b1bb-a49506456aac",
   "metadata": {},
   "source": [
    "! pip install sentence-transformers tf-keras"
   ],
   "outputs": [],
   "execution_count": null
  },
  {
   "metadata": {},
   "cell_type": "code",
   "source": [
    "# Download the model if you do not have it already\n",
    "# from sentence_transformers import SentenceTransformer\n",
    "# from pathlib import Path\n",
    "\n",
    "# https://huggingface.co/sentence-transformers/multi-qa-distilbert-cos-v1\n",
    "# model = SentenceTransformer(\"multi-qa-distilbert-cos-v1\")"
   ],
   "id": "f7a0e7f74566113c",
   "outputs": [],
   "execution_count": null
  },
  {
   "metadata": {},
   "cell_type": "code",
   "source": [
    "from sentence_transformers import SentenceTransformer\n",
    "from pathlib import Path\n",
    "\n",
    "model_path = (Path.home() / Path('shared/210.026-2025S/Lehrmaterialien/pretrained/huggingface/hub/models--sentence-transformers--multi-qa-distilbert-cos-v1/snapshots/bc2339dca6eba2b116cc7c2cfa06f63e4ff87e3f/'))\n",
    "\n",
    "model = SentenceTransformer(str(model_path))\n"
   ],
   "id": "616bb0fcf90024f2",
   "outputs": [],
   "execution_count": null
  },
  {
   "cell_type": "code",
   "id": "a9ebe5a3aaa80e0",
   "metadata": {},
   "source": [
    "embeddings = model.encode([\n",
    "    \"The weather is lovely today.\",\n",
    "    \"It's so sunny outside!\",\n",
    "    \"He drove to the stadium.\"\n",
    "])\n",
    "similarities = model.similarity(embeddings, embeddings)\n",
    "print(similarities)"
   ],
   "outputs": [],
   "execution_count": null
  }
 ],
 "metadata": {
  "kernelspec": {
   "display_name": "Python 3",
   "language": "python",
   "name": "python3"
  },
  "language_info": {
   "codemirror_mode": {
    "name": "ipython",
    "version": 3
   },
   "file_extension": ".py",
   "mimetype": "text/x-python",
   "name": "python",
   "nbconvert_exporter": "python",
   "pygments_lexer": "ipython3",
   "version": "3.11.10"
  }
 },
 "nbformat": 4,
 "nbformat_minor": 5
}
