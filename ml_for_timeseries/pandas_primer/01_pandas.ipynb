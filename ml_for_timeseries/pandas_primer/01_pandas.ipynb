{
 "cells": [
  {
   "metadata": {},
   "cell_type": "markdown",
   "source": "# Pandas",
   "id": "ca22802d3a89edc5"
  },
  {
   "metadata": {},
   "cell_type": "markdown",
   "source": "Pandas is a library for data analysis and data manipulation.\n",
   "id": "1f4260a66f2c1e19"
  },
  {
   "metadata": {
    "ExecuteTime": {
     "end_time": "2025-05-15T09:16:17.933252Z",
     "start_time": "2025-05-15T09:16:17.925646Z"
    }
   },
   "cell_type": "code",
   "source": [
    "import pandas\n",
    "\n",
    "pandas.DataFrame({'A':[1,2,3],'B':[4,5,6]})\n"
   ],
   "id": "5a48068b87684742",
   "outputs": [
    {
     "data": {
      "text/plain": [
       "   A  B\n",
       "0  1  4\n",
       "1  2  5\n",
       "2  3  6"
      ],
      "text/html": [
       "<div>\n",
       "<style scoped>\n",
       "    .dataframe tbody tr th:only-of-type {\n",
       "        vertical-align: middle;\n",
       "    }\n",
       "\n",
       "    .dataframe tbody tr th {\n",
       "        vertical-align: top;\n",
       "    }\n",
       "\n",
       "    .dataframe thead th {\n",
       "        text-align: right;\n",
       "    }\n",
       "</style>\n",
       "<table border=\"1\" class=\"dataframe\">\n",
       "  <thead>\n",
       "    <tr style=\"text-align: right;\">\n",
       "      <th></th>\n",
       "      <th>A</th>\n",
       "      <th>B</th>\n",
       "    </tr>\n",
       "  </thead>\n",
       "  <tbody>\n",
       "    <tr>\n",
       "      <th>0</th>\n",
       "      <td>1</td>\n",
       "      <td>4</td>\n",
       "    </tr>\n",
       "    <tr>\n",
       "      <th>1</th>\n",
       "      <td>2</td>\n",
       "      <td>5</td>\n",
       "    </tr>\n",
       "    <tr>\n",
       "      <th>2</th>\n",
       "      <td>3</td>\n",
       "      <td>6</td>\n",
       "    </tr>\n",
       "  </tbody>\n",
       "</table>\n",
       "</div>"
      ]
     },
     "execution_count": 1,
     "metadata": {},
     "output_type": "execute_result"
    }
   ],
   "execution_count": 1
  },
  {
   "metadata": {},
   "cell_type": "markdown",
   "source": "",
   "id": "d00f9ccd9bc0700e"
  },
  {
   "metadata": {},
   "cell_type": "markdown",
   "source": [
    "Whats the difference between numpy and pandas?\n",
    "\n",
    "numpy provides the numerical methods and mathematical methods, and can do matrix manipulation in a very efficient and fast way. (its like matlab inside python but with a nicer syntax and no vendor-lock-in)\n",
    "\n",
    "pandas is based on numpy, but is aimed towards data analysis and ease of use. E.g. we now have headers for columns, while in numpy you yourself have to keep track of what is what. (its like the equivalent of excel in python, with the exception that its actually useable at scale)\n",
    "\n",
    "In short - if you want to perform some complex mathematical operations on matrices, use numpy. - if you are working with measurements or other tabular data"
   ],
   "id": "f79c53cd3c1db2d4"
  },
  {
   "metadata": {},
   "cell_type": "markdown",
   "source": "## Working with dataframes",
   "id": "59cf66ac7a3a7489"
  },
  {
   "metadata": {
    "ExecuteTime": {
     "end_time": "2025-05-15T09:16:18.023051Z",
     "start_time": "2025-05-15T09:16:18.015497Z"
    }
   },
   "cell_type": "code",
   "source": [
    "import pandas as pd\n",
    "data = {\n",
    "    'Name': ['Alice', 'Bob', 'Charlie', 'Diana', 'Edward', 'Fiona', 'George', 'Hannah', 'Ivan', 'Julia'],\n",
    "    'Height': [165, 170, 175, 160, 180, 155, 168, 172, 178, 169], \n",
    "    'Age': [25, 32, 40, 22, 28, 30, 35, 26, 41, 29],\n",
    "    'YearsStudying': [2, 5, 4, 1, 4, 4, 7, 3, 6, 2],\n",
    "    'Sex': ['Female', 'Male', 'Male', 'Female', 'Male', 'Female', 'Male', 'Female', 'Male', 'Female']\n",
    "}\n",
    "\n",
    "df = pd.DataFrame(data)\n",
    "df"
   ],
   "id": "91b343437e41ef08",
   "outputs": [
    {
     "data": {
      "text/plain": [
       "      Name  Height  Age  YearsStudying     Sex\n",
       "0    Alice     165   25              2  Female\n",
       "1      Bob     170   32              5    Male\n",
       "2  Charlie     175   40              4    Male\n",
       "3    Diana     160   22              1  Female\n",
       "4   Edward     180   28              4    Male\n",
       "5    Fiona     155   30              4  Female\n",
       "6   George     168   35              7    Male\n",
       "7   Hannah     172   26              3  Female\n",
       "8     Ivan     178   41              6    Male\n",
       "9    Julia     169   29              2  Female"
      ],
      "text/html": [
       "<div>\n",
       "<style scoped>\n",
       "    .dataframe tbody tr th:only-of-type {\n",
       "        vertical-align: middle;\n",
       "    }\n",
       "\n",
       "    .dataframe tbody tr th {\n",
       "        vertical-align: top;\n",
       "    }\n",
       "\n",
       "    .dataframe thead th {\n",
       "        text-align: right;\n",
       "    }\n",
       "</style>\n",
       "<table border=\"1\" class=\"dataframe\">\n",
       "  <thead>\n",
       "    <tr style=\"text-align: right;\">\n",
       "      <th></th>\n",
       "      <th>Name</th>\n",
       "      <th>Height</th>\n",
       "      <th>Age</th>\n",
       "      <th>YearsStudying</th>\n",
       "      <th>Sex</th>\n",
       "    </tr>\n",
       "  </thead>\n",
       "  <tbody>\n",
       "    <tr>\n",
       "      <th>0</th>\n",
       "      <td>Alice</td>\n",
       "      <td>165</td>\n",
       "      <td>25</td>\n",
       "      <td>2</td>\n",
       "      <td>Female</td>\n",
       "    </tr>\n",
       "    <tr>\n",
       "      <th>1</th>\n",
       "      <td>Bob</td>\n",
       "      <td>170</td>\n",
       "      <td>32</td>\n",
       "      <td>5</td>\n",
       "      <td>Male</td>\n",
       "    </tr>\n",
       "    <tr>\n",
       "      <th>2</th>\n",
       "      <td>Charlie</td>\n",
       "      <td>175</td>\n",
       "      <td>40</td>\n",
       "      <td>4</td>\n",
       "      <td>Male</td>\n",
       "    </tr>\n",
       "    <tr>\n",
       "      <th>3</th>\n",
       "      <td>Diana</td>\n",
       "      <td>160</td>\n",
       "      <td>22</td>\n",
       "      <td>1</td>\n",
       "      <td>Female</td>\n",
       "    </tr>\n",
       "    <tr>\n",
       "      <th>4</th>\n",
       "      <td>Edward</td>\n",
       "      <td>180</td>\n",
       "      <td>28</td>\n",
       "      <td>4</td>\n",
       "      <td>Male</td>\n",
       "    </tr>\n",
       "    <tr>\n",
       "      <th>5</th>\n",
       "      <td>Fiona</td>\n",
       "      <td>155</td>\n",
       "      <td>30</td>\n",
       "      <td>4</td>\n",
       "      <td>Female</td>\n",
       "    </tr>\n",
       "    <tr>\n",
       "      <th>6</th>\n",
       "      <td>George</td>\n",
       "      <td>168</td>\n",
       "      <td>35</td>\n",
       "      <td>7</td>\n",
       "      <td>Male</td>\n",
       "    </tr>\n",
       "    <tr>\n",
       "      <th>7</th>\n",
       "      <td>Hannah</td>\n",
       "      <td>172</td>\n",
       "      <td>26</td>\n",
       "      <td>3</td>\n",
       "      <td>Female</td>\n",
       "    </tr>\n",
       "    <tr>\n",
       "      <th>8</th>\n",
       "      <td>Ivan</td>\n",
       "      <td>178</td>\n",
       "      <td>41</td>\n",
       "      <td>6</td>\n",
       "      <td>Male</td>\n",
       "    </tr>\n",
       "    <tr>\n",
       "      <th>9</th>\n",
       "      <td>Julia</td>\n",
       "      <td>169</td>\n",
       "      <td>29</td>\n",
       "      <td>2</td>\n",
       "      <td>Female</td>\n",
       "    </tr>\n",
       "  </tbody>\n",
       "</table>\n",
       "</div>"
      ]
     },
     "execution_count": 2,
     "metadata": {},
     "output_type": "execute_result"
    }
   ],
   "execution_count": 2
  },
  {
   "metadata": {},
   "cell_type": "markdown",
   "source": "`describe` create a very basic statistical overview of the dataset:",
   "id": "ee60c84d98026163"
  },
  {
   "metadata": {
    "ExecuteTime": {
     "end_time": "2025-05-15T09:16:18.067488Z",
     "start_time": "2025-05-15T09:16:18.059849Z"
    }
   },
   "cell_type": "code",
   "source": "df.describe()",
   "id": "d9573710fafff13a",
   "outputs": [
    {
     "data": {
      "text/plain": [
       "           Height        Age  YearsStudying\n",
       "count   10.000000  10.000000      10.000000\n",
       "mean   169.200000  30.800000       3.800000\n",
       "std      7.757434   6.268085       1.873796\n",
       "min    155.000000  22.000000       1.000000\n",
       "25%    165.750000  26.500000       2.250000\n",
       "50%    169.500000  29.500000       4.000000\n",
       "75%    174.250000  34.250000       4.750000\n",
       "max    180.000000  41.000000       7.000000"
      ],
      "text/html": [
       "<div>\n",
       "<style scoped>\n",
       "    .dataframe tbody tr th:only-of-type {\n",
       "        vertical-align: middle;\n",
       "    }\n",
       "\n",
       "    .dataframe tbody tr th {\n",
       "        vertical-align: top;\n",
       "    }\n",
       "\n",
       "    .dataframe thead th {\n",
       "        text-align: right;\n",
       "    }\n",
       "</style>\n",
       "<table border=\"1\" class=\"dataframe\">\n",
       "  <thead>\n",
       "    <tr style=\"text-align: right;\">\n",
       "      <th></th>\n",
       "      <th>Height</th>\n",
       "      <th>Age</th>\n",
       "      <th>YearsStudying</th>\n",
       "    </tr>\n",
       "  </thead>\n",
       "  <tbody>\n",
       "    <tr>\n",
       "      <th>count</th>\n",
       "      <td>10.000000</td>\n",
       "      <td>10.000000</td>\n",
       "      <td>10.000000</td>\n",
       "    </tr>\n",
       "    <tr>\n",
       "      <th>mean</th>\n",
       "      <td>169.200000</td>\n",
       "      <td>30.800000</td>\n",
       "      <td>3.800000</td>\n",
       "    </tr>\n",
       "    <tr>\n",
       "      <th>std</th>\n",
       "      <td>7.757434</td>\n",
       "      <td>6.268085</td>\n",
       "      <td>1.873796</td>\n",
       "    </tr>\n",
       "    <tr>\n",
       "      <th>min</th>\n",
       "      <td>155.000000</td>\n",
       "      <td>22.000000</td>\n",
       "      <td>1.000000</td>\n",
       "    </tr>\n",
       "    <tr>\n",
       "      <th>25%</th>\n",
       "      <td>165.750000</td>\n",
       "      <td>26.500000</td>\n",
       "      <td>2.250000</td>\n",
       "    </tr>\n",
       "    <tr>\n",
       "      <th>50%</th>\n",
       "      <td>169.500000</td>\n",
       "      <td>29.500000</td>\n",
       "      <td>4.000000</td>\n",
       "    </tr>\n",
       "    <tr>\n",
       "      <th>75%</th>\n",
       "      <td>174.250000</td>\n",
       "      <td>34.250000</td>\n",
       "      <td>4.750000</td>\n",
       "    </tr>\n",
       "    <tr>\n",
       "      <th>max</th>\n",
       "      <td>180.000000</td>\n",
       "      <td>41.000000</td>\n",
       "      <td>7.000000</td>\n",
       "    </tr>\n",
       "  </tbody>\n",
       "</table>\n",
       "</div>"
      ]
     },
     "execution_count": 3,
     "metadata": {},
     "output_type": "execute_result"
    }
   ],
   "execution_count": 3
  },
  {
   "metadata": {},
   "cell_type": "markdown",
   "source": "## Indexing Rows",
   "id": "a0ba5c1e67dfa4fe"
  },
  {
   "metadata": {},
   "cell_type": "markdown",
   "source": "The first column of the dataframe is the index. We can access rows in this dataframe the same way we did using indexes in lists. in the case of dataframes using the iloc function. (stands for integer location, so just the integer row number)",
   "id": "81b5ef30b6583426"
  },
  {
   "metadata": {
    "ExecuteTime": {
     "end_time": "2025-05-15T09:16:18.131765Z",
     "start_time": "2025-05-15T09:16:18.128315Z"
    }
   },
   "cell_type": "code",
   "source": "df.iloc[0]",
   "id": "619d9ee5b1248bea",
   "outputs": [
    {
     "data": {
      "text/plain": [
       "Name              Alice\n",
       "Height              165\n",
       "Age                  25\n",
       "YearsStudying         2\n",
       "Sex              Female\n",
       "Name: 0, dtype: object"
      ]
     },
     "execution_count": 4,
     "metadata": {},
     "output_type": "execute_result"
    }
   ],
   "execution_count": 4
  },
  {
   "metadata": {},
   "cell_type": "markdown",
   "source": "Slicing operateors also work",
   "id": "a7d4098b7fba4e07"
  },
  {
   "metadata": {
    "ExecuteTime": {
     "end_time": "2025-05-15T09:16:18.267112Z",
     "start_time": "2025-05-15T09:16:18.262848Z"
    }
   },
   "cell_type": "code",
   "source": "df.iloc[3:5]",
   "id": "6e51be25134cf7c",
   "outputs": [
    {
     "data": {
      "text/plain": [
       "     Name  Height  Age  YearsStudying     Sex\n",
       "3   Diana     160   22              1  Female\n",
       "4  Edward     180   28              4    Male"
      ],
      "text/html": [
       "<div>\n",
       "<style scoped>\n",
       "    .dataframe tbody tr th:only-of-type {\n",
       "        vertical-align: middle;\n",
       "    }\n",
       "\n",
       "    .dataframe tbody tr th {\n",
       "        vertical-align: top;\n",
       "    }\n",
       "\n",
       "    .dataframe thead th {\n",
       "        text-align: right;\n",
       "    }\n",
       "</style>\n",
       "<table border=\"1\" class=\"dataframe\">\n",
       "  <thead>\n",
       "    <tr style=\"text-align: right;\">\n",
       "      <th></th>\n",
       "      <th>Name</th>\n",
       "      <th>Height</th>\n",
       "      <th>Age</th>\n",
       "      <th>YearsStudying</th>\n",
       "      <th>Sex</th>\n",
       "    </tr>\n",
       "  </thead>\n",
       "  <tbody>\n",
       "    <tr>\n",
       "      <th>3</th>\n",
       "      <td>Diana</td>\n",
       "      <td>160</td>\n",
       "      <td>22</td>\n",
       "      <td>1</td>\n",
       "      <td>Female</td>\n",
       "    </tr>\n",
       "    <tr>\n",
       "      <th>4</th>\n",
       "      <td>Edward</td>\n",
       "      <td>180</td>\n",
       "      <td>28</td>\n",
       "      <td>4</td>\n",
       "      <td>Male</td>\n",
       "    </tr>\n",
       "  </tbody>\n",
       "</table>\n",
       "</div>"
      ]
     },
     "execution_count": 5,
     "metadata": {},
     "output_type": "execute_result"
    }
   ],
   "execution_count": 5
  },
  {
   "metadata": {},
   "cell_type": "markdown",
   "source": "## Indexing columns",
   "id": "dfcb5c60bcbde2e4"
  },
  {
   "metadata": {},
   "cell_type": "markdown",
   "source": "We can access single columns similar to dictionaries.",
   "id": "259c1659486ef04e"
  },
  {
   "metadata": {
    "ExecuteTime": {
     "end_time": "2025-05-15T09:16:18.323101Z",
     "start_time": "2025-05-15T09:16:18.320734Z"
    }
   },
   "cell_type": "code",
   "source": "df['Height']",
   "id": "fab7729ad7ce9fc9",
   "outputs": [
    {
     "data": {
      "text/plain": [
       "0    165\n",
       "1    170\n",
       "2    175\n",
       "3    160\n",
       "4    180\n",
       "5    155\n",
       "6    168\n",
       "7    172\n",
       "8    178\n",
       "9    169\n",
       "Name: Height, dtype: int64"
      ]
     },
     "execution_count": 6,
     "metadata": {},
     "output_type": "execute_result"
    }
   ],
   "execution_count": 6
  },
  {
   "metadata": {},
   "cell_type": "markdown",
   "source": "We can use lists of column names to get multiple with one operation",
   "id": "8c8f35e60749ec3a"
  },
  {
   "metadata": {
    "ExecuteTime": {
     "end_time": "2025-05-15T09:16:18.427402Z",
     "start_time": "2025-05-15T09:16:18.423466Z"
    }
   },
   "cell_type": "code",
   "source": "df[['Height', 'Age']]",
   "id": "c484ecb2f9194768",
   "outputs": [
    {
     "data": {
      "text/plain": [
       "   Height  Age\n",
       "0     165   25\n",
       "1     170   32\n",
       "2     175   40\n",
       "3     160   22\n",
       "4     180   28\n",
       "5     155   30\n",
       "6     168   35\n",
       "7     172   26\n",
       "8     178   41\n",
       "9     169   29"
      ],
      "text/html": [
       "<div>\n",
       "<style scoped>\n",
       "    .dataframe tbody tr th:only-of-type {\n",
       "        vertical-align: middle;\n",
       "    }\n",
       "\n",
       "    .dataframe tbody tr th {\n",
       "        vertical-align: top;\n",
       "    }\n",
       "\n",
       "    .dataframe thead th {\n",
       "        text-align: right;\n",
       "    }\n",
       "</style>\n",
       "<table border=\"1\" class=\"dataframe\">\n",
       "  <thead>\n",
       "    <tr style=\"text-align: right;\">\n",
       "      <th></th>\n",
       "      <th>Height</th>\n",
       "      <th>Age</th>\n",
       "    </tr>\n",
       "  </thead>\n",
       "  <tbody>\n",
       "    <tr>\n",
       "      <th>0</th>\n",
       "      <td>165</td>\n",
       "      <td>25</td>\n",
       "    </tr>\n",
       "    <tr>\n",
       "      <th>1</th>\n",
       "      <td>170</td>\n",
       "      <td>32</td>\n",
       "    </tr>\n",
       "    <tr>\n",
       "      <th>2</th>\n",
       "      <td>175</td>\n",
       "      <td>40</td>\n",
       "    </tr>\n",
       "    <tr>\n",
       "      <th>3</th>\n",
       "      <td>160</td>\n",
       "      <td>22</td>\n",
       "    </tr>\n",
       "    <tr>\n",
       "      <th>4</th>\n",
       "      <td>180</td>\n",
       "      <td>28</td>\n",
       "    </tr>\n",
       "    <tr>\n",
       "      <th>5</th>\n",
       "      <td>155</td>\n",
       "      <td>30</td>\n",
       "    </tr>\n",
       "    <tr>\n",
       "      <th>6</th>\n",
       "      <td>168</td>\n",
       "      <td>35</td>\n",
       "    </tr>\n",
       "    <tr>\n",
       "      <th>7</th>\n",
       "      <td>172</td>\n",
       "      <td>26</td>\n",
       "    </tr>\n",
       "    <tr>\n",
       "      <th>8</th>\n",
       "      <td>178</td>\n",
       "      <td>41</td>\n",
       "    </tr>\n",
       "    <tr>\n",
       "      <th>9</th>\n",
       "      <td>169</td>\n",
       "      <td>29</td>\n",
       "    </tr>\n",
       "  </tbody>\n",
       "</table>\n",
       "</div>"
      ]
     },
     "execution_count": 7,
     "metadata": {},
     "output_type": "execute_result"
    }
   ],
   "execution_count": 7
  },
  {
   "metadata": {},
   "cell_type": "markdown",
   "source": "To extract a specific value given row and column name",
   "id": "2d408a0f475d3d27"
  },
  {
   "metadata": {
    "ExecuteTime": {
     "end_time": "2025-05-15T09:16:18.463383Z",
     "start_time": "2025-05-15T09:16:18.460507Z"
    }
   },
   "cell_type": "code",
   "source": "df.iloc[3]['Height']",
   "id": "c63dbc70c7b306db",
   "outputs": [
    {
     "data": {
      "text/plain": [
       "np.int64(160)"
      ]
     },
     "execution_count": 8,
     "metadata": {},
     "output_type": "execute_result"
    }
   ],
   "execution_count": 8
  },
  {
   "metadata": {
    "ExecuteTime": {
     "end_time": "2025-05-15T09:16:18.535321Z",
     "start_time": "2025-05-15T09:16:18.531181Z"
    }
   },
   "cell_type": "code",
   "source": "df['Height'].iloc[3]",
   "id": "1e5ea949c89c56e8",
   "outputs": [
    {
     "data": {
      "text/plain": [
       "np.int64(160)"
      ]
     },
     "execution_count": 9,
     "metadata": {},
     "output_type": "execute_result"
    }
   ],
   "execution_count": 9
  },
  {
   "metadata": {},
   "cell_type": "markdown",
   "source": "",
   "id": "15b4b6e3b9e2b421"
  },
  {
   "metadata": {},
   "cell_type": "markdown",
   "source": "## Mathematical operations on columns",
   "id": "7897b4a0a3aed7b3"
  },
  {
   "metadata": {},
   "cell_type": "markdown",
   "source": [
    "Columns can be used to perform mathematical operations in bulk. Very similar to numpy (pandas actually uses numpy behind the curtain to do this).\n",
    "So we do not need loops, but can apply mathemtical operations directly to a whole bunch of data."
   ],
   "id": "b5b8967caeda171b"
  },
  {
   "metadata": {},
   "cell_type": "markdown",
   "source": "For example, how old were they when they started studying?",
   "id": "33e0e2ec018cebd5"
  },
  {
   "metadata": {
    "ExecuteTime": {
     "end_time": "2025-05-15T09:16:18.614912Z",
     "start_time": "2025-05-15T09:16:18.612369Z"
    }
   },
   "cell_type": "code",
   "source": [
    "\n",
    "df['Age'] - df['YearsStudying']"
   ],
   "id": "a1a5cd3b715cd975",
   "outputs": [
    {
     "data": {
      "text/plain": [
       "0    23\n",
       "1    27\n",
       "2    36\n",
       "3    21\n",
       "4    24\n",
       "5    26\n",
       "6    28\n",
       "7    23\n",
       "8    35\n",
       "9    27\n",
       "dtype: int64"
      ]
     },
     "execution_count": 10,
     "metadata": {},
     "output_type": "execute_result"
    }
   ],
   "execution_count": 10
  },
  {
   "metadata": {},
   "cell_type": "markdown",
   "source": "## Adding new columns",
   "id": "a0296e75f9964029"
  },
  {
   "metadata": {},
   "cell_type": "markdown",
   "source": "Lets add the age when starting their studies back to the dataframe as a new column",
   "id": "d97a9242e12d23cf"
  },
  {
   "metadata": {
    "ExecuteTime": {
     "end_time": "2025-05-15T09:16:18.681123Z",
     "start_time": "2025-05-15T09:16:18.676610Z"
    }
   },
   "cell_type": "code",
   "source": [
    "df['StartAge'] = df['Age'] - df['YearsStudying']\n",
    "df\n"
   ],
   "id": "e6fb118334933a08",
   "outputs": [
    {
     "data": {
      "text/plain": [
       "      Name  Height  Age  YearsStudying     Sex  StartAge\n",
       "0    Alice     165   25              2  Female        23\n",
       "1      Bob     170   32              5    Male        27\n",
       "2  Charlie     175   40              4    Male        36\n",
       "3    Diana     160   22              1  Female        21\n",
       "4   Edward     180   28              4    Male        24\n",
       "5    Fiona     155   30              4  Female        26\n",
       "6   George     168   35              7    Male        28\n",
       "7   Hannah     172   26              3  Female        23\n",
       "8     Ivan     178   41              6    Male        35\n",
       "9    Julia     169   29              2  Female        27"
      ],
      "text/html": [
       "<div>\n",
       "<style scoped>\n",
       "    .dataframe tbody tr th:only-of-type {\n",
       "        vertical-align: middle;\n",
       "    }\n",
       "\n",
       "    .dataframe tbody tr th {\n",
       "        vertical-align: top;\n",
       "    }\n",
       "\n",
       "    .dataframe thead th {\n",
       "        text-align: right;\n",
       "    }\n",
       "</style>\n",
       "<table border=\"1\" class=\"dataframe\">\n",
       "  <thead>\n",
       "    <tr style=\"text-align: right;\">\n",
       "      <th></th>\n",
       "      <th>Name</th>\n",
       "      <th>Height</th>\n",
       "      <th>Age</th>\n",
       "      <th>YearsStudying</th>\n",
       "      <th>Sex</th>\n",
       "      <th>StartAge</th>\n",
       "    </tr>\n",
       "  </thead>\n",
       "  <tbody>\n",
       "    <tr>\n",
       "      <th>0</th>\n",
       "      <td>Alice</td>\n",
       "      <td>165</td>\n",
       "      <td>25</td>\n",
       "      <td>2</td>\n",
       "      <td>Female</td>\n",
       "      <td>23</td>\n",
       "    </tr>\n",
       "    <tr>\n",
       "      <th>1</th>\n",
       "      <td>Bob</td>\n",
       "      <td>170</td>\n",
       "      <td>32</td>\n",
       "      <td>5</td>\n",
       "      <td>Male</td>\n",
       "      <td>27</td>\n",
       "    </tr>\n",
       "    <tr>\n",
       "      <th>2</th>\n",
       "      <td>Charlie</td>\n",
       "      <td>175</td>\n",
       "      <td>40</td>\n",
       "      <td>4</td>\n",
       "      <td>Male</td>\n",
       "      <td>36</td>\n",
       "    </tr>\n",
       "    <tr>\n",
       "      <th>3</th>\n",
       "      <td>Diana</td>\n",
       "      <td>160</td>\n",
       "      <td>22</td>\n",
       "      <td>1</td>\n",
       "      <td>Female</td>\n",
       "      <td>21</td>\n",
       "    </tr>\n",
       "    <tr>\n",
       "      <th>4</th>\n",
       "      <td>Edward</td>\n",
       "      <td>180</td>\n",
       "      <td>28</td>\n",
       "      <td>4</td>\n",
       "      <td>Male</td>\n",
       "      <td>24</td>\n",
       "    </tr>\n",
       "    <tr>\n",
       "      <th>5</th>\n",
       "      <td>Fiona</td>\n",
       "      <td>155</td>\n",
       "      <td>30</td>\n",
       "      <td>4</td>\n",
       "      <td>Female</td>\n",
       "      <td>26</td>\n",
       "    </tr>\n",
       "    <tr>\n",
       "      <th>6</th>\n",
       "      <td>George</td>\n",
       "      <td>168</td>\n",
       "      <td>35</td>\n",
       "      <td>7</td>\n",
       "      <td>Male</td>\n",
       "      <td>28</td>\n",
       "    </tr>\n",
       "    <tr>\n",
       "      <th>7</th>\n",
       "      <td>Hannah</td>\n",
       "      <td>172</td>\n",
       "      <td>26</td>\n",
       "      <td>3</td>\n",
       "      <td>Female</td>\n",
       "      <td>23</td>\n",
       "    </tr>\n",
       "    <tr>\n",
       "      <th>8</th>\n",
       "      <td>Ivan</td>\n",
       "      <td>178</td>\n",
       "      <td>41</td>\n",
       "      <td>6</td>\n",
       "      <td>Male</td>\n",
       "      <td>35</td>\n",
       "    </tr>\n",
       "    <tr>\n",
       "      <th>9</th>\n",
       "      <td>Julia</td>\n",
       "      <td>169</td>\n",
       "      <td>29</td>\n",
       "      <td>2</td>\n",
       "      <td>Female</td>\n",
       "      <td>27</td>\n",
       "    </tr>\n",
       "  </tbody>\n",
       "</table>\n",
       "</div>"
      ]
     },
     "execution_count": 11,
     "metadata": {},
     "output_type": "execute_result"
    }
   ],
   "execution_count": 11
  },
  {
   "metadata": {},
   "cell_type": "markdown",
   "source": "**Exercise**: Calculate what percentage of their lifespan people have been studying (years studying / height) * 100",
   "id": "7268af514b6ed222"
  },
  {
   "metadata": {
    "ExecuteTime": {
     "end_time": "2025-05-15T09:16:18.715192Z",
     "start_time": "2025-05-15T09:16:18.713732Z"
    }
   },
   "cell_type": "code",
   "source": "",
   "id": "90290595b360205e",
   "outputs": [],
   "execution_count": null
  },
  {
   "metadata": {},
   "cell_type": "markdown",
   "source": "## Separating data based on conditions and grouping",
   "id": "dd64e04952e5fbb6"
  },
  {
   "metadata": {},
   "cell_type": "markdown",
   "source": "While slicing per index is useful, in practice we are often interested to look only at a specific part of the data to perform some analysis. For example, compare the height of male and female students.",
   "id": "416a0f6be3a81766"
  },
  {
   "metadata": {},
   "cell_type": "markdown",
   "source": "We can create True/False vectors if some condition is fulfilled or not:",
   "id": "1e176db75f5d8bd8"
  },
  {
   "metadata": {
    "ExecuteTime": {
     "end_time": "2025-05-15T09:16:18.804386Z",
     "start_time": "2025-05-15T09:16:18.800776Z"
    }
   },
   "cell_type": "code",
   "source": "df['Sex'] == 'Male'",
   "id": "e81cdbb496cff94d",
   "outputs": [
    {
     "data": {
      "text/plain": [
       "0    False\n",
       "1     True\n",
       "2     True\n",
       "3    False\n",
       "4     True\n",
       "5    False\n",
       "6     True\n",
       "7    False\n",
       "8     True\n",
       "9    False\n",
       "Name: Sex, dtype: bool"
      ]
     },
     "execution_count": 12,
     "metadata": {},
     "output_type": "execute_result"
    }
   ],
   "execution_count": 12
  },
  {
   "metadata": {},
   "cell_type": "markdown",
   "source": "While this alone isnt that useful, such a vector of booleans can be use as an indexer. In the following example, we use this to select only the males from the dataframe.",
   "id": "9479e0ba46b36366"
  },
  {
   "metadata": {
    "ExecuteTime": {
     "end_time": "2025-05-15T09:16:18.839525Z",
     "start_time": "2025-05-15T09:16:18.835013Z"
    }
   },
   "cell_type": "code",
   "source": "df[df['Sex'] == 'Male']",
   "id": "14d7afdd566ab308",
   "outputs": [
    {
     "data": {
      "text/plain": [
       "      Name  Height  Age  YearsStudying   Sex  StartAge\n",
       "1      Bob     170   32              5  Male        27\n",
       "2  Charlie     175   40              4  Male        36\n",
       "4   Edward     180   28              4  Male        24\n",
       "6   George     168   35              7  Male        28\n",
       "8     Ivan     178   41              6  Male        35"
      ],
      "text/html": [
       "<div>\n",
       "<style scoped>\n",
       "    .dataframe tbody tr th:only-of-type {\n",
       "        vertical-align: middle;\n",
       "    }\n",
       "\n",
       "    .dataframe tbody tr th {\n",
       "        vertical-align: top;\n",
       "    }\n",
       "\n",
       "    .dataframe thead th {\n",
       "        text-align: right;\n",
       "    }\n",
       "</style>\n",
       "<table border=\"1\" class=\"dataframe\">\n",
       "  <thead>\n",
       "    <tr style=\"text-align: right;\">\n",
       "      <th></th>\n",
       "      <th>Name</th>\n",
       "      <th>Height</th>\n",
       "      <th>Age</th>\n",
       "      <th>YearsStudying</th>\n",
       "      <th>Sex</th>\n",
       "      <th>StartAge</th>\n",
       "    </tr>\n",
       "  </thead>\n",
       "  <tbody>\n",
       "    <tr>\n",
       "      <th>1</th>\n",
       "      <td>Bob</td>\n",
       "      <td>170</td>\n",
       "      <td>32</td>\n",
       "      <td>5</td>\n",
       "      <td>Male</td>\n",
       "      <td>27</td>\n",
       "    </tr>\n",
       "    <tr>\n",
       "      <th>2</th>\n",
       "      <td>Charlie</td>\n",
       "      <td>175</td>\n",
       "      <td>40</td>\n",
       "      <td>4</td>\n",
       "      <td>Male</td>\n",
       "      <td>36</td>\n",
       "    </tr>\n",
       "    <tr>\n",
       "      <th>4</th>\n",
       "      <td>Edward</td>\n",
       "      <td>180</td>\n",
       "      <td>28</td>\n",
       "      <td>4</td>\n",
       "      <td>Male</td>\n",
       "      <td>24</td>\n",
       "    </tr>\n",
       "    <tr>\n",
       "      <th>6</th>\n",
       "      <td>George</td>\n",
       "      <td>168</td>\n",
       "      <td>35</td>\n",
       "      <td>7</td>\n",
       "      <td>Male</td>\n",
       "      <td>28</td>\n",
       "    </tr>\n",
       "    <tr>\n",
       "      <th>8</th>\n",
       "      <td>Ivan</td>\n",
       "      <td>178</td>\n",
       "      <td>41</td>\n",
       "      <td>6</td>\n",
       "      <td>Male</td>\n",
       "      <td>35</td>\n",
       "    </tr>\n",
       "  </tbody>\n",
       "</table>\n",
       "</div>"
      ]
     },
     "execution_count": 13,
     "metadata": {},
     "output_type": "execute_result"
    }
   ],
   "execution_count": 13
  },
  {
   "metadata": {},
   "cell_type": "markdown",
   "source": "**Exercise**: Select all rows where the height is above 175",
   "id": "9822477a111c2559"
  },
  {
   "metadata": {
    "ExecuteTime": {
     "end_time": "2025-05-15T09:16:18.906238Z",
     "start_time": "2025-05-15T09:16:18.904343Z"
    }
   },
   "cell_type": "code",
   "source": "",
   "id": "9e1a1a2be2adc5d9",
   "outputs": [],
   "execution_count": null
  },
  {
   "metadata": {},
   "cell_type": "markdown",
   "source": "We can also chain such conditions, however, syntax is slightly different than regular python boolean operations",
   "id": "a1e617b1a245f8cf"
  },
  {
   "metadata": {
    "ExecuteTime": {
     "end_time": "2025-05-15T09:16:19.013615Z",
     "start_time": "2025-05-15T09:16:19.008718Z"
    }
   },
   "cell_type": "code",
   "source": "df[(df['Sex'] == 'Male') & (df['Age'] >= 35)]\n",
   "id": "b6560ccd04a0103b",
   "outputs": [
    {
     "data": {
      "text/plain": [
       "      Name  Height  Age  YearsStudying   Sex  StartAge\n",
       "2  Charlie     175   40              4  Male        36\n",
       "6   George     168   35              7  Male        28\n",
       "8     Ivan     178   41              6  Male        35"
      ],
      "text/html": [
       "<div>\n",
       "<style scoped>\n",
       "    .dataframe tbody tr th:only-of-type {\n",
       "        vertical-align: middle;\n",
       "    }\n",
       "\n",
       "    .dataframe tbody tr th {\n",
       "        vertical-align: top;\n",
       "    }\n",
       "\n",
       "    .dataframe thead th {\n",
       "        text-align: right;\n",
       "    }\n",
       "</style>\n",
       "<table border=\"1\" class=\"dataframe\">\n",
       "  <thead>\n",
       "    <tr style=\"text-align: right;\">\n",
       "      <th></th>\n",
       "      <th>Name</th>\n",
       "      <th>Height</th>\n",
       "      <th>Age</th>\n",
       "      <th>YearsStudying</th>\n",
       "      <th>Sex</th>\n",
       "      <th>StartAge</th>\n",
       "    </tr>\n",
       "  </thead>\n",
       "  <tbody>\n",
       "    <tr>\n",
       "      <th>2</th>\n",
       "      <td>Charlie</td>\n",
       "      <td>175</td>\n",
       "      <td>40</td>\n",
       "      <td>4</td>\n",
       "      <td>Male</td>\n",
       "      <td>36</td>\n",
       "    </tr>\n",
       "    <tr>\n",
       "      <th>6</th>\n",
       "      <td>George</td>\n",
       "      <td>168</td>\n",
       "      <td>35</td>\n",
       "      <td>7</td>\n",
       "      <td>Male</td>\n",
       "      <td>28</td>\n",
       "    </tr>\n",
       "    <tr>\n",
       "      <th>8</th>\n",
       "      <td>Ivan</td>\n",
       "      <td>178</td>\n",
       "      <td>41</td>\n",
       "      <td>6</td>\n",
       "      <td>Male</td>\n",
       "      <td>35</td>\n",
       "    </tr>\n",
       "  </tbody>\n",
       "</table>\n",
       "</div>"
      ]
     },
     "execution_count": 14,
     "metadata": {},
     "output_type": "execute_result"
    }
   ],
   "execution_count": 14
  },
  {
   "metadata": {},
   "cell_type": "markdown",
   "source": "**Exercise**: Select all rows of males with a height greater than 175\n",
   "id": "65efadca9d9851fc"
  },
  {
   "metadata": {
    "ExecuteTime": {
     "end_time": "2025-05-15T09:16:19.066025Z",
     "start_time": "2025-05-15T09:16:19.063814Z"
    }
   },
   "cell_type": "code",
   "source": "",
   "id": "921e9d673039e91",
   "outputs": [],
   "execution_count": null
  },
  {
   "metadata": {},
   "cell_type": "markdown",
   "source": "## Basic math functions on columns (or rows)",
   "id": "8db9f81038e813e5"
  },
  {
   "metadata": {},
   "cell_type": "markdown",
   "source": "What weve already seen with 'describe' we can perform selectively aswell",
   "id": "a7b8a14143c6ff4a"
  },
  {
   "metadata": {
    "ExecuteTime": {
     "end_time": "2025-05-15T09:16:19.184354Z",
     "start_time": "2025-05-15T09:16:19.181268Z"
    }
   },
   "cell_type": "code",
   "source": [
    "print(df['Age'].mean())\n",
    "print(df['Age'].std())"
   ],
   "id": "f260fb363085faa",
   "outputs": [
    {
     "name": "stdout",
     "output_type": "stream",
     "text": [
      "30.8\n",
      "6.268084945889685\n"
     ]
    }
   ],
   "execution_count": 15
  },
  {
   "metadata": {},
   "cell_type": "markdown",
   "source": "Also, all kinds of maths functions are available in pandas",
   "id": "fd45d2926c102926"
  },
  {
   "metadata": {
    "ExecuteTime": {
     "end_time": "2025-05-15T09:16:19.272108Z",
     "start_time": "2025-05-15T09:16:19.270206Z"
    }
   },
   "cell_type": "code",
   "source": [
    "print(df['Age'].sum())\n",
    "print(df['Age'].min())\n",
    "print(df['Age'].max())\n"
   ],
   "id": "58e1e4e3908406c8",
   "outputs": [
    {
     "name": "stdout",
     "output_type": "stream",
     "text": [
      "308\n",
      "22\n",
      "41\n"
     ]
    }
   ],
   "execution_count": 16
  },
  {
   "metadata": {},
   "cell_type": "markdown",
   "source": "Some functions return not a skalar, but again a series (a column)",
   "id": "1a70a7aa7acd6e14"
  },
  {
   "metadata": {
    "ExecuteTime": {
     "end_time": "2025-05-15T09:16:19.321623Z",
     "start_time": "2025-05-15T09:16:19.318790Z"
    }
   },
   "cell_type": "code",
   "source": "print(df['Age'].cumsum())\n",
   "id": "f5303c15983aa624",
   "outputs": [
    {
     "name": "stdout",
     "output_type": "stream",
     "text": [
      "0     25\n",
      "1     57\n",
      "2     97\n",
      "3    119\n",
      "4    147\n",
      "5    177\n",
      "6    212\n",
      "7    238\n",
      "8    279\n",
      "9    308\n",
      "Name: Age, dtype: int64\n"
     ]
    }
   ],
   "execution_count": 17
  },
  {
   "metadata": {},
   "cell_type": "markdown",
   "source": "**Exercise**: Calculate the mean and std of age of male and female students separately",
   "id": "cf5f40f3ee268900"
  },
  {
   "metadata": {
    "ExecuteTime": {
     "end_time": "2025-05-15T09:16:19.355778Z",
     "start_time": "2025-05-15T09:16:19.354166Z"
    }
   },
   "cell_type": "code",
   "source": "",
   "id": "8b32adbe500caa1b",
   "outputs": [],
   "execution_count": null
  },
  {
   "metadata": {},
   "cell_type": "markdown",
   "source": "## Loading and storing data",
   "id": "c65544e92c6c8c6b"
  },
  {
   "metadata": {},
   "cell_type": "markdown",
   "source": "While pandas supports a TON of different formats, we will mostly deal with csv for now.",
   "id": "988379414d86c356"
  },
  {
   "metadata": {},
   "cell_type": "markdown",
   "source": "We can store a dataframe as csv file with 'to_csv'",
   "id": "f3c00d562ce14c8e"
  },
  {
   "metadata": {
    "ExecuteTime": {
     "end_time": "2025-05-15T09:16:19.402362Z",
     "start_time": "2025-05-15T09:16:19.398731Z"
    }
   },
   "cell_type": "code",
   "source": "df.to_csv('pandas_students_example.csv')",
   "id": "4b0641f8b65ef60c",
   "outputs": [],
   "execution_count": 18
  },
  {
   "metadata": {},
   "cell_type": "markdown",
   "source": "And load it again, using 'pandas.read_csv'",
   "id": "81d0442f4c316c45"
  },
  {
   "metadata": {
    "ExecuteTime": {
     "end_time": "2025-05-15T09:16:19.449371Z",
     "start_time": "2025-05-15T09:16:19.446448Z"
    }
   },
   "cell_type": "code",
   "source": "df = pandas.read_csv('pandas_students_example.csv')",
   "id": "e05f1e2b2bd620ca",
   "outputs": [],
   "execution_count": 19
  }
 ],
 "metadata": {
  "kernelspec": {
   "display_name": "Python 3",
   "language": "python",
   "name": "python3"
  },
  "language_info": {
   "codemirror_mode": {
    "name": "ipython",
    "version": 2
   },
   "file_extension": ".py",
   "mimetype": "text/x-python",
   "name": "python",
   "nbconvert_exporter": "python",
   "pygments_lexer": "ipython2",
   "version": "2.7.6"
  }
 },
 "nbformat": 4,
 "nbformat_minor": 5
}
