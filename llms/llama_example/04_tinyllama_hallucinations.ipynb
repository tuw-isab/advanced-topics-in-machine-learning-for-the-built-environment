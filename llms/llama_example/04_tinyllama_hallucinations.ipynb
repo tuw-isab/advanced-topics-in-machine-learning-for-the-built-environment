{
 "cells": [
  {
   "cell_type": "code",
   "id": "da568661-f1f5-485e-9552-fbc6f0a323a1",
   "metadata": {},
   "source": [
    "# Download the model if you dont have it already\n",
    "# from transformers import pipeline\n",
    "\n",
    "# import torch\n",
    "# from transformers import pipeline\n",
    "\n",
    "\n",
    "# # https://huggingface.co/Mozilla/TinyLlama-1.1B-Chat-v1.0-llamafile\n",
    "# pipe = pipeline(\n",
    "#     task=\"text-generation\",\n",
    "#     model=\"TinyLlama/TinyLlama-1.1B-Chat-v1.0\",\n",
    "#     torch_dtype=torch.float16,\n",
    "#     device=0\n",
    "# )"
   ],
   "outputs": [],
   "execution_count": null
  },
  {
   "cell_type": "code",
   "id": "900a1c5581303ab2",
   "metadata": {},
   "source": [
    "import torch\n",
    "from transformers import pipeline\n",
    "from pathlib import Path\n",
    "\n",
    "model_path = (Path.home() / Path('shared/210.026-2025S/Lehrmaterialien/pretrained/huggingface/hub/models--TinyLlama--TinyLlama-1.1B-Chat-v1.0/snapshots/fe8a4ea1ffedaf415f4da2f062534de366a451e6/'))\n",
    "\n",
    "pipe = pipeline(\n",
    "    task=\"text-generation\",\n",
    "    model=str(model_path)\n",
    ")"
   ],
   "outputs": [],
   "execution_count": null
  },
  {
   "cell_type": "code",
   "id": "f8a1f299e37432db",
   "metadata": {},
   "source": [
    "\n",
    "# We use the tokenizer's chat template to format each message - see https://huggingface.co/docs/transformers/main/en/chat_templating\n",
    "messages = [\n",
    "    {\n",
    "        \"role\": \"system\",\n",
    "        \"content\": \"You are a friendly chatbot who always responds with the correct answer.\",\n",
    "    },\n",
    "    {\"role\": \"user\", \"content\": \"Where do blue feathered twelve armed cats live?\"},\n",
    "]\n",
    "prompt = pipe.tokenizer.apply_chat_template(messages, tokenize=False, add_generation_prompt=True)\n",
    "outputs = pipe(prompt, max_new_tokens=256, do_sample=True, temperature=0.7, top_k=50, top_p=0.95)\n",
    "print(outputs[0][\"generated_text\"])\n",
    "\n",
    "\"\"\"\n",
    "The blue feathered twelve armed cats are a mythical creature from Indian mythology. They are believed to live in the Himalayas, specifically in the state of Himachal Pradesh in India. The exact location of their habitat is not known, but it is believed to be in the upper reaches of the Himalayas or in the surrounding areas.\n",
    "\"\"\""
   ],
   "outputs": [],
   "execution_count": null
  },
  {
   "cell_type": "code",
   "id": "initial_id",
   "metadata": {
    "collapsed": true,
    "jupyter": {
     "outputs_hidden": true
    }
   },
   "source": [
    "\n",
    "messages = [\n",
    "    {\n",
    "        \"role\": \"system\",\n",
    "        \"content\": \"You are a friendly chatbot who always responds with the correct answer.\",\n",
    "    },\n",
    "    {\"role\": \"user\", \"content\": \"Give me some facts about the behaviour of felis volans tiburo ventralis viridio.\"},\n",
    "]\n",
    "prompt = pipe.tokenizer.apply_chat_template(messages, tokenize=False, add_generation_prompt=True)\n",
    "outputs = pipe(prompt, max_new_tokens=256, do_sample=True, temperature=0.7, top_k=50, top_p=0.95)\n",
    "print(outputs[0][\"generated_text\"])\n",
    "\n",
    "\"\"\"\n",
    "Sure, here are some facts about the behavior of felis volans tiburo ventralis viridio:\n",
    "\n",
    "1. Felis volans tiburo ventralis viridio is a species of cat that is endemic to Mexico.\n",
    "\n",
    "2. Felis volans tiburo ventralis viridio is a subspecies of the domestic cat, also known as the house cat.\n",
    "\n",
    "3. Felis volans tiburo ventralis viridio is the smallest subspecies of the domestic cat.\n",
    "\n",
    "4. Felis volans tiburo ventralis viridio is a nocturnal cat that is active primarily at night.\n",
    "\n",
    "5. Felis volans tiburo ventralis viridio is known for its unique behavior, including its ability to climb trees and swim across water.\n",
    "\n",
    "6. Felis volans tiburo ventralis viridio is also known for its aggressive nature and is known to be territorial and protective of its territory.\n",
    "\n",
    "7. Felis volans tiburo ventralis viridio is a species that is endangered due to habitat loss, as well as the pet trade and other forms of wildlife tra\n",
    "\"\"\"\n"
   ],
   "outputs": [],
   "execution_count": null
  }
 ],
 "metadata": {
  "kernelspec": {
   "display_name": "Python 3",
   "language": "python",
   "name": "python3"
  },
  "language_info": {
   "codemirror_mode": {
    "name": "ipython",
    "version": 3
   },
   "file_extension": ".py",
   "mimetype": "text/x-python",
   "name": "python",
   "nbconvert_exporter": "python",
   "pygments_lexer": "ipython3",
   "version": "3.11.10"
  }
 },
 "nbformat": 4,
 "nbformat_minor": 5
}
