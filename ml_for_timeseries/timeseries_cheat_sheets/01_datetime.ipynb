{
 "cells": [
  {
   "cell_type": "markdown",
   "id": "f1183e3c3a589c89",
   "metadata": {},
   "source": [
    "# Working with time data"
   ]
  },
  {
   "cell_type": "code",
   "execution_count": 1,
   "id": "1a97c9b8a68ecedd",
   "metadata": {
    "ExecuteTime": {
     "end_time": "2025-05-15T04:34:48.013490Z",
     "start_time": "2025-05-15T04:34:48.009004Z"
    }
   },
   "outputs": [],
   "source": [
    "from datetime import datetime, UTC\n",
    "import pytz"
   ]
  },
  {
   "cell_type": "code",
   "execution_count": 74,
   "id": "63fcc8692a6eca3d",
   "metadata": {
    "ExecuteTime": {
     "end_time": "2025-05-14T09:17:38.485099Z",
     "start_time": "2025-05-14T09:17:38.475961Z"
    }
   },
   "outputs": [
    {
     "data": {
      "text/plain": [
       "datetime.datetime(2025, 5, 14, 11, 17, 38, 483490)"
      ]
     },
     "execution_count": 74,
     "metadata": {},
     "output_type": "execute_result"
    }
   ],
   "source": [
    "datetime.now()"
   ]
  },
  {
   "cell_type": "code",
   "execution_count": 75,
   "id": "c23ce3df7bf9844f",
   "metadata": {
    "ExecuteTime": {
     "end_time": "2025-05-14T09:17:38.530742Z",
     "start_time": "2025-05-14T09:17:38.528095Z"
    }
   },
   "outputs": [
    {
     "data": {
      "text/plain": [
       "datetime.datetime(2025, 5, 14, 9, 17, 38, 528957, tzinfo=datetime.timezone.utc)"
      ]
     },
     "execution_count": 75,
     "metadata": {},
     "output_type": "execute_result"
    }
   ],
   "source": [
    "datetime.now(tz=UTC)"
   ]
  },
  {
   "cell_type": "markdown",
   "id": "41c1e1316727d759",
   "metadata": {},
   "source": [
    "## How computers store and work with time internally"
   ]
  },
  {
   "cell_type": "code",
   "execution_count": 76,
   "id": "da4f0ad9bf94c1ca",
   "metadata": {
    "ExecuteTime": {
     "end_time": "2025-05-14T09:17:38.584613Z",
     "start_time": "2025-05-14T09:17:38.580145Z"
    }
   },
   "outputs": [
    {
     "data": {
      "text/plain": [
       "1747214258.581897"
      ]
     },
     "execution_count": 76,
     "metadata": {},
     "output_type": "execute_result"
    }
   ],
   "source": [
    "# Seconds since \"epoch\" where epoch is 01.01.1970 00:00 UTC on linux/unix/mac/android\n",
    "datetime.now().timestamp()"
   ]
  },
  {
   "cell_type": "code",
   "execution_count": 77,
   "id": "d81a2bcb9ee6c8b",
   "metadata": {
    "ExecuteTime": {
     "end_time": "2025-05-14T09:17:38.631999Z",
     "start_time": "2025-05-14T09:17:38.628127Z"
    }
   },
   "outputs": [
    {
     "data": {
      "text/plain": [
       "1747214258.629198"
      ]
     },
     "execution_count": 77,
     "metadata": {},
     "output_type": "execute_result"
    }
   ],
   "source": [
    "# This of course does not care about timestamp (which is a good thing)\n",
    "datetime.now(tz=UTC).timestamp()\n"
   ]
  },
  {
   "cell_type": "markdown",
   "id": "6735098512432af2",
   "metadata": {},
   "source": [
    "## How to get from human readable time to datetime"
   ]
  },
  {
   "cell_type": "markdown",
   "id": "ccf602a2a942bb38",
   "metadata": {},
   "source": [
    "### ISO 8601"
   ]
  },
  {
   "cell_type": "code",
   "execution_count": 78,
   "id": "163429ce62ae3c77",
   "metadata": {
    "ExecuteTime": {
     "end_time": "2025-05-14T09:17:38.677468Z",
     "start_time": "2025-05-14T09:17:38.675606Z"
    }
   },
   "outputs": [],
   "source": [
    "# Local time, creates time in the timezone set on your computer\n",
    "dt_iso_1 = '2025-05-14T10:30:09'\n",
    "dt_iso_2 = '2025-05-14T10:30:09.000'"
   ]
  },
  {
   "cell_type": "code",
   "execution_count": 79,
   "id": "initial_id",
   "metadata": {
    "ExecuteTime": {
     "end_time": "2025-05-14T09:17:38.728101Z",
     "start_time": "2025-05-14T09:17:38.724396Z"
    }
   },
   "outputs": [
    {
     "data": {
      "text/plain": [
       "datetime.datetime(2025, 5, 14, 10, 30, 9)"
      ]
     },
     "execution_count": 79,
     "metadata": {},
     "output_type": "execute_result"
    }
   ],
   "source": [
    "datetime.fromisoformat(dt_iso_1)"
   ]
  },
  {
   "cell_type": "code",
   "execution_count": 80,
   "id": "4c45f83dff7a4208",
   "metadata": {
    "ExecuteTime": {
     "end_time": "2025-05-14T09:17:38.775962Z",
     "start_time": "2025-05-14T09:17:38.773807Z"
    }
   },
   "outputs": [],
   "source": [
    "# With timezone information\n",
    "dt_iso_utc_1 = '2025-05-14T10:30:09.000Z'\n",
    "dt_iso_utc_2 = '2025-05-14T10:30:09.000+00:00'"
   ]
  },
  {
   "cell_type": "code",
   "execution_count": 81,
   "id": "d388d18460bd1d67",
   "metadata": {
    "ExecuteTime": {
     "end_time": "2025-05-14T09:17:38.837186Z",
     "start_time": "2025-05-14T09:17:38.832395Z"
    }
   },
   "outputs": [
    {
     "data": {
      "text/plain": [
       "datetime.datetime(2025, 5, 14, 10, 30, 9, tzinfo=datetime.timezone.utc)"
      ]
     },
     "execution_count": 81,
     "metadata": {},
     "output_type": "execute_result"
    }
   ],
   "source": [
    "datetime.fromisoformat(dt_iso_utc_1)"
   ]
  },
  {
   "cell_type": "code",
   "execution_count": 82,
   "id": "3aaf74dbd34307fe",
   "metadata": {
    "ExecuteTime": {
     "end_time": "2025-05-14T09:17:38.888618Z",
     "start_time": "2025-05-14T09:17:38.885584Z"
    }
   },
   "outputs": [
    {
     "data": {
      "text/plain": [
       "datetime.datetime(2025, 5, 14, 10, 30, 9, tzinfo=datetime.timezone.utc)"
      ]
     },
     "execution_count": 82,
     "metadata": {},
     "output_type": "execute_result"
    }
   ],
   "source": [
    "datetime.fromisoformat(dt_iso_utc_2)"
   ]
  },
  {
   "cell_type": "markdown",
   "id": "122b13f01b086c9",
   "metadata": {},
   "source": [
    "### Custom time formats"
   ]
  },
  {
   "cell_type": "code",
   "execution_count": 83,
   "id": "2d48f455f8015359",
   "metadata": {
    "ExecuteTime": {
     "end_time": "2025-05-14T09:17:38.941126Z",
     "start_time": "2025-05-14T09:17:38.937644Z"
    }
   },
   "outputs": [
    {
     "data": {
      "text/plain": [
       "datetime.datetime(2025, 5, 14, 10, 30, 9)"
      ]
     },
     "execution_count": 83,
     "metadata": {},
     "output_type": "execute_result"
    }
   ],
   "source": [
    "dt_custom = \"14/05/25 10:30:09\"\n",
    "\n",
    "# you have to specify your custom format according to https://docs.python.org/3/library/datetime.html#format-codes\n",
    "format_data = \"%d/%m/%y %H:%M:%S\"\n",
    "\n",
    "datetime.strptime(dt_custom, format_data)\n"
   ]
  },
  {
   "cell_type": "markdown",
   "id": "4cd67ff85becc06d",
   "metadata": {},
   "source": [
    "## Working with timezones"
   ]
  },
  {
   "cell_type": "code",
   "execution_count": 84,
   "id": "c394eecf90803dfc",
   "metadata": {
    "ExecuteTime": {
     "end_time": "2025-05-14T09:17:38.992606Z",
     "start_time": "2025-05-14T09:17:38.989432Z"
    }
   },
   "outputs": [
    {
     "data": {
      "text/plain": [
       "datetime.datetime(2025, 5, 14, 11, 17, 38, 990649)"
      ]
     },
     "execution_count": 84,
     "metadata": {},
     "output_type": "execute_result"
    }
   ],
   "source": [
    "dt = datetime.now()\n",
    "dt"
   ]
  },
  {
   "cell_type": "code",
   "execution_count": 85,
   "id": "18f95c9dc01762ac",
   "metadata": {
    "ExecuteTime": {
     "end_time": "2025-05-14T09:17:39.045111Z",
     "start_time": "2025-05-14T09:17:39.041485Z"
    }
   },
   "outputs": [
    {
     "data": {
      "text/plain": [
       "datetime.datetime(2025, 5, 14, 11, 17, 38, 990649, tzinfo=<UTC>)"
      ]
     },
     "execution_count": 85,
     "metadata": {},
     "output_type": "execute_result"
    }
   ],
   "source": [
    "# simplyset the timezone to utc - does not change the time, just says its utc now.\n",
    "pytz.utc.localize(dt)"
   ]
  },
  {
   "cell_type": "code",
   "execution_count": 86,
   "id": "1342a6ad4b0daa18",
   "metadata": {
    "ExecuteTime": {
     "end_time": "2025-05-14T09:17:39.098575Z",
     "start_time": "2025-05-14T09:17:39.095197Z"
    }
   },
   "outputs": [
    {
     "data": {
      "text/plain": [
       "datetime.datetime(2025, 5, 14, 9, 17, 38, 990649, tzinfo=datetime.timezone.utc)"
      ]
     },
     "execution_count": 86,
     "metadata": {},
     "output_type": "execute_result"
    }
   ],
   "source": [
    "# converting the timezone to utc based on the assumption that the time is in local time (set on your computer)\n",
    "dt.astimezone(UTC)"
   ]
  },
  {
   "cell_type": "code",
   "execution_count": 87,
   "id": "f00cf4b7d611d27",
   "metadata": {
    "ExecuteTime": {
     "end_time": "2025-05-14T09:17:39.151822Z",
     "start_time": "2025-05-14T09:17:39.146545Z"
    }
   },
   "outputs": [
    {
     "name": "stdout",
     "output_type": "stream",
     "text": [
      "2025-05-14 11:17:38.990649-04:00\n",
      "2025-05-14 08:17:38.990649-07:00\n"
     ]
    }
   ],
   "source": [
    "# converting one time zone to another:\n",
    "# list of available timezones: https://gist.github.com/heyalexej/8bf688fd67d7199be4a1682b3eec7568\n",
    "\n",
    "old_timezone = pytz.timezone(\"US/Eastern\")\n",
    "new_timezone = pytz.timezone(\"US/Pacific\")\n",
    "\n",
    "# set the old timezone\n",
    "dt_in_old_timezone = old_timezone.localize(dt)\n",
    "dt_in_new_timezone = dt_in_old_timezone.astimezone(new_timezone)\n",
    "\n",
    "print(dt_in_old_timezone)\n",
    "print(dt_in_new_timezone)"
   ]
  },
  {
   "cell_type": "markdown",
   "id": "507d06eeeb24bced",
   "metadata": {},
   "source": [
    "### Test, Test, Test\n",
    "Working with timezones in python is often confusing and complicated.\n",
    "Always check that your timzone conversion work and do what you actually expect them to do.\n",
    "Check your data after conversion before continuing to work with it.\n",
    "\n",
    "Avoid working with timezone unaware data - weird stuff will happen...\n",
    "Most of the time, you want to get your data to UTC and then not think about it anymore."
   ]
  }
 ],
 "metadata": {
  "kernelspec": {
   "display_name": "Python 3 (ipykernel)",
   "language": "python",
   "name": "python3"
  },
  "language_info": {
   "codemirror_mode": {
    "name": "ipython",
    "version": 3
   },
   "file_extension": ".py",
   "mimetype": "text/x-python",
   "name": "python",
   "nbconvert_exporter": "python",
   "pygments_lexer": "ipython3",
   "version": "3.11.11"
  }
 },
 "nbformat": 4,
 "nbformat_minor": 5
}
