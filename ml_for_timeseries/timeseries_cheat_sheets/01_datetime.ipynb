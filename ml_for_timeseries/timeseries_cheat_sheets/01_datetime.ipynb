{
 "cells": [
  {
   "cell_type": "markdown",
   "id": "f1183e3c3a589c89",
   "metadata": {},
   "source": [
    "# Working with time data"
   ]
  },
  {
   "cell_type": "code",
   "id": "1a97c9b8a68ecedd",
   "metadata": {},
   "source": [
    "from datetime import datetime, UTC\n",
    "import pytz"
   ],
   "outputs": [],
   "execution_count": null
  },
  {
   "cell_type": "code",
   "id": "63fcc8692a6eca3d",
   "metadata": {},
   "source": [
    "datetime.now()"
   ],
   "outputs": [],
   "execution_count": null
  },
  {
   "cell_type": "code",
   "id": "c23ce3df7bf9844f",
   "metadata": {},
   "source": [
    "datetime.now(tz=UTC)"
   ],
   "outputs": [],
   "execution_count": null
  },
  {
   "cell_type": "markdown",
   "id": "41c1e1316727d759",
   "metadata": {},
   "source": [
    "## How computers store and work with time internally"
   ]
  },
  {
   "cell_type": "code",
   "id": "da4f0ad9bf94c1ca",
   "metadata": {},
   "source": [
    "# Seconds since \"epoch\" where epoch is 01.01.1970 00:00 UTC on linux/unix/mac/android\n",
    "datetime.now().timestamp()"
   ],
   "outputs": [],
   "execution_count": null
  },
  {
   "cell_type": "code",
   "id": "d81a2bcb9ee6c8b",
   "metadata": {},
   "source": [
    "# This of course does not care about timestamp (which is a good thing)\n",
    "datetime.now(tz=UTC).timestamp()\n"
   ],
   "outputs": [],
   "execution_count": null
  },
  {
   "cell_type": "markdown",
   "id": "6735098512432af2",
   "metadata": {},
   "source": [
    "## How to get from human readable time to datetime"
   ]
  },
  {
   "cell_type": "markdown",
   "id": "ccf602a2a942bb38",
   "metadata": {},
   "source": [
    "### ISO 8601"
   ]
  },
  {
   "cell_type": "code",
   "id": "163429ce62ae3c77",
   "metadata": {},
   "source": [
    "# Local time, creates time in the timezone set on your computer\n",
    "dt_iso_1 = '2025-05-14T10:30:09'\n",
    "dt_iso_2 = '2025-05-14T10:30:09.000'"
   ],
   "outputs": [],
   "execution_count": null
  },
  {
   "cell_type": "code",
   "id": "initial_id",
   "metadata": {},
   "source": [
    "datetime.fromisoformat(dt_iso_1)"
   ],
   "outputs": [],
   "execution_count": null
  },
  {
   "cell_type": "code",
   "id": "4c45f83dff7a4208",
   "metadata": {},
   "source": [
    "# With timezone information\n",
    "dt_iso_utc_1 = '2025-05-14T10:30:09.000Z'\n",
    "dt_iso_utc_2 = '2025-05-14T10:30:09.000+00:00'"
   ],
   "outputs": [],
   "execution_count": null
  },
  {
   "cell_type": "code",
   "id": "d388d18460bd1d67",
   "metadata": {},
   "source": [
    "datetime.fromisoformat(dt_iso_utc_1)"
   ],
   "outputs": [],
   "execution_count": null
  },
  {
   "cell_type": "code",
   "id": "3aaf74dbd34307fe",
   "metadata": {},
   "source": [
    "datetime.fromisoformat(dt_iso_utc_2)"
   ],
   "outputs": [],
   "execution_count": null
  },
  {
   "cell_type": "markdown",
   "id": "122b13f01b086c9",
   "metadata": {},
   "source": [
    "### Custom time formats"
   ]
  },
  {
   "cell_type": "code",
   "id": "2d48f455f8015359",
   "metadata": {},
   "source": [
    "dt_custom = \"14/05/25 10:30:09\"\n",
    "\n",
    "# you have to specify your custom format according to https://docs.python.org/3/library/datetime.html#format-codes\n",
    "format_data = \"%d/%m/%y %H:%M:%S\"\n",
    "\n",
    "datetime.strptime(dt_custom, format_data)\n"
   ],
   "outputs": [],
   "execution_count": null
  },
  {
   "cell_type": "markdown",
   "id": "4cd67ff85becc06d",
   "metadata": {},
   "source": [
    "## Working with timezones"
   ]
  },
  {
   "cell_type": "code",
   "id": "c394eecf90803dfc",
   "metadata": {},
   "source": [
    "dt = datetime.now()\n",
    "dt"
   ],
   "outputs": [],
   "execution_count": null
  },
  {
   "cell_type": "code",
   "id": "18f95c9dc01762ac",
   "metadata": {},
   "source": [
    "# simplyset the timezone to utc - does not change the time, just says its utc now.\n",
    "pytz.utc.localize(dt)"
   ],
   "outputs": [],
   "execution_count": null
  },
  {
   "cell_type": "code",
   "id": "1342a6ad4b0daa18",
   "metadata": {},
   "source": [
    "# converting the timezone to utc based on the assumption that the time is in local time (set on your computer)\n",
    "dt.astimezone(UTC)"
   ],
   "outputs": [],
   "execution_count": null
  },
  {
   "cell_type": "code",
   "id": "f00cf4b7d611d27",
   "metadata": {},
   "source": [
    "# converting one time zone to another:\n",
    "# list of available timezones: https://gist.github.com/heyalexej/8bf688fd67d7199be4a1682b3eec7568\n",
    "\n",
    "old_timezone = pytz.timezone(\"US/Eastern\")\n",
    "new_timezone = pytz.timezone(\"US/Pacific\")\n",
    "\n",
    "# set the old timezone\n",
    "dt_in_old_timezone = old_timezone.localize(dt)\n",
    "dt_in_new_timezone = dt_in_old_timezone.astimezone(new_timezone)\n",
    "\n",
    "print(dt_in_old_timezone)\n",
    "print(dt_in_new_timezone)"
   ],
   "outputs": [],
   "execution_count": null
  },
  {
   "cell_type": "markdown",
   "id": "507d06eeeb24bced",
   "metadata": {},
   "source": [
    "### Test, Test, Test\n",
    "Working with timezones in python is often confusing and complicated.\n",
    "Always check that your timzone conversion work and do what you actually expect them to do.\n",
    "Check your data after conversion before continuing to work with it.\n",
    "\n",
    "Avoid working with timezone unaware data - weird stuff will happen...\n",
    "Most of the time, you want to get your data to UTC and then not think about it anymore."
   ]
  }
 ],
 "metadata": {
  "kernelspec": {
   "display_name": "Python 3 (ipykernel)",
   "language": "python",
   "name": "python3"
  },
  "language_info": {
   "codemirror_mode": {
    "name": "ipython",
    "version": 3
   },
   "file_extension": ".py",
   "mimetype": "text/x-python",
   "name": "python",
   "nbconvert_exporter": "python",
   "pygments_lexer": "ipython3",
   "version": "3.11.11"
  }
 },
 "nbformat": 4,
 "nbformat_minor": 5
}
