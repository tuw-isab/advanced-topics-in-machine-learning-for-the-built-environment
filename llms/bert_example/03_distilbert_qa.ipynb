{
 "cells": [
  {
   "cell_type": "code",
   "id": "19c44f1f-1e08-4e9a-8bdb-31dc249042b9",
   "metadata": {},
   "source": [
    "# Download the model if you dont have it already\n",
    "# from transformers import pipeline\n",
    "\n",
    "# question_answerer = pipeline(\"question-answering\", model='distilbert-base-cased-distilled-squad')\n"
   ],
   "outputs": [],
   "execution_count": null
  },
  {
   "cell_type": "code",
   "id": "616bb0fcf90024f2",
   "metadata": {},
   "source": [
    "from transformers import pipeline\n",
    "from pathlib import Path\n",
    "\n",
    "model_path = (Path.home() / Path('shared/210.026-2025S/Lehrmaterialien/pretrained/huggingface/hub/models--distilbert-base-cased-distilled-squad/snapshots/564e9b582944a57a3e586bbb98fd6f0a4118db7f/'))\n",
    "\n",
    "question_answerer = pipeline(\"question-answering\", model=str(model_path))\n",
    "\n"
   ],
   "outputs": [],
   "execution_count": null
  },
  {
   "cell_type": "code",
   "id": "a9ebe5a3aaa80e0",
   "metadata": {},
   "source": [
    "context = r\"\"\"\n",
    "Extractive Question Answering is the task of extracting an answer from a text given a question. An example  of a\n",
    "question answering dataset is the SQuAD dataset, which is entirely based on that task. If you would like to fine-tune\n",
    "a model on a SQuAD task, you may leverage the examples/pytorch/question-answering/run_squad.py script.\n",
    "\"\"\"\n",
    "\n",
    "result = question_answerer(question=\"What is a good example of a question answering dataset?\", context=context)\n",
    "print( f\"Answer: '{result['answer']}', score: {round(result['score'], 4)}, start: {result['start']}, end: {result['end']}\")\n",
    "\n"
   ],
   "outputs": [],
   "execution_count": null
  },
  {
   "cell_type": "code",
   "id": "73aa1a6e-c242-4447-8dec-baf04fce940b",
   "metadata": {},
   "source": [],
   "outputs": [],
   "execution_count": null
  }
 ],
 "metadata": {
  "kernelspec": {
   "display_name": "Python 3",
   "language": "python",
   "name": "python3"
  },
  "language_info": {
   "codemirror_mode": {
    "name": "ipython",
    "version": 3
   },
   "file_extension": ".py",
   "mimetype": "text/x-python",
   "name": "python",
   "nbconvert_exporter": "python",
   "pygments_lexer": "ipython3",
   "version": "3.11.10"
  }
 },
 "nbformat": 4,
 "nbformat_minor": 5
}
