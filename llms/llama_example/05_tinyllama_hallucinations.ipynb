{
 "cells": [
  {
   "cell_type": "code",
   "id": "9c3002cb-441e-492a-97b1-aab566997bd1",
   "metadata": {},
   "source": [
    "# Download the model if you dont have it already\n",
    "# from transformers import pipeline\n",
    "\n",
    "# import torch\n",
    "# from transformers import pipeline\n",
    "\n",
    "\n",
    "# # https://huggingface.co/Mozilla/TinyLlama-1.1B-Chat-v1.0-llamafile\n",
    "# pipe = pipeline(\n",
    "#     task=\"text-generation\",\n",
    "#     model=\"TinyLlama/TinyLlama-1.1B-Chat-v1.0\",\n",
    "#     torch_dtype=torch.float16,\n",
    "#     device=0\n",
    "# )"
   ],
   "outputs": [],
   "execution_count": null
  },
  {
   "cell_type": "code",
   "id": "a5d347017f66181e",
   "metadata": {},
   "source": [
    "import torch\n"
   ],
   "outputs": [],
   "execution_count": null
  },
  {
   "cell_type": "code",
   "id": "4f3fb26266382ba5",
   "metadata": {},
   "source": [
    "\n",
    "outputs = pipe(\"<|assistant|>\", max_new_tokens=256, do_sample=True, temperature=0.7, top_k=50, top_p=0.95)\n",
    "print(outputs[0][\"generated_text\"])\n",
    "\n",
    "\"\"\"\n",
    "<|assistant|>\n",
    "\n",
    "1. What is the significance of the term \"invisible\" in the passage?\n",
    "\n",
    "The term \"invisible\" in the passage refers to the people who are not seen or heard by others, but who play a crucial role in the story's events. This term is used to emphasize the hiddenness and the impact of the events on the people involved.\n",
    "\n",
    "2. What is the significance of the phrase \"their secret was safe\" in the passage?\n",
    "\n",
    "The phrase \"their secret was safe\" in the passage refers to the fact that the people involved in the events are not being revealed or revealed to others. This phrase suggests that their secrets are not being revealed to anyone, which could imply that they are safe and secure.\n",
    "\n",
    "3. What is the main theme of the passage?\n",
    "\n",
    "The main theme of the passage is the idea of hiddenness and the impact of events on people. The people involved in the events are not visible or heard, but their impact is felt and seen by others. The phrase \"their secret was safe\" emphasizes the idea that their secrets are not revealed to anyone, which could imply that they are hidden and secure.\n",
    "\n",
    "4. What is the significance\n",
    "\"\"\"\n"
   ],
   "outputs": [],
   "execution_count": null
  }
 ],
 "metadata": {
  "kernelspec": {
   "display_name": "Python 3",
   "language": "python",
   "name": "python3"
  },
  "language_info": {
   "codemirror_mode": {
    "name": "ipython",
    "version": 3
   },
   "file_extension": ".py",
   "mimetype": "text/x-python",
   "name": "python",
   "nbconvert_exporter": "python",
   "pygments_lexer": "ipython3",
   "version": "3.11.10"
  }
 },
 "nbformat": 4,
 "nbformat_minor": 5
}
