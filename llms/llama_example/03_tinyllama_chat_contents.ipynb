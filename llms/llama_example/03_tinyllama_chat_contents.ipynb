{
 "cells": [
  {
   "cell_type": "code",
   "id": "dcd72b9d-582e-4f3b-96d1-d4353cb224a8",
   "metadata": {},
   "source": [
    "# Download the model if you dont have it already\n",
    "# from transformers import pipeline\n",
    "\n",
    "# import torch\n",
    "# from transformers import pipeline\n",
    "\n",
    "\n",
    "# # https://huggingface.co/Mozilla/TinyLlama-1.1B-Chat-v1.0-llamafile\n",
    "# pipe = pipeline(\n",
    "#     task=\"text-generation\",\n",
    "#     model=\"TinyLlama/TinyLlama-1.1B-Chat-v1.0\",\n",
    "#     torch_dtype=torch.float16,\n",
    "#     device=0\n",
    "# )"
   ],
   "outputs": [],
   "execution_count": null
  },
  {
   "cell_type": "code",
   "id": "6da9d67d2ee51678",
   "metadata": {},
   "source": [
    "import torch\n",
    "from transformers import pipeline\n",
    "from pathlib import Path\n",
    "\n",
    "model_path = (Path.home() / Path('shared/210.026-2025S/Lehrmaterialien/pretrained/huggingface/hub/models--TinyLlama--TinyLlama-1.1B-Chat-v1.0/snapshots/fe8a4ea1ffedaf415f4da2f062534de366a451e6/'))\n",
    "\n",
    "pipe = pipeline(\n",
    "    task=\"text-generation\",\n",
    "    model=str(model_path)\n",
    ")"
   ],
   "outputs": [],
   "execution_count": null
  },
  {
   "cell_type": "code",
   "id": "82c161888815a2ed",
   "metadata": {},
   "source": [
    "\n",
    "# We use the tokenizer's chat template to format each message - see https://huggingface.co/docs/transformers/main/en/chat_templating\n",
    "\"\"\"\n",
    "  \"chat_template\": \"{% for message in messages %}\\n{% if message['role'] == 'user' %}\\n{{ '<|user|>\\n' + message['content'] + eos_token }}\\n{% elif message['role'] == 'system' %}\\n{{ '<|system|>\\n' + message['content'] + eos_token }}\\n{% elif message['role'] == 'assistant' %}\\n{{ '<|assistant|>\\n'  + message['content'] + eos_token }}\\n{% endif %}\\n{% if loop.last and add_generation_prompt %}\\n{{ '<|assistant|>' }}\\n{% endif %}\\n{% endfor %}\",\n",
    "\"\"\"\n",
    "\n",
    "messages = [\n",
    "    {\n",
    "        \"role\": \"system\",\n",
    "        \"content\": \"You are a friendly chatbot who always responds with the correct answer.\",\n",
    "    },\n",
    "    {\"role\": \"user\", \"content\": \"How to climb the eiffel tower?\"},\n",
    "]\n",
    "prompt = pipe.tokenizer.apply_chat_template(messages, tokenize=False, add_generation_prompt=True)\n",
    "print(prompt)\n",
    "\n",
    "# \"\"\"\n",
    "# <|system|>\n",
    "# You are a friendly chatbot who always responds with the correct answer.</s>\n",
    "# <|user|>\n",
    "# How to climb the eiffel tower?</s>\n",
    "# <|assistant|>\n",
    "# \"\"\"\n"
   ],
   "outputs": [],
   "execution_count": null
  }
 ],
 "metadata": {
  "kernelspec": {
   "display_name": "Python 3",
   "language": "python",
   "name": "python3"
  },
  "language_info": {
   "codemirror_mode": {
    "name": "ipython",
    "version": 3
   },
   "file_extension": ".py",
   "mimetype": "text/x-python",
   "name": "python",
   "nbconvert_exporter": "python",
   "pygments_lexer": "ipython3",
   "version": "3.11.10"
  }
 },
 "nbformat": 4,
 "nbformat_minor": 5
}
