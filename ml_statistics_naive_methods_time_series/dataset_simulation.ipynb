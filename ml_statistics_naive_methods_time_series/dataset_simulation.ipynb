{
 "cells": [
  {
   "cell_type": "code",
   "execution_count": null,
   "id": "cf470b07",
   "metadata": {},
   "outputs": [],
   "source": [
    "import numpy as np\n",
    "import pandas as pd\n",
    "import pandas as pd\n",
    "import numpy as np\n",
    "import matplotlib.pyplot as plt\n",
    "from scipy import stats"
   ]
  },
  {
   "cell_type": "code",
   "execution_count": null,
   "id": "a1bbc2eb",
   "metadata": {},
   "outputs": [],
   "source": [
    "def simulate_energy_data(n_hours=7*24, seed=0):\n",
    "    # random seed for reproducibility\n",
    "    np.random.seed(seed)\n",
    "    \n",
    "    # time index representing each hour\n",
    "    time = np.arange(n_hours)\n",
    "\n",
    "    # linear trend to simulate gradual increase in energy use\n",
    "    trend = 0.01 * time\n",
    "\n",
    "    # repeating daily seasonality pattern using a sine wave (24-hour cycle)\n",
    "    seasonality = 5 * np.sin(2 * np.pi * time / 24)\n",
    "\n",
    "    # outdoor temperature with a daily cycle and phase shift (peak not at midnight)\n",
    "    temperature = 20 + 5 * np.sin(2 * np.pi * time / 24 + np.pi/3)\n",
    "\n",
    "    # occupancy during 8 AM to 6 PM, and add slight noise\n",
    "    occupancy = (time % 24 >= 8) & (time % 24 <= 18)\n",
    "    occupancy = occupancy.astype(int) * (1 + 0.2 * np.random.randn(n_hours))  # Add noise\n",
    "\n",
    "    # combine all factors to calculate total energy consumption\n",
    "    # - base load = 10\n",
    "    # - influences: trend, seasonality, temperature, occupancy\n",
    "    # - random noise for realism\n",
    "    energy = 10 + trend + seasonality + 0.5 * temperature + 2 * occupancy + np.random.normal(0, 1, n_hours)\n",
    "\n",
    "    # create dataframe\n",
    "    df = pd.DataFrame({\n",
    "        'energy': energy,           # simulated target variable (kWh/hour) (?)\n",
    "        'temperature': temperature, # (?)\n",
    "        'occupancy': occupancy      # (?)\n",
    "    })\n",
    "\n",
    "    return df"
   ]
  },
  {
   "cell_type": "code",
   "execution_count": null,
   "id": "560ff2cd",
   "metadata": {},
   "outputs": [],
   "source": [
    "building_df = simulate_energy_data() # simulation"
   ]
  },
  {
   "cell_type": "code",
   "execution_count": null,
   "id": "e010c12f",
   "metadata": {},
   "outputs": [],
   "source": [
    "# display basic statistics\n",
    "stats_df = building_df[['energy', 'temperature', 'occupancy']].describe()\n",
    "print(\"Basic Statistics:\")\n",
    "print(stats_df)\n",
    "\n",
    "# subplots for visualizing each variable\n",
    "fig, axes = plt.subplots(2, 3, figsize=(15, 12))\n",
    "fig.suptitle('Building Variables Analysis', fontsize=16)\n",
    "\n",
    "# time series for each variable\n",
    "axes[0, 0].plot(building_df.index, building_df['energy'], color='blue')\n",
    "axes[0, 0].set_title('Energy Over Time')\n",
    "axes[0, 0].set_ylabel('Energy')\n",
    "axes[0, 0].grid(True)\n",
    "\n",
    "axes[0, 1].plot(building_df.index, building_df['temperature'], color='red')\n",
    "axes[0, 1].set_title('Temperature Over Time')\n",
    "axes[0, 1].set_ylabel('Temperature')\n",
    "axes[0, 1].grid(True)\n",
    "\n",
    "axes[0, 2].plot(building_df.index, building_df['occupancy'], color='green')\n",
    "axes[0, 2].set_title('Occupancy Over Time')\n",
    "axes[0, 2].set_ylabel('Occupancy')\n",
    "axes[0, 2].grid(True)\n",
    "\n",
    "# histograms with kernel density estimation (KDE)\n",
    "axes[1, 0].hist(building_df['energy'], bins=20, color='blue', alpha=0.7, density=True)\n",
    "\n",
    "energy_kde = stats.gaussian_kde(building_df['energy'].dropna())\n",
    "x_energy = np.linspace(building_df['energy'].min(), building_df['energy'].max(), 1000)\n",
    "axes[1, 0].plot(x_energy, energy_kde(x_energy), 'b-', linewidth=2)\n",
    "axes[1, 0].set_title('Energy Distribution')\n",
    "axes[1, 0].set_xlabel('Energy')\n",
    "\n",
    "axes[1, 1].hist(building_df['temperature'], bins=20, color='red', alpha=0.7, density=True)\n",
    "\n",
    "temp_kde = stats.gaussian_kde(building_df['temperature'].dropna())\n",
    "x_temp = np.linspace(building_df['temperature'].min(), building_df['temperature'].max(), 1000)\n",
    "axes[1, 1].plot(x_temp, temp_kde(x_temp), 'r-', linewidth=2)\n",
    "axes[1, 1].set_title('Temperature Distribution')\n",
    "axes[1, 1].set_xlabel('Temperature')\n",
    "\n",
    "axes[1, 2].hist(building_df['occupancy'], bins=20, color='green', alpha=0.7, density=True)\n",
    "\n",
    "occ_kde = stats.gaussian_kde(building_df['occupancy'].dropna())\n",
    "x_occ = np.linspace(building_df['occupancy'].min(), building_df['occupancy'].max(), 1000)\n",
    "axes[1, 2].plot(x_occ, occ_kde(x_occ), 'g-', linewidth=2)\n",
    "axes[1, 2].set_title('Occupancy Distribution')\n",
    "axes[1, 2].set_xlabel('Occupancy')\n",
    "\n",
    "\n",
    "\n",
    "plt.tight_layout(rect=[0, 0, 1, 0.96])\n",
    "plt.show()\n"
   ]
  },
  {
   "cell_type": "code",
   "execution_count": null,
   "id": "b3976770",
   "metadata": {},
   "outputs": [],
   "source": [
    "building_df.to_excel('sim_building_data.xlsx', index=False)"
   ]
  },
  {
   "cell_type": "code",
   "execution_count": null,
   "id": "148c5344",
   "metadata": {},
   "outputs": [],
   "source": []
  }
 ],
 "metadata": {
  "kernelspec": {
   "display_name": "Python 3 (ipykernel)",
   "language": "python",
   "name": "python3"
  },
  "language_info": {
   "codemirror_mode": {
    "name": "ipython",
    "version": 3
   },
   "file_extension": ".py",
   "mimetype": "text/x-python",
   "name": "python",
   "nbconvert_exporter": "python",
   "pygments_lexer": "ipython3",
   "version": "3.12.3"
  }
 },
 "nbformat": 4,
 "nbformat_minor": 5
}
