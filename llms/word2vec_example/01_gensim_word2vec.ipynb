{
 "cells": [
  {
   "cell_type": "code",
   "id": "99a5ba1bd53cb0ae",
   "metadata": {},
   "source": [
    "! pip install gensim"
   ],
   "outputs": [],
   "execution_count": null
  },
  {
   "cell_type": "code",
   "id": "daee0e2d43456e50",
   "metadata": {},
   "source": [
    "# Download the vectors if you do not have them already\n",
    "# import os.path\n",
    "\n",
    "# from gensim.models import KeyedVectors\n",
    "# import gensim.downloader\n",
    "# if not os.path.exists('word2vec.wordvectors'):\n",
    "#     word_vectors = gensim.downloader.load('word2vec-google-news-300')\n",
    "#     word_vectors.save(\"word2vec.wordvectors\")\n",
    "\n",
    "# word_vectors: KeyedVectors = KeyedVectors.load(\"word2vec.wordvectors\", mmap='r')"
   ],
   "outputs": [],
   "execution_count": null
  },
  {
   "cell_type": "code",
   "id": "e2a5e62b-9a9b-4d2e-8b9e-e71e209dae32",
   "metadata": {},
   "source": [
    "\n",
    "import os.path\n",
    "\n",
    "from gensim.models import KeyedVectors\n",
    "import gensim.downloader\n",
    "from pathlib import Path\n",
    "\n",
    "model_path = (Path.home() / Path('shared/210.026-2025S/Lehrmaterialien/pretrained/gensim-data/word2vec-google-news-300/word2vec-google-news-300.gz'))\n",
    "\n",
    "word_vectors: KeyedVectors = KeyedVectors.load_word2vec_format(str(model_path), binary=True)"
   ],
   "outputs": [],
   "execution_count": null
  },
  {
   "cell_type": "code",
   "id": "e7b2e132faabac20",
   "metadata": {},
   "source": [
    "\n",
    "print(word_vectors.most_similar(positive=['king', 'woman'], negative='man', topn=5))\n",
    "# \"\"\"\n",
    "# [('queen', 0.7118193507194519), ('monarch', 0.6189674139022827), ('princess', 0.5902431011199951), ('crown_prince', 0.5499460697174072), ('prince', 0.5377321839332581)]\n",
    "# \"\"\""
   ],
   "outputs": [],
   "execution_count": null
  },
  {
   "cell_type": "code",
   "id": "4d6f0fa1954cbd64",
   "metadata": {},
   "source": [
    "\n",
    "print(word_vectors.most_similar(positive=['physician', 'woman'], negative='man', topn=5))\n",
    "# \"\"\"\n",
    "# [('doctor', 0.6828262805938721), ('nurse_practitioner', 0.6765698194503784), ('physicians', 0.6691580414772034), ('ob_gyn', 0.6643043160438538), ('gynecologist', 0.658219039440155)]\n",
    "# \"\"\""
   ],
   "outputs": [],
   "execution_count": null
  },
  {
   "cell_type": "code",
   "id": "197602f2c0b45674",
   "metadata": {},
   "source": [
    "\n",
    "print(word_vectors.most_similar(positive=['physician'], negative=None, topn=5))\n",
    "# \"\"\"\n",
    "# [('doctor', 0.7806021571159363), ('physicians', 0.7635090947151184), ('internist', 0.6973546147346497), ('Physician', 0.6826810240745544), ('physican', 0.6763942837715149)]\n",
    "# \"\"\""
   ],
   "outputs": [],
   "execution_count": null
  },
  {
   "cell_type": "code",
   "id": "b4259504a71880b9",
   "metadata": {},
   "source": [
    "\n",
    "print(word_vectors.similar_by_vector(word_vectors['doctor'] - word_vectors['man'] + word_vectors['woman']))\n",
    "# \"\"\"\n",
    "# [('doctor', 0.883492112159729), ('gynecologist', 0.7276507616043091), ('nurse', 0.6698512434959412), ('physician', 0.6674120426177979), ('doctors', 0.664949357509613), ('pediatrician', 0.6398378014564514), ('nurse_practitioner', 0.6237460374832153), ('obstetrician', 0.6188926696777344), ('midwife', 0.6041983366012573), ('dentist', 0.599966287612915)]\n",
    "# \"\"\""
   ],
   "outputs": [],
   "execution_count": null
  },
  {
   "cell_type": "code",
   "id": "3c72c8a3-9893-4d51-b1f9-2c03a87893c7",
   "metadata": {},
   "source": [
    "print(word_vectors.distance('horse', 'man'))\n"
   ],
   "outputs": [],
   "execution_count": null
  },
  {
   "cell_type": "code",
   "id": "5c0f8a9a-ca31-41d4-adfe-07f4ec4a4c8a",
   "metadata": {},
   "source": [],
   "outputs": [],
   "execution_count": null
  }
 ],
 "metadata": {
  "kernelspec": {
   "display_name": "Python 3",
   "language": "python",
   "name": "python3"
  },
  "language_info": {
   "codemirror_mode": {
    "name": "ipython",
    "version": 3
   },
   "file_extension": ".py",
   "mimetype": "text/x-python",
   "name": "python",
   "nbconvert_exporter": "python",
   "pygments_lexer": "ipython3",
   "version": "3.11.10"
  }
 },
 "nbformat": 4,
 "nbformat_minor": 5
}
