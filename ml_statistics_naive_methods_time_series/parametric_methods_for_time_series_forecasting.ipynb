{
 "cells": [
  {
   "cell_type": "markdown",
   "id": "56881cbf",
   "metadata": {},
   "source": [
    "# Parametric methods for Time Series Forecasting\n",
    "\n",
    "The following forecasting methods are implemented in this notebook:\n",
    "- Naive Forecasting Method\n",
    "- Moving Averages (MA)\n",
    "- Autoregressive Integrated Moving Average (ARIMA)\n",
    "\n",
    "The objective of this exercise is to implement the aforementioned techniques and observe the forecasting results. In the end you are asked to define various parametric spaces to experiment with the models and note changes in performance."
   ]
  },
  {
   "cell_type": "markdown",
   "id": "b7718abb",
   "metadata": {},
   "source": [
    "## Imports"
   ]
  },
  {
   "cell_type": "code",
   "execution_count": null,
   "id": "2d3a2209",
   "metadata": {},
   "outputs": [],
   "source": [
    "import pandas as pd\n",
    "import numpy as np\n",
    "import matplotlib.pyplot as plt\n",
    "from statsmodels.graphics.tsaplots import plot_acf, plot_pacf\n",
    "from statsmodels.tsa.stattools import adfuller\n",
    "from statsmodels.tsa.arima.model import ARIMA\n",
    "from statsmodels.tsa.statespace.sarimax import SARIMAX\n",
    "from sklearn.metrics import mean_squared_error"
   ]
  },
  {
   "cell_type": "markdown",
   "id": "1b04cfff",
   "metadata": {},
   "source": [
    "## Load Dataset"
   ]
  },
  {
   "cell_type": "code",
   "execution_count": null,
   "id": "bea23697",
   "metadata": {},
   "outputs": [],
   "source": [
    "def load_dataset(filename):\n",
    "    filename = f\"./{filename}\"\n",
    "    building_df = pd.read_excel(filename)\n",
    "    return building_df\n",
    "\n",
    "\n",
    "def train_test_split(series, train_ratio=0.8):\n",
    "\n",
    "    split_index = int(len(series) * train_ratio) # split index\n",
    "    train = series.iloc[:split_index]\n",
    "    test = series.iloc[split_index:]\n",
    "    return train, test # returns dataframe for both training and testing"
   ]
  },
  {
   "cell_type": "markdown",
   "id": "daf49a5d",
   "metadata": {},
   "source": [
    "## Naive Forecast (Last Value)\n",
    "The **Last Value Naive Forecast** is the simplest forecasting method. It assumes that the most recent observed value will remain the same for all future time steps.\n",
    "\n",
    "$$\n",
    "\\hat{y}_{t+h} = y_t\n",
    "$$\n"
   ]
  },
  {
   "cell_type": "code",
   "execution_count": null,
   "id": "ebede982",
   "metadata": {},
   "outputs": [],
   "source": [
    "def naive_forecast(df, column='energy', forecast_horizon=6):\n",
    "    \n",
    "    # last value from the target variable\n",
    "    last_value = df[column].iloc[-1]\n",
    "    \n",
    "    forecast = np.full(shape=forecast_horizon, fill_value=last_value)\n",
    "    \n",
    "    return forecast"
   ]
  },
  {
   "cell_type": "markdown",
   "id": "2545b387",
   "metadata": {},
   "source": [
    "## Moving Average\n",
    "The **Moving Average Forecast** is a simple method that uses the average of the last \\( k \\) observations to predict future values. It assumes that the recent past provides the best estimate of near-future behavior.\n",
    "\n",
    "$$\n",
    "\\hat{y}_{t+h} = \\frac{1}{k} \\sum_{i=0}^{k-1} y_{t-i}\n",
    "$$"
   ]
  },
  {
   "cell_type": "code",
   "execution_count": null,
   "id": "8cbe7493",
   "metadata": {},
   "outputs": [],
   "source": [
    "def moving_average_forecast(df, column='energy', window_size=3, forecast_horizon=6):\n",
    "    if len(df) < window_size:\n",
    "        raise ValueError(\"Not enough data for the given window size.\")\n",
    "\n",
    "    # compute the moving average over the last `window_size` values\n",
    "    recent_values = df[column].iloc[-window_size:]\n",
    "    forecast_value = recent_values.mean()\n",
    "\n",
    "    return np.full(forecast_horizon, forecast_value) # forecasted values (oneshot - same value repeated for horizon)"
   ]
  },
  {
   "cell_type": "markdown",
   "id": "974323b7",
   "metadata": {},
   "source": [
    "## Autoregressive Integrated Moving Average (ARIMA)\n",
    "\n",
    "**ARIMA** (AutoRegressive Integrated Moving Average) is a classical time series forecasting method used for **univariate data**. It combines three components:\n",
    "\n",
    "- **AR (AutoRegression)**: uses past values\n",
    "- **I (Integrated)**: differencing to make the series stationary\n",
    "- **MA (Moving Average)**: uses past forecast errors\n",
    "\n",
    "$$\n",
    "y'_t = c + \\phi_1 y'_{t-1} + \\dots + \\phi_p y'_{t-p} + \\theta_1 \\epsilon_{t-1} + \\dots + \\theta_q \\epsilon_{t-q}\n",
    "$$\n",
    "\n",
    "Where:\n",
    "- $ y'_t $: differenced version of original series \\( y_t \\)\n",
    "- $ \\phi_i $: AR coefficients\n",
    "- $ \\theta_j $: MA coefficients\n",
    "- $ \\epsilon $: forecast errors\n",
    "\n",
    "ARIMA is best used when:\n",
    "- The series is **univariate**\n",
    "- The data shows **autocorrelation**\n",
    "- The series is (or can be made) **stationary**"
   ]
  },
  {
   "cell_type": "code",
   "execution_count": null,
   "id": "4c2e6c57",
   "metadata": {},
   "outputs": [],
   "source": [
    "def check_acf_pacf_stationarity(train_df, column='energy', lags=40, title=\"Energy Series\"):\n",
    "    \n",
    "    series = train_df[column].dropna()\n",
    "    \n",
    "    plt.figure(figsize=(14, 5))\n",
    "\n",
    "    # Plot ACF\n",
    "    plt.subplot(1, 2, 1)\n",
    "    plot_acf(series, lags=lags, ax=plt.gca())\n",
    "    plt.title(f\"ACF: {title}\")\n",
    "\n",
    "    # Plot PACF\n",
    "    plt.subplot(1, 2, 2)\n",
    "    plot_pacf(series, lags=lags, ax=plt.gca())\n",
    "    plt.title(f\"PACF: {title}\")\n",
    "    plt.tight_layout()\n",
    "    plt.show()\n",
    "\n",
    "    # Run ADF test for stationarity\n",
    "    adf_result = adfuller(series)\n",
    "    print(\"ADF Statistic:\", adf_result[0])\n",
    "    print(\"p-value:\", adf_result[1])\n",
    "    \n",
    "def run_arima_forecast(train_df, column='energy', order=(1, 1, 1), forecast_horizon=6):\n",
    "    \n",
    "    series = train_df[column].dropna()\n",
    "    \n",
    "    model = ARIMA(series, order=order)\n",
    "    model_fit = model.fit()\n",
    "\n",
    "    forecast = model_fit.forecast(steps=forecast_horizon)\n",
    "\n",
    "    return np.asarray(forecast)\n",
    "\n",
    "def run_arima_sarimax(train_df, column='energy', order=(1,1,1), seasonal_order=(1,1,1,24), forecast_horizon=6):\n",
    "    series = train_df[column].dropna()\n",
    "    model = SARIMAX(series,\n",
    "                order=order,          # ARIMA part\n",
    "                seasonal_order=seasonal_order)  # SARIMA seasonal part\n",
    "    \n",
    "    model_fit = model.fit()\n",
    "    forecast = model_fit.forecast(steps=forecast_horizon)\n",
    "    \n",
    "    return np.asarray(forecast)"
   ]
  },
  {
   "cell_type": "markdown",
   "id": "eb6fa6aa",
   "metadata": {},
   "source": [
    "## Model Evaluation"
   ]
  },
  {
   "cell_type": "code",
   "execution_count": null,
   "id": "545efc60",
   "metadata": {},
   "outputs": [],
   "source": [
    "def evaluate_model(model_name, y_test, y_pred):\n",
    "    \n",
    "    #calculate MSE\n",
    "    mse = mean_squared_error(y_test, y_pred)\n",
    "    \n",
    "    print(f\"{model_name} - Multi-step Forecast MSE: {mse:.2f}\")"
   ]
  },
  {
   "cell_type": "markdown",
   "id": "3017d449",
   "metadata": {},
   "source": [
    "### Execution"
   ]
  },
  {
   "cell_type": "code",
   "execution_count": null,
   "id": "cef2aa5f",
   "metadata": {},
   "outputs": [],
   "source": [
    "# load and split the data\n",
    "building_df = load_dataset(\"sim_building_data.xlsx\")\n",
    "train_df, test_df = train_test_split(building_df)\n"
   ]
  },
  {
   "cell_type": "code",
   "execution_count": null,
   "id": "0ceabeca",
   "metadata": {},
   "outputs": [],
   "source": [
    "# define forecasting window\n",
    "forecast_horizon = 24 \n",
    "\n",
    "# make prediction using naive model (last value)\n",
    "naive_y_pred = naive_forecast(train_df, forecast_horizon=forecast_horizon)\n",
    "\n",
    "# make predictions using moving average\n",
    "moving_average_y_pred = moving_average_forecast(train_df, forecast_horizon=forecast_horizon)"
   ]
  },
  {
   "cell_type": "code",
   "execution_count": null,
   "id": "c1dd081e",
   "metadata": {},
   "outputs": [],
   "source": [
    "# plot autocorrelation plots (ACF) and partial auto \n",
    "\n",
    "check_acf_pacf_stationarity(train_df)"
   ]
  },
  {
   "cell_type": "code",
   "execution_count": null,
   "id": "5a9b6581",
   "metadata": {},
   "outputs": [],
   "source": [
    "arima_y_pred = run_arima_forecast(train_df, forecast_horizon=forecast_horizon, order=(1, 1, 1))"
   ]
  },
  {
   "cell_type": "code",
   "execution_count": null,
   "id": "bfa72abe",
   "metadata": {},
   "outputs": [],
   "source": [
    "sarima_y_pred = run_arima_sarimax(train_df, forecast_horizon=forecast_horizon)"
   ]
  },
  {
   "cell_type": "code",
   "execution_count": null,
   "id": "bc394b4d",
   "metadata": {},
   "outputs": [],
   "source": [
    "y_test = np.asarray(test_df['energy'][:forecast_horizon])"
   ]
  },
  {
   "cell_type": "code",
   "execution_count": null,
   "id": "9da9577f",
   "metadata": {},
   "outputs": [],
   "source": [
    "\n",
    "evaluate_model(\"Naive Forecast\", y_test, naive_y_pred)\n",
    "\n",
    "evaluate_model(\"Movign Average\", y_test, moving_average_y_pred)\n",
    "\n",
    "evaluate_model(\"ARIMA\", y_test, arima_y_pred)\n",
    "\n",
    "evaluate_model(\"SARIMA\", y_test, sarima_y_pred)"
   ]
  },
  {
   "cell_type": "markdown",
   "id": "a4e491ac",
   "metadata": {},
   "source": [
    "# Further Tasks\n",
    "### 1. Try out different forecasted horizon\n",
    "### 1. Try different forecast horizons (e.g., 3, 12)\n",
    "### 3. Compare performance using MAE\n",
    "### BONUS: Train ML model and compare the performance with simple baseline and ARIMA"
   ]
  },
  {
   "cell_type": "code",
   "execution_count": null,
   "id": "ac3abcc5",
   "metadata": {},
   "outputs": [],
   "source": []
  }
 ],
 "metadata": {
  "kernelspec": {
   "display_name": "Python 3 (ipykernel)",
   "language": "python",
   "name": "python3"
  },
  "language_info": {
   "codemirror_mode": {
    "name": "ipython",
    "version": 3
   },
   "file_extension": ".py",
   "mimetype": "text/x-python",
   "name": "python",
   "nbconvert_exporter": "python",
   "pygments_lexer": "ipython3",
   "version": "3.12.3"
  }
 },
 "nbformat": 4,
 "nbformat_minor": 5
}
