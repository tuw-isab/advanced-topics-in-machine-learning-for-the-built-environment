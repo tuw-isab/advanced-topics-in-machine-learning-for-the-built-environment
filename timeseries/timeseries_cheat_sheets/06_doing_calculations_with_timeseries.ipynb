{
 "cells": [
  {
   "metadata": {},
   "cell_type": "markdown",
   "source": "# Doing calculations on timeseries",
   "id": "cb1dd0bf99e41046"
  },
  {
   "metadata": {},
   "cell_type": "code",
   "source": "import pandas",
   "id": "3022f15ccf2fd125",
   "outputs": [],
   "execution_count": null
  },
  {
   "metadata": {},
   "cell_type": "code",
   "source": [
    "df = pandas.read_csv('Messstationen_Tagesdaten_v2_Datensatz_19900101_20250515.csv')\n",
    "df['time'] = pandas.to_datetime(df['time'])\n",
    "df = df.set_index('time')\n",
    "df = df.dropna()\n",
    "df.head(5)"
   ],
   "id": "756befeb649f75be",
   "outputs": [],
   "execution_count": null
  },
  {
   "metadata": {},
   "cell_type": "markdown",
   "source": "## Works the same as with regular pandas series",
   "id": "bb0a1993ea06ab27"
  },
  {
   "metadata": {},
   "cell_type": "code",
   "source": [
    "# calculations based on columns\n",
    "df['tlmax'] - df['tlmin']"
   ],
   "id": "30dfcd02ef4032e9",
   "outputs": [],
   "execution_count": null
  },
  {
   "metadata": {},
   "cell_type": "code",
   "source": [
    "# calculate the difference between the current and the last timestep\n",
    "df.diff()"
   ],
   "id": "d08934c2862ca17d",
   "outputs": [],
   "execution_count": null
  }
 ],
 "metadata": {
  "kernelspec": {
   "display_name": "Python 3",
   "language": "python",
   "name": "python3"
  },
  "language_info": {
   "codemirror_mode": {
    "name": "ipython",
    "version": 2
   },
   "file_extension": ".py",
   "mimetype": "text/x-python",
   "name": "python",
   "nbconvert_exporter": "python",
   "pygments_lexer": "ipython2",
   "version": "2.7.6"
  }
 },
 "nbformat": 4,
 "nbformat_minor": 5
}
