{
 "cells": [
  {
   "cell_type": "markdown",
   "id": "cb1dd0bf99e41046",
   "metadata": {},
   "source": [
    "# Reading timeseries in pandas"
   ]
  },
  {
   "cell_type": "code",
   "id": "3022f15ccf2fd125",
   "metadata": {
    "ExecuteTime": {
     "end_time": "2025-05-15T09:10:06.665098Z",
     "start_time": "2025-05-15T09:10:06.662566Z"
    }
   },
   "source": [
    "import pandas\n",
    "from datetime import datetime, timedelta\n",
    "from io import StringIO\n",
    "\n",
    "import pytz"
   ],
   "outputs": [],
   "execution_count": 1
  },
  {
   "cell_type": "markdown",
   "id": "391a4d6eb88117dc",
   "metadata": {},
   "source": [
    "## TZ aware ISO Formatted example"
   ]
  },
  {
   "cell_type": "code",
   "id": "5c47880b2a87b06f",
   "metadata": {
    "ExecuteTime": {
     "end_time": "2025-05-15T09:10:06.703501Z",
     "start_time": "2025-05-15T09:10:06.671858Z"
    }
   },
   "source": [
    "# Example weather measurement data from tawes, timestamps include a timzeone information and are in iso format\n",
    "tawes_utc = \"\"\"\n",
    "time,station,cglo_j,rr,tl_mittel,vv_mittel,p_mittel,tlmin,tlmax\n",
    "1999-04-09T00:00+00:00,5925,,-1,7.4,1.0,962.1,2.2,12.6\n",
    "1999-04-10T00:00+00:00,5925,,-1,8.3,1.0,957.7,-0.6,17.1\n",
    "1999-04-11T00:00+00:00,5925,,-1,10.9,1.5,951.9,7.5,14.3\n",
    "1999-04-12T00:00+00:00,5925,,2.5,8.1,1.0,947.4,4.5,11.7\n",
    "1999-04-13T00:00+00:00,5925,,7.8,9.1,0.6,939.7,6.2,12.0\n",
    "1999-04-14T00:00+00:00,5925,,0.4,6.5,1.0,945.4,0.9,12.1\n",
    "1999-04-15T00:00+00:00,5925,,-1,9.5,1.5,946.4,2.9,16.0\n",
    "1999-04-16T00:00+00:00,5925,,7.7,11.5,0.6,944.4,9.6,13.3\n",
    "1999-04-17T00:00+00:00,5925,,2.1,7.2,1.0,942.7,4.8,9.6\n",
    "1999-04-18T00:00+00:00,5925,,-1,6.7,1.0,949.9,2.5,10.9\n",
    "\"\"\""
   ],
   "outputs": [],
   "execution_count": 2
  },
  {
   "cell_type": "code",
   "id": "756befeb649f75be",
   "metadata": {
    "ExecuteTime": {
     "end_time": "2025-05-15T09:10:06.796154Z",
     "start_time": "2025-05-15T09:10:06.787934Z"
    }
   },
   "source": [
    "df = pandas.read_csv(StringIO(tawes_utc))\n",
    "df.head(5)"
   ],
   "outputs": [
    {
     "data": {
      "text/plain": [
       "                     time  station  cglo_j   rr  tl_mittel  vv_mittel  \\\n",
       "0  1999-04-09T00:00+00:00     5925     NaN -1.0        7.4        1.0   \n",
       "1  1999-04-10T00:00+00:00     5925     NaN -1.0        8.3        1.0   \n",
       "2  1999-04-11T00:00+00:00     5925     NaN -1.0       10.9        1.5   \n",
       "3  1999-04-12T00:00+00:00     5925     NaN  2.5        8.1        1.0   \n",
       "4  1999-04-13T00:00+00:00     5925     NaN  7.8        9.1        0.6   \n",
       "\n",
       "   p_mittel  tlmin  tlmax  \n",
       "0     962.1    2.2   12.6  \n",
       "1     957.7   -0.6   17.1  \n",
       "2     951.9    7.5   14.3  \n",
       "3     947.4    4.5   11.7  \n",
       "4     939.7    6.2   12.0  "
      ],
      "text/html": [
       "<div>\n",
       "<style scoped>\n",
       "    .dataframe tbody tr th:only-of-type {\n",
       "        vertical-align: middle;\n",
       "    }\n",
       "\n",
       "    .dataframe tbody tr th {\n",
       "        vertical-align: top;\n",
       "    }\n",
       "\n",
       "    .dataframe thead th {\n",
       "        text-align: right;\n",
       "    }\n",
       "</style>\n",
       "<table border=\"1\" class=\"dataframe\">\n",
       "  <thead>\n",
       "    <tr style=\"text-align: right;\">\n",
       "      <th></th>\n",
       "      <th>time</th>\n",
       "      <th>station</th>\n",
       "      <th>cglo_j</th>\n",
       "      <th>rr</th>\n",
       "      <th>tl_mittel</th>\n",
       "      <th>vv_mittel</th>\n",
       "      <th>p_mittel</th>\n",
       "      <th>tlmin</th>\n",
       "      <th>tlmax</th>\n",
       "    </tr>\n",
       "  </thead>\n",
       "  <tbody>\n",
       "    <tr>\n",
       "      <th>0</th>\n",
       "      <td>1999-04-09T00:00+00:00</td>\n",
       "      <td>5925</td>\n",
       "      <td>NaN</td>\n",
       "      <td>-1.0</td>\n",
       "      <td>7.4</td>\n",
       "      <td>1.0</td>\n",
       "      <td>962.1</td>\n",
       "      <td>2.2</td>\n",
       "      <td>12.6</td>\n",
       "    </tr>\n",
       "    <tr>\n",
       "      <th>1</th>\n",
       "      <td>1999-04-10T00:00+00:00</td>\n",
       "      <td>5925</td>\n",
       "      <td>NaN</td>\n",
       "      <td>-1.0</td>\n",
       "      <td>8.3</td>\n",
       "      <td>1.0</td>\n",
       "      <td>957.7</td>\n",
       "      <td>-0.6</td>\n",
       "      <td>17.1</td>\n",
       "    </tr>\n",
       "    <tr>\n",
       "      <th>2</th>\n",
       "      <td>1999-04-11T00:00+00:00</td>\n",
       "      <td>5925</td>\n",
       "      <td>NaN</td>\n",
       "      <td>-1.0</td>\n",
       "      <td>10.9</td>\n",
       "      <td>1.5</td>\n",
       "      <td>951.9</td>\n",
       "      <td>7.5</td>\n",
       "      <td>14.3</td>\n",
       "    </tr>\n",
       "    <tr>\n",
       "      <th>3</th>\n",
       "      <td>1999-04-12T00:00+00:00</td>\n",
       "      <td>5925</td>\n",
       "      <td>NaN</td>\n",
       "      <td>2.5</td>\n",
       "      <td>8.1</td>\n",
       "      <td>1.0</td>\n",
       "      <td>947.4</td>\n",
       "      <td>4.5</td>\n",
       "      <td>11.7</td>\n",
       "    </tr>\n",
       "    <tr>\n",
       "      <th>4</th>\n",
       "      <td>1999-04-13T00:00+00:00</td>\n",
       "      <td>5925</td>\n",
       "      <td>NaN</td>\n",
       "      <td>7.8</td>\n",
       "      <td>9.1</td>\n",
       "      <td>0.6</td>\n",
       "      <td>939.7</td>\n",
       "      <td>6.2</td>\n",
       "      <td>12.0</td>\n",
       "    </tr>\n",
       "  </tbody>\n",
       "</table>\n",
       "</div>"
      ]
     },
     "execution_count": 3,
     "metadata": {},
     "output_type": "execute_result"
    }
   ],
   "execution_count": 3
  },
  {
   "cell_type": "code",
   "id": "f9b1d0a9f6b090a4",
   "metadata": {
    "ExecuteTime": {
     "end_time": "2025-05-15T09:10:06.861720Z",
     "start_time": "2025-05-15T09:10:06.859314Z"
    }
   },
   "source": [
    "df['time'].dtype"
   ],
   "outputs": [
    {
     "data": {
      "text/plain": [
       "dtype('O')"
      ]
     },
     "execution_count": 4,
     "metadata": {},
     "output_type": "execute_result"
    }
   ],
   "execution_count": 4
  },
  {
   "cell_type": "code",
   "id": "b00e5a9fc32ca169",
   "metadata": {
    "ExecuteTime": {
     "end_time": "2025-05-15T09:10:06.915246Z",
     "start_time": "2025-05-15T09:10:06.908440Z"
    }
   },
   "source": [
    "df['time'] = pandas.to_datetime(df['time'])\n",
    "df['time'].dtype"
   ],
   "outputs": [
    {
     "data": {
      "text/plain": [
       "datetime64[ns, UTC]"
      ]
     },
     "execution_count": 5,
     "metadata": {},
     "output_type": "execute_result"
    }
   ],
   "execution_count": 5
  },
  {
   "cell_type": "code",
   "id": "a36966a8e5007d47",
   "metadata": {
    "ExecuteTime": {
     "end_time": "2025-05-15T09:10:06.958925Z",
     "start_time": "2025-05-15T09:10:06.951955Z"
    }
   },
   "source": [
    "df.head(5)"
   ],
   "outputs": [
    {
     "data": {
      "text/plain": [
       "                       time  station  cglo_j   rr  tl_mittel  vv_mittel  \\\n",
       "0 1999-04-09 00:00:00+00:00     5925     NaN -1.0        7.4        1.0   \n",
       "1 1999-04-10 00:00:00+00:00     5925     NaN -1.0        8.3        1.0   \n",
       "2 1999-04-11 00:00:00+00:00     5925     NaN -1.0       10.9        1.5   \n",
       "3 1999-04-12 00:00:00+00:00     5925     NaN  2.5        8.1        1.0   \n",
       "4 1999-04-13 00:00:00+00:00     5925     NaN  7.8        9.1        0.6   \n",
       "\n",
       "   p_mittel  tlmin  tlmax  \n",
       "0     962.1    2.2   12.6  \n",
       "1     957.7   -0.6   17.1  \n",
       "2     951.9    7.5   14.3  \n",
       "3     947.4    4.5   11.7  \n",
       "4     939.7    6.2   12.0  "
      ],
      "text/html": [
       "<div>\n",
       "<style scoped>\n",
       "    .dataframe tbody tr th:only-of-type {\n",
       "        vertical-align: middle;\n",
       "    }\n",
       "\n",
       "    .dataframe tbody tr th {\n",
       "        vertical-align: top;\n",
       "    }\n",
       "\n",
       "    .dataframe thead th {\n",
       "        text-align: right;\n",
       "    }\n",
       "</style>\n",
       "<table border=\"1\" class=\"dataframe\">\n",
       "  <thead>\n",
       "    <tr style=\"text-align: right;\">\n",
       "      <th></th>\n",
       "      <th>time</th>\n",
       "      <th>station</th>\n",
       "      <th>cglo_j</th>\n",
       "      <th>rr</th>\n",
       "      <th>tl_mittel</th>\n",
       "      <th>vv_mittel</th>\n",
       "      <th>p_mittel</th>\n",
       "      <th>tlmin</th>\n",
       "      <th>tlmax</th>\n",
       "    </tr>\n",
       "  </thead>\n",
       "  <tbody>\n",
       "    <tr>\n",
       "      <th>0</th>\n",
       "      <td>1999-04-09 00:00:00+00:00</td>\n",
       "      <td>5925</td>\n",
       "      <td>NaN</td>\n",
       "      <td>-1.0</td>\n",
       "      <td>7.4</td>\n",
       "      <td>1.0</td>\n",
       "      <td>962.1</td>\n",
       "      <td>2.2</td>\n",
       "      <td>12.6</td>\n",
       "    </tr>\n",
       "    <tr>\n",
       "      <th>1</th>\n",
       "      <td>1999-04-10 00:00:00+00:00</td>\n",
       "      <td>5925</td>\n",
       "      <td>NaN</td>\n",
       "      <td>-1.0</td>\n",
       "      <td>8.3</td>\n",
       "      <td>1.0</td>\n",
       "      <td>957.7</td>\n",
       "      <td>-0.6</td>\n",
       "      <td>17.1</td>\n",
       "    </tr>\n",
       "    <tr>\n",
       "      <th>2</th>\n",
       "      <td>1999-04-11 00:00:00+00:00</td>\n",
       "      <td>5925</td>\n",
       "      <td>NaN</td>\n",
       "      <td>-1.0</td>\n",
       "      <td>10.9</td>\n",
       "      <td>1.5</td>\n",
       "      <td>951.9</td>\n",
       "      <td>7.5</td>\n",
       "      <td>14.3</td>\n",
       "    </tr>\n",
       "    <tr>\n",
       "      <th>3</th>\n",
       "      <td>1999-04-12 00:00:00+00:00</td>\n",
       "      <td>5925</td>\n",
       "      <td>NaN</td>\n",
       "      <td>2.5</td>\n",
       "      <td>8.1</td>\n",
       "      <td>1.0</td>\n",
       "      <td>947.4</td>\n",
       "      <td>4.5</td>\n",
       "      <td>11.7</td>\n",
       "    </tr>\n",
       "    <tr>\n",
       "      <th>4</th>\n",
       "      <td>1999-04-13 00:00:00+00:00</td>\n",
       "      <td>5925</td>\n",
       "      <td>NaN</td>\n",
       "      <td>7.8</td>\n",
       "      <td>9.1</td>\n",
       "      <td>0.6</td>\n",
       "      <td>939.7</td>\n",
       "      <td>6.2</td>\n",
       "      <td>12.0</td>\n",
       "    </tr>\n",
       "  </tbody>\n",
       "</table>\n",
       "</div>"
      ]
     },
     "execution_count": 6,
     "metadata": {},
     "output_type": "execute_result"
    }
   ],
   "execution_count": 6
  },
  {
   "cell_type": "markdown",
   "id": "463da87e937bb172",
   "metadata": {},
   "source": [
    "## TZ UNaware ISO Formatted example\n"
   ]
  },
  {
   "cell_type": "code",
   "id": "d4b2477c779c52dc",
   "metadata": {
    "ExecuteTime": {
     "end_time": "2025-05-15T09:10:07.023506Z",
     "start_time": "2025-05-15T09:10:07.021864Z"
    }
   },
   "source": [
    "# Example weather measurement data from tawes, timestamps are in iso format but do not include a tz info\n",
    "tawes_notz = \"\"\"\n",
    "time,station,cglo_j,rr,tl_mittel,vv_mittel,p_mittel,tlmin,tlmax\n",
    "1999-04-09T00:00,5925,,-1,7.4,1.0,962.1,2.2,12.6\n",
    "1999-04-10T00:00,5925,,-1,8.3,1.0,957.7,-0.6,17.1\n",
    "1999-04-11T00:00,5925,,-1,10.9,1.5,951.9,7.5,14.3\n",
    "1999-04-12T00:00,5925,,2.5,8.1,1.0,947.4,4.5,11.7\n",
    "1999-04-13T00:00,5925,,7.8,9.1,0.6,939.7,6.2,12.0\n",
    "1999-04-14T00:00,5925,,0.4,6.5,1.0,945.4,0.9,12.1\n",
    "1999-04-15T00:00,5925,,-1,9.5,1.5,946.4,2.9,16.0\n",
    "1999-04-16T00:00,5925,,7.7,11.5,0.6,944.4,9.6,13.3\n",
    "1999-04-17T00:00,5925,,2.1,7.2,1.0,942.7,4.8,9.6\n",
    "1999-04-18T00:00,5925,,-1,6.7,1.0,949.9,2.5,10.9\n",
    "\"\"\""
   ],
   "outputs": [],
   "execution_count": 7
  },
  {
   "cell_type": "code",
   "id": "6061cd8cd9c7e65f",
   "metadata": {
    "ExecuteTime": {
     "end_time": "2025-05-15T09:10:07.077161Z",
     "start_time": "2025-05-15T09:10:07.069114Z"
    }
   },
   "source": [
    "df = pandas.read_csv(StringIO(tawes_notz))\n",
    "df.head(5)"
   ],
   "outputs": [
    {
     "data": {
      "text/plain": [
       "               time  station  cglo_j   rr  tl_mittel  vv_mittel  p_mittel  \\\n",
       "0  1999-04-09T00:00    13305     NaN -1.0        7.4        1.0     962.1   \n",
       "1  1999-04-10T00:00    13305     NaN -1.0        8.3        1.0     957.7   \n",
       "2  1999-04-11T00:00    13305     NaN -1.0       10.9        1.5     951.9   \n",
       "3  1999-04-12T00:00    13305     NaN  2.5        8.1        1.0     947.4   \n",
       "4  1999-04-13T00:00    13305     NaN  7.8        9.1        0.6     939.7   \n",
       "\n",
       "   tlmin  tlmax  \n",
       "0    2.2   12.6  \n",
       "1   -0.6   17.1  \n",
       "2    7.5   14.3  \n",
       "3    4.5   11.7  \n",
       "4    6.2   12.0  "
      ],
      "text/html": [
       "<div>\n",
       "<style scoped>\n",
       "    .dataframe tbody tr th:only-of-type {\n",
       "        vertical-align: middle;\n",
       "    }\n",
       "\n",
       "    .dataframe tbody tr th {\n",
       "        vertical-align: top;\n",
       "    }\n",
       "\n",
       "    .dataframe thead th {\n",
       "        text-align: right;\n",
       "    }\n",
       "</style>\n",
       "<table border=\"1\" class=\"dataframe\">\n",
       "  <thead>\n",
       "    <tr style=\"text-align: right;\">\n",
       "      <th></th>\n",
       "      <th>time</th>\n",
       "      <th>station</th>\n",
       "      <th>cglo_j</th>\n",
       "      <th>rr</th>\n",
       "      <th>tl_mittel</th>\n",
       "      <th>vv_mittel</th>\n",
       "      <th>p_mittel</th>\n",
       "      <th>tlmin</th>\n",
       "      <th>tlmax</th>\n",
       "    </tr>\n",
       "  </thead>\n",
       "  <tbody>\n",
       "    <tr>\n",
       "      <th>0</th>\n",
       "      <td>1999-04-09T00:00</td>\n",
       "      <td>13305</td>\n",
       "      <td>NaN</td>\n",
       "      <td>-1.0</td>\n",
       "      <td>7.4</td>\n",
       "      <td>1.0</td>\n",
       "      <td>962.1</td>\n",
       "      <td>2.2</td>\n",
       "      <td>12.6</td>\n",
       "    </tr>\n",
       "    <tr>\n",
       "      <th>1</th>\n",
       "      <td>1999-04-10T00:00</td>\n",
       "      <td>13305</td>\n",
       "      <td>NaN</td>\n",
       "      <td>-1.0</td>\n",
       "      <td>8.3</td>\n",
       "      <td>1.0</td>\n",
       "      <td>957.7</td>\n",
       "      <td>-0.6</td>\n",
       "      <td>17.1</td>\n",
       "    </tr>\n",
       "    <tr>\n",
       "      <th>2</th>\n",
       "      <td>1999-04-11T00:00</td>\n",
       "      <td>13305</td>\n",
       "      <td>NaN</td>\n",
       "      <td>-1.0</td>\n",
       "      <td>10.9</td>\n",
       "      <td>1.5</td>\n",
       "      <td>951.9</td>\n",
       "      <td>7.5</td>\n",
       "      <td>14.3</td>\n",
       "    </tr>\n",
       "    <tr>\n",
       "      <th>3</th>\n",
       "      <td>1999-04-12T00:00</td>\n",
       "      <td>13305</td>\n",
       "      <td>NaN</td>\n",
       "      <td>2.5</td>\n",
       "      <td>8.1</td>\n",
       "      <td>1.0</td>\n",
       "      <td>947.4</td>\n",
       "      <td>4.5</td>\n",
       "      <td>11.7</td>\n",
       "    </tr>\n",
       "    <tr>\n",
       "      <th>4</th>\n",
       "      <td>1999-04-13T00:00</td>\n",
       "      <td>13305</td>\n",
       "      <td>NaN</td>\n",
       "      <td>7.8</td>\n",
       "      <td>9.1</td>\n",
       "      <td>0.6</td>\n",
       "      <td>939.7</td>\n",
       "      <td>6.2</td>\n",
       "      <td>12.0</td>\n",
       "    </tr>\n",
       "  </tbody>\n",
       "</table>\n",
       "</div>"
      ]
     },
     "execution_count": 8,
     "metadata": {},
     "output_type": "execute_result"
    }
   ],
   "execution_count": 8
  },
  {
   "cell_type": "code",
   "id": "8d315ffc13e5569e",
   "metadata": {
    "ExecuteTime": {
     "end_time": "2025-05-15T09:10:07.131037Z",
     "start_time": "2025-05-15T09:10:07.126562Z"
    }
   },
   "source": [
    "time_col_in_ns = pandas.to_datetime(df['time'])\n",
    "print(time_col_in_ns.head(3))"
   ],
   "outputs": [
    {
     "name": "stdout",
     "output_type": "stream",
     "text": [
      "0   1999-04-09\n",
      "1   1999-04-10\n",
      "2   1999-04-11\n",
      "Name: time, dtype: datetime64[ns]\n"
     ]
    }
   ],
   "execution_count": 9
  },
  {
   "cell_type": "markdown",
   "id": "b1334d7acaea7771",
   "metadata": {},
   "source": [
    "### Setting the time to UTC"
   ]
  },
  {
   "cell_type": "code",
   "id": "9188a98fb867eb1e",
   "metadata": {
    "ExecuteTime": {
     "end_time": "2025-05-15T09:10:07.180851Z",
     "start_time": "2025-05-15T09:10:07.176554Z"
    }
   },
   "source": [
    "time_assumed_in_utc = pandas.to_datetime(df['time'], utc=True)\n",
    "print(time_assumed_in_utc.head(3))"
   ],
   "outputs": [
    {
     "name": "stdout",
     "output_type": "stream",
     "text": [
      "0   1999-04-09 00:00:00+00:00\n",
      "1   1999-04-10 00:00:00+00:00\n",
      "2   1999-04-11 00:00:00+00:00\n",
      "Name: time, dtype: datetime64[ns, UTC]\n"
     ]
    }
   ],
   "execution_count": 10
  },
  {
   "cell_type": "code",
   "id": "deb0790e771933d5",
   "metadata": {
    "ExecuteTime": {
     "end_time": "2025-05-15T09:10:07.204135Z",
     "start_time": "2025-05-15T09:10:07.201193Z"
    }
   },
   "source": [
    "again_time_assumed_in_utc = pandas.to_datetime(df['time']).dt.tz_localize('UTC')\n",
    "print(again_time_assumed_in_utc.head(3))"
   ],
   "outputs": [
    {
     "name": "stdout",
     "output_type": "stream",
     "text": [
      "0   1999-04-09 00:00:00+00:00\n",
      "1   1999-04-10 00:00:00+00:00\n",
      "2   1999-04-11 00:00:00+00:00\n",
      "Name: time, dtype: datetime64[ns, UTC]\n"
     ]
    }
   ],
   "execution_count": 11
  },
  {
   "cell_type": "markdown",
   "id": "ac0ed140a06c817c",
   "metadata": {},
   "source": [
    "### Converting the time to UTC based on known timezone"
   ]
  },
  {
   "cell_type": "code",
   "id": "f5479be37fdccb97",
   "metadata": {
    "ExecuteTime": {
     "end_time": "2025-05-15T09:10:07.278679Z",
     "start_time": "2025-05-15T09:10:07.266589Z"
    }
   },
   "source": [
    "converted_to_utc = pandas.to_datetime(df['time']).dt.tz_localize('Europe/Vienna').dt.tz_convert('UTC')\n",
    "print(converted_to_utc.head(3))"
   ],
   "outputs": [
    {
     "name": "stdout",
     "output_type": "stream",
     "text": [
      "0   1999-04-08 22:00:00+00:00\n",
      "1   1999-04-09 22:00:00+00:00\n",
      "2   1999-04-10 22:00:00+00:00\n",
      "Name: time, dtype: datetime64[ns, UTC]\n"
     ]
    }
   ],
   "execution_count": 12
  },
  {
   "cell_type": "markdown",
   "id": "877e1befa39e4708",
   "metadata": {},
   "source": [
    "## Custom formatted datetimes"
   ]
  },
  {
   "cell_type": "code",
   "id": "7875c60ad816ba3d",
   "metadata": {
    "ExecuteTime": {
     "end_time": "2025-05-15T09:10:07.315849Z",
     "start_time": "2025-05-15T09:10:07.312272Z"
    }
   },
   "source": [
    "tawes_custom = \"\"\"\n",
    "time,station,cglo_j,rr,tl_mittel,vv_mittel,p_mittel,tlmin,tlmax\n",
    "09.04.1999 00:00,5925,,-1,7.4,1.0,962.1,2.2,12.6\n",
    "10.04.1999 00:00,5925,,-1,8.3,1.0,957.7,-0.6,17.1\n",
    "11.04.1999 00:00,5925,,-1,10.9,1.5,951.9,7.5,14.3\n",
    "12.04.1999 00:00,5925,,2.5,8.1,1.0,947.4,4.5,11.7\n",
    "13.04.1999 00:00,5925,,7.8,9.1,0.6,939.7,6.2,12.0\n",
    "14.04.1999 00:00,5925,,0.4,6.5,1.0,945.4,0.9,12.1\n",
    "15.04.1999 00:00,5925,,-1,9.5,1.5,946.4,2.9,16.0\n",
    "16.04.1999 00:00,5925,,7.7,11.5,0.6,944.4,9.6,13.3\n",
    "17.04.1999 00:00,5925,,2.1,7.2,1.0,942.7,4.8,9.6\n",
    "18.04.1999 00:00,5925,,-1,6.7,1.0,949.9,2.5,10.9\n",
    "\"\"\""
   ],
   "outputs": [],
   "execution_count": 13
  },
  {
   "cell_type": "code",
   "id": "3d2f19b0134ff600",
   "metadata": {
    "ExecuteTime": {
     "end_time": "2025-05-15T09:10:07.362380Z",
     "start_time": "2025-05-15T09:10:07.359333Z"
    }
   },
   "source": [
    "# you have to specify your custom format according to https://docs.python.org/3/library/datetime.html#format-codes\n",
    "format_data = \"%d.%m.%Y %H:%M\""
   ],
   "outputs": [],
   "execution_count": 14
  },
  {
   "cell_type": "code",
   "id": "c8ca230cc35911aa",
   "metadata": {
    "ExecuteTime": {
     "end_time": "2025-05-15T09:10:07.417433Z",
     "start_time": "2025-05-15T09:10:07.409543Z"
    }
   },
   "source": [
    "df = pandas.read_csv(StringIO(tawes_custom))\n",
    "df.head(5)"
   ],
   "outputs": [
    {
     "data": {
      "text/plain": [
       "               time  station  cglo_j   rr  tl_mittel  vv_mittel  p_mittel  \\\n",
       "0  09.04.1999 00:00    13305     NaN -1.0        7.4        1.0     962.1   \n",
       "1  10.04.1999 00:00    13305     NaN -1.0        8.3        1.0     957.7   \n",
       "2  11.04.1999 00:00    13305     NaN -1.0       10.9        1.5     951.9   \n",
       "3  12.04.1999 00:00    13305     NaN  2.5        8.1        1.0     947.4   \n",
       "4  13.04.1999 00:00    13305     NaN  7.8        9.1        0.6     939.7   \n",
       "\n",
       "   tlmin  tlmax  \n",
       "0    2.2   12.6  \n",
       "1   -0.6   17.1  \n",
       "2    7.5   14.3  \n",
       "3    4.5   11.7  \n",
       "4    6.2   12.0  "
      ],
      "text/html": [
       "<div>\n",
       "<style scoped>\n",
       "    .dataframe tbody tr th:only-of-type {\n",
       "        vertical-align: middle;\n",
       "    }\n",
       "\n",
       "    .dataframe tbody tr th {\n",
       "        vertical-align: top;\n",
       "    }\n",
       "\n",
       "    .dataframe thead th {\n",
       "        text-align: right;\n",
       "    }\n",
       "</style>\n",
       "<table border=\"1\" class=\"dataframe\">\n",
       "  <thead>\n",
       "    <tr style=\"text-align: right;\">\n",
       "      <th></th>\n",
       "      <th>time</th>\n",
       "      <th>station</th>\n",
       "      <th>cglo_j</th>\n",
       "      <th>rr</th>\n",
       "      <th>tl_mittel</th>\n",
       "      <th>vv_mittel</th>\n",
       "      <th>p_mittel</th>\n",
       "      <th>tlmin</th>\n",
       "      <th>tlmax</th>\n",
       "    </tr>\n",
       "  </thead>\n",
       "  <tbody>\n",
       "    <tr>\n",
       "      <th>0</th>\n",
       "      <td>09.04.1999 00:00</td>\n",
       "      <td>13305</td>\n",
       "      <td>NaN</td>\n",
       "      <td>-1.0</td>\n",
       "      <td>7.4</td>\n",
       "      <td>1.0</td>\n",
       "      <td>962.1</td>\n",
       "      <td>2.2</td>\n",
       "      <td>12.6</td>\n",
       "    </tr>\n",
       "    <tr>\n",
       "      <th>1</th>\n",
       "      <td>10.04.1999 00:00</td>\n",
       "      <td>13305</td>\n",
       "      <td>NaN</td>\n",
       "      <td>-1.0</td>\n",
       "      <td>8.3</td>\n",
       "      <td>1.0</td>\n",
       "      <td>957.7</td>\n",
       "      <td>-0.6</td>\n",
       "      <td>17.1</td>\n",
       "    </tr>\n",
       "    <tr>\n",
       "      <th>2</th>\n",
       "      <td>11.04.1999 00:00</td>\n",
       "      <td>13305</td>\n",
       "      <td>NaN</td>\n",
       "      <td>-1.0</td>\n",
       "      <td>10.9</td>\n",
       "      <td>1.5</td>\n",
       "      <td>951.9</td>\n",
       "      <td>7.5</td>\n",
       "      <td>14.3</td>\n",
       "    </tr>\n",
       "    <tr>\n",
       "      <th>3</th>\n",
       "      <td>12.04.1999 00:00</td>\n",
       "      <td>13305</td>\n",
       "      <td>NaN</td>\n",
       "      <td>2.5</td>\n",
       "      <td>8.1</td>\n",
       "      <td>1.0</td>\n",
       "      <td>947.4</td>\n",
       "      <td>4.5</td>\n",
       "      <td>11.7</td>\n",
       "    </tr>\n",
       "    <tr>\n",
       "      <th>4</th>\n",
       "      <td>13.04.1999 00:00</td>\n",
       "      <td>13305</td>\n",
       "      <td>NaN</td>\n",
       "      <td>7.8</td>\n",
       "      <td>9.1</td>\n",
       "      <td>0.6</td>\n",
       "      <td>939.7</td>\n",
       "      <td>6.2</td>\n",
       "      <td>12.0</td>\n",
       "    </tr>\n",
       "  </tbody>\n",
       "</table>\n",
       "</div>"
      ]
     },
     "execution_count": 15,
     "metadata": {},
     "output_type": "execute_result"
    }
   ],
   "execution_count": 15
  },
  {
   "cell_type": "code",
   "id": "5501b605f3078b3f",
   "metadata": {
    "ExecuteTime": {
     "end_time": "2025-05-15T09:10:07.470730Z",
     "start_time": "2025-05-15T09:10:07.465106Z"
    }
   },
   "source": [
    "time_col = pandas.to_datetime(df['time'], format=format_data)\n",
    "print(time_col.head(5))"
   ],
   "outputs": [
    {
     "name": "stdout",
     "output_type": "stream",
     "text": [
      "0   1999-04-09\n",
      "1   1999-04-10\n",
      "2   1999-04-11\n",
      "3   1999-04-12\n",
      "4   1999-04-13\n",
      "Name: time, dtype: datetime64[ns]\n"
     ]
    }
   ],
   "execution_count": 16
  }
 ],
 "metadata": {
  "kernelspec": {
   "display_name": "Python 3 (ipykernel)",
   "language": "python",
   "name": "python3"
  },
  "language_info": {
   "codemirror_mode": {
    "name": "ipython",
    "version": 3
   },
   "file_extension": ".py",
   "mimetype": "text/x-python",
   "name": "python",
   "nbconvert_exporter": "python",
   "pygments_lexer": "ipython3",
   "version": "3.11.11"
  }
 },
 "nbformat": 4,
 "nbformat_minor": 5
}
