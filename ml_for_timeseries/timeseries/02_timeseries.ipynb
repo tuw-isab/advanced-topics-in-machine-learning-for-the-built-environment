{
 "cells": [
  {
   "metadata": {
    "collapsed": true
   },
   "cell_type": "code",
   "outputs": [],
   "execution_count": null,
   "source": "from datetime import datetime, timedelta",
   "id": "initial_id"
  },
  {
   "metadata": {},
   "cell_type": "markdown",
   "source": "**Excercise**: Calculcate your exact age in years, days, hours, and minutes (if you know your time of birth, else assume 00:00) using datetime",
   "id": "b77db60f2c985fa9"
  },
  {
   "metadata": {},
   "cell_type": "code",
   "outputs": [],
   "execution_count": null,
   "source": "",
   "id": "96e2350d0cd74558"
  },
  {
   "metadata": {},
   "cell_type": "markdown",
   "source": "**Exercise**: Read the following string into a datetime object. See https://docs.python.org/3/library/datetime.html#format-codes",
   "id": "5652a7c99b8e900f"
  },
  {
   "metadata": {},
   "cell_type": "code",
   "outputs": [],
   "execution_count": null,
   "source": [
    "x = '15.05.2025 - 11:23:00'\n",
    "\n",
    "datetime.strptime(x, 'TODO')"
   ],
   "id": "bd6b065cf30c987f"
  }
 ],
 "metadata": {
  "kernelspec": {
   "display_name": "Python 3",
   "language": "python",
   "name": "python3"
  },
  "language_info": {
   "codemirror_mode": {
    "name": "ipython",
    "version": 2
   },
   "file_extension": ".py",
   "mimetype": "text/x-python",
   "name": "python",
   "nbconvert_exporter": "python",
   "pygments_lexer": "ipython2",
   "version": "2.7.6"
  }
 },
 "nbformat": 4,
 "nbformat_minor": 5
}
