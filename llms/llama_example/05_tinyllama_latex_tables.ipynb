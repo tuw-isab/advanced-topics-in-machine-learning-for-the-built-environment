{
 "cells": [
  {
   "cell_type": "code",
   "id": "initial_id",
   "metadata": {
    "collapsed": true
   },
   "source": [
    "# Download the model if you dont have it already\n",
    "# from transformers import pipeline\n",
    "\n",
    "# import torch\n",
    "# from transformers import pipeline\n",
    "\n",
    "\n",
    "# # https://huggingface.co/Mozilla/TinyLlama-1.1B-Chat-v1.0-llamafile\n",
    "# pipe = pipeline(\n",
    "#     task=\"text-generation\",\n",
    "#     model=\"TinyLlama/TinyLlama-1.1B-Chat-v1.0\",\n",
    "#     torch_dtype=torch.float16,\n",
    "#     device=0\n",
    "# )"
   ],
   "outputs": [],
   "execution_count": null
  },
  {
   "metadata": {},
   "cell_type": "code",
   "source": [
    "import torch\n",
    "from transformers import pipeline\n",
    "from pathlib import Path\n",
    "\n",
    "model_path = (Path.home() / Path('shared/210.026-2025S/Lehrmaterialien/pretrained/huggingface/hub/models--TinyLlama--TinyLlama-1.1B-Chat-v1.0/snapshots/fe8a4ea1ffedaf415f4da2f062534de366a451e6/'))\n",
    "\n",
    "pipe = pipeline(\n",
    "    task=\"text-generation\",\n",
    "    model=str(model_path)\n",
    ")"
   ],
   "id": "269fb27f3acbd777",
   "outputs": [],
   "execution_count": null
  },
  {
   "metadata": {},
   "cell_type": "code",
   "source": [
    "messages = [\n",
    "    {\n",
    "        \"role\": \"system\",\n",
    "        \"content\": \"You are a friendly chatbot who always responds with the correct answer.\",\n",
    "    },\n",
    "    {\"role\": \"user\", \"content\": \"\"\"\n",
    "    Please transform the following csv to a latex table:\n",
    "    index,name,value\n",
    "    0,Pete,-0.3333333345\n",
    "    1,And,3.43993993999999999991\n",
    "    2,Mari,2.34\n",
    "    3,Ell,234e-10\n",
    "    \"\"\"},\n",
    "]\n",
    "prompt = pipe.tokenizer.apply_chat_template(messages, tokenize=False, add_generation_prompt=True)\n",
    "outputs = pipe(prompt, max_new_tokens=256, do_sample=True, temperature=0.7, top_k=50, top_p=0.95)\n",
    "print(outputs[0][\"generated_text\"])\n",
    "\n",
    "r\"\"\"\n",
    "| Index | Name | Value |\n",
    "|-------|------|-------|\n",
    "| 0     | Pete  | -0.333333 |\n",
    "| 1     | And   | 3.43994 |\n",
    "| 2     | Mari  | 2.34    |\n",
    "| 3     | Ell   | 234e-1 |\n",
    "\n",
    "```latex\n",
    "\\begin{table}[htbp]\n",
    "\\centering\n",
    "\\caption{Example Table}\n",
    "\\label{tab:example-table}\n",
    "\\begin{tabular}{lll}\n",
    "\\toprule\n",
    "Index & Name & Value \\\\\n",
    "\\midrule\n",
    "{[1]} & Pete & -0.333333 \\\\\n",
    "{[2]} & And & 3.43994 \\\\\n",
    "{[3]} & Mari & 2.34    \\\\\n",
    "{[4]} & Ell & 234e-1 \\\\\n",
    "\\bottomrule\n",
    "\\end{tabular}\n",
    "\\end{table}\n",
    "```\n",
    "\"\"\""
   ],
   "id": "a8dd9ed7c9610b1e",
   "outputs": [],
   "execution_count": null
  }
 ],
 "metadata": {
  "kernelspec": {
   "display_name": "Python 3",
   "language": "python",
   "name": "python3"
  },
  "language_info": {
   "codemirror_mode": {
    "name": "ipython",
    "version": 2
   },
   "file_extension": ".py",
   "mimetype": "text/x-python",
   "name": "python",
   "nbconvert_exporter": "python",
   "pygments_lexer": "ipython2",
   "version": "2.7.6"
  }
 },
 "nbformat": 4,
 "nbformat_minor": 5
}
