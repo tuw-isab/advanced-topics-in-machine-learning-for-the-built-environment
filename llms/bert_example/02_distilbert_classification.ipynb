{
 "cells": [
  {
   "cell_type": "code",
   "id": "616bb0fcf90024f2",
   "metadata": {
    "scrolled": true
   },
   "source": [
    "# Download the model if you do not have it already\n",
    "\n",
    "# from transformers import pipeline\n",
    "# import torch\n",
    "\n",
    "# classifier = pipeline(\n",
    "#     task=\"text-classification\",\n",
    "#     model=\"distilbert-base-uncased-finetuned-sst-2-english\",\n",
    "#     torch_dtype=torch.float16,\n",
    "#     device=0\n",
    "# )"
   ],
   "outputs": [],
   "execution_count": null
  },
  {
   "cell_type": "code",
   "id": "38e15407-165b-428c-95af-5aabf6dee6d9",
   "metadata": {},
   "source": [
    "from transformers import pipeline\n",
    "import torch\n",
    "from pathlib import Path\n",
    "\n",
    "model_path = (Path.home() / Path('shared/210.026-2025S/Lehrmaterialien/pretrained/huggingface/hub/models--distilbert-base-uncased-finetuned-sst-2-english/snapshots/714eb0fa89d2f80546fda750413ed43d93601a13/'))\n",
    "\n",
    "classifier = pipeline(\n",
    "    task=\"text-classification\",\n",
    "    model=str(model_path),\n",
    "    torch_dtype=torch.float16,\n",
    "    device=\"cpu\"\n",
    ")"
   ],
   "outputs": [],
   "execution_count": null
  },
  {
   "cell_type": "code",
   "id": "a9ebe5a3aaa80e0",
   "metadata": {},
   "source": [
    "result = classifier(\"I love using Hugging Face Transformers!\")\n",
    "print(result)"
   ],
   "outputs": [],
   "execution_count": null
  },
  {
   "cell_type": "code",
   "id": "4076c4f3-8feb-48d3-adf2-023c927a8c45",
   "metadata": {},
   "source": [],
   "outputs": [],
   "execution_count": null
  }
 ],
 "metadata": {
  "kernelspec": {
   "display_name": "Python 3",
   "language": "python",
   "name": "python3"
  },
  "language_info": {
   "codemirror_mode": {
    "name": "ipython",
    "version": 3
   },
   "file_extension": ".py",
   "mimetype": "text/x-python",
   "name": "python",
   "nbconvert_exporter": "python",
   "pygments_lexer": "ipython3",
   "version": "3.11.10"
  }
 },
 "nbformat": 4,
 "nbformat_minor": 5
}
