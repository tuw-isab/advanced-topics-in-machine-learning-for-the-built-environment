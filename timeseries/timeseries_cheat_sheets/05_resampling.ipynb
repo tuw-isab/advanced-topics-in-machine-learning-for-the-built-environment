{
 "cells": [
  {
   "cell_type": "markdown",
   "id": "cb1dd0bf99e41046",
   "metadata": {},
   "source": [
    "# Resampling"
   ]
  },
  {
   "cell_type": "code",
   "id": "3022f15ccf2fd125",
   "metadata": {},
   "source": [
    "import pandas"
   ],
   "outputs": [],
   "execution_count": null
  },
  {
   "cell_type": "code",
   "id": "756befeb649f75be",
   "metadata": {},
   "source": [
    "df = pandas.read_csv('Messstationen_Tagesdaten_v2_Datensatz_19900101_20250515.csv')\n",
    "df['time'] = pandas.to_datetime(df['time'])\n",
    "df = df.set_index('time')\n",
    "df = df.dropna()\n",
    "df.head(5)"
   ],
   "outputs": [],
   "execution_count": null
  },
  {
   "cell_type": "markdown",
   "id": "c5952a1c17ccee05",
   "metadata": {},
   "source": [
    "## Changing the frequency of a timeseries"
   ]
  },
  {
   "cell_type": "code",
   "id": "acac1c89e66a326c",
   "metadata": {},
   "source": [
    "print(f'start: {df.index[0]}')\n",
    "print(f'end:   {df.index[-1]}')"
   ],
   "outputs": [],
   "execution_count": null
  },
  {
   "cell_type": "code",
   "id": "6dba1b7c926b42a",
   "metadata": {},
   "source": [
    "# resample to yearly averages, in case of years, the new index label signifies the end of the period, see https://pandas.pydata.org/docs/reference/api/pandas.DataFrame.resample.html\n",
    "df.resample('1YE').mean()"
   ],
   "outputs": [],
   "execution_count": null
  },
  {
   "cell_type": "code",
   "id": "cbb83dcdb987ae4e",
   "metadata": {},
   "source": [
    "# Monthly aveages\n",
    "df.resample('1ME').mean()"
   ],
   "outputs": [],
   "execution_count": null
  },
  {
   "cell_type": "markdown",
   "id": "cc4aece94127e382",
   "metadata": {},
   "source": [
    "### Resampling methods"
   ]
  },
  {
   "cell_type": "code",
   "id": "171266467c566b54",
   "metadata": {},
   "source": [
    "# Monthly max\n",
    "df.resample('1ME').max()"
   ],
   "outputs": [],
   "execution_count": null
  },
  {
   "cell_type": "code",
   "id": "efbffa3123cc4bd9",
   "metadata": {},
   "source": [
    "# Monthly variance\n",
    "df.resample('1ME').var()"
   ],
   "outputs": [],
   "execution_count": null
  },
  {
   "cell_type": "code",
   "id": "4d9f75e2a2700372",
   "metadata": {},
   "source": [
    "# Monthly median\n",
    "df.resample('1ME').median()"
   ],
   "outputs": [],
   "execution_count": null
  },
  {
   "cell_type": "markdown",
   "id": "71a78e7ac44d529c",
   "metadata": {},
   "source": [
    "...\n",
    "\n",
    "A full list of existing resampling strategies can be found here: https://pandas.pydata.org/docs/reference/resampling.html"
   ]
  },
  {
   "cell_type": "markdown",
   "id": "fe91a245463df1da",
   "metadata": {},
   "source": [
    "### Other approaches"
   ]
  },
  {
   "cell_type": "code",
   "id": "7ff2581713a8dbaf",
   "metadata": {},
   "source": [
    "# simply produce a new frequency given the original data of those timestamps in original data (so the 2002-01-31 00:00:00 data is the same as in the original dataframe, the stuff inbetween is just dropped)\n",
    "df.asfreq('1ME')"
   ],
   "outputs": [],
   "execution_count": null
  },
  {
   "cell_type": "markdown",
   "id": "3ca739d722629065",
   "metadata": {},
   "source": [
    "## Upsampling\n",
    "With the above, we only downsampled data - we reduce the amount of datapoints.\n",
    "However, theres also strategies to upsample data, therefore increase the number of datapoints."
   ]
  },
  {
   "cell_type": "code",
   "id": "40bafeb157a31e2",
   "metadata": {},
   "source": [
    "# While pandas does let us do this, this of course produces a lot of NaN (Not A Number) points since there is no data to compute that.\n",
    "df.resample('1h').mean()"
   ],
   "outputs": [],
   "execution_count": null
  },
  {
   "cell_type": "code",
   "id": "47880f549a492e95",
   "metadata": {},
   "source": [
    "# Simplest strategy would probably be forward fill - fill all values with the last known one\n",
    "df.resample('1h').ffill()"
   ],
   "outputs": [],
   "execution_count": null
  },
  {
   "cell_type": "code",
   "id": "e4828561a2513972",
   "metadata": {},
   "source": [
    "# But we can also interpolate, by default interpolation method is linear.\n",
    "df.resample('1h').interpolate()"
   ],
   "outputs": [],
   "execution_count": null
  },
  {
   "cell_type": "code",
   "id": "cd6486cf3efd1e99",
   "metadata": {},
   "source": [
    "# Theres multiple other interpolation options, see https://pandas.pydata.org/docs/reference/api/pandas.core.resample.Resampler.interpolate.html#pandas.core.resample.Resampler.interpolate\n",
    "df.resample('1h').interpolate(method='cubic')"
   ],
   "outputs": [],
   "execution_count": null
  }
 ],
 "metadata": {
  "kernelspec": {
   "display_name": "Python 3 (ipykernel)",
   "language": "python",
   "name": "python3"
  },
  "language_info": {
   "codemirror_mode": {
    "name": "ipython",
    "version": 3
   },
   "file_extension": ".py",
   "mimetype": "text/x-python",
   "name": "python",
   "nbconvert_exporter": "python",
   "pygments_lexer": "ipython3",
   "version": "3.11.11"
  }
 },
 "nbformat": 4,
 "nbformat_minor": 5
}
