{
 "cells": [
  {
   "cell_type": "markdown",
   "id": "ca22802d3a89edc5",
   "metadata": {},
   "source": [
    "# Pandas"
   ]
  },
  {
   "cell_type": "markdown",
   "id": "1f4260a66f2c1e19",
   "metadata": {},
   "source": [
    "Pandas is a popular data analysis library in Python that makes it easy to work with large datasets. It provides two main structures: the DataFrame, which is like a table of data (similar to an Excel spreadsheet or SQL table), and the Series, which is a single column or row of data. With pandas, you can efficiently clean, filter, sort, and analyze data, which is essential for many data science and machine learning tasks\n"
   ]
  },
  {
   "cell_type": "markdown",
   "id": "d085f06d",
   "metadata": {
    "ExecuteTime": {
     "end_time": "2024-10-24T13:26:58.036711Z",
     "start_time": "2024-10-24T13:26:58.023708Z"
    }
   },
   "source": [
    "**Example 1**: Imagine you have data for various rooms in a building. In the table below, the first column is \"Room,\" with names like \"Office One\" and \"Lab 1,\" and each row represents one room. We have certain information for every room, like annual energy consumption (numbers), sensor availability (True or False values), and admin names (text)."
   ]
  },
  {
   "cell_type": "code",
   "execution_count": null,
   "id": "b36920f6",
   "metadata": {},
   "outputs": [],
   "source": []
  },
  {
   "cell_type": "code",
   "execution_count": 40,
   "id": "e57b451e",
   "metadata": {
    "scrolled": true
   },
   "outputs": [],
   "source": [
    "import pandas as pd\n",
    "\n",
    "# Create a DataFrame\n",
    "data = {\n",
    "    'Room': ['Office One', 'Office Two', 'Lab 1', 'Kitchen'],\n",
    "    'Annual Energy Consumption (kWh)': [1500, 1200, 2300, 500],\n",
    "    'Temperature Sensor': [True, False, True, False],\n",
    "    'CO2 Sensor': [True, True, False, True],\n",
    "    'Humidity Sensor': [False, True, True, False],\n",
    "    'Admin': ['Tim', 'Tom', 'Sarah', 'Tom']\n",
    "}\n",
    "\n",
    "df = pd.DataFrame(data)\n"
   ]
  },
  {
   "cell_type": "markdown",
   "id": "2dead49d-e9d9-40b9-bc5c-c8dc9ef75d23",
   "metadata": {},
   "source": [
    "### Exercise: Exploring Your First DataFrame\n",
    "Use the DataFrame `df` created from the data above.\n",
    "\n",
    "Try out the following **methods** to get a quick overview of your data:\n",
    "\n",
    "`df.describe()`\n",
    "   - What does it show?\n",
    "\n",
    "`df.shape`\n",
    "   - What do the two numbers represent?\n",
    "\n",
    "`df.info()`\n",
    "   - What types of data are in each column?\n",
    "\n",
    "\n",
    "Test each method and write 1–2 sentences in a comment summarizing what it tells you about the dataset."
   ]
  },
  {
   "metadata": {},
   "cell_type": "code",
   "outputs": [],
   "execution_count": null,
   "source": "",
   "id": "2827428db99f9548"
  },
  {
   "metadata": {},
   "cell_type": "code",
   "outputs": [],
   "execution_count": null,
   "source": "",
   "id": "1f28e7c99759286a"
  },
  {
   "cell_type": "markdown",
   "id": "68fb9008-118f-4112-986d-78db853b691b",
   "metadata": {},
   "source": [
    "### Exercise: Loading Data from a CSV File\n",
    "\n",
    "In many cases, we are not creating our DataFrame manually in Python. Instead, we work with external data sources.\n",
    "\n",
    "A common format for tabular data is the **CSV (Comma-Separated Values)** file.\n",
    "\n",
    "Let's load the following file into a pandas DataFrame using the function `pd.read_csv()`. Store the result in a variable called `df`:\n",
    "\n",
    "**File:** `students.csv`\n",
    "\n",
    "If you encounter issues, use an LLM (like ChatGPT) for support.\n"
   ]
  },
  {
   "cell_type": "code",
   "execution_count": null,
   "id": "3e24f310-aa6a-4f11-93c0-22c133240a53",
   "metadata": {},
   "outputs": [],
   "source": []
  },
  {
   "cell_type": "markdown",
   "id": "3c03aa06-58ee-4a26-852e-8670d3431aff",
   "metadata": {
    "ExecuteTime": {
     "end_time": "2024-10-24T13:26:58.052421Z",
     "start_time": "2024-10-24T13:26:58.039051Z"
    }
   },
   "source": [
    "Similar to the previous exercise, use the methods discussed (`df.describe()`, `df.shape`, `df.info()`) to get a quick overview of your data."
   ]
  },
  {
   "cell_type": "code",
   "execution_count": 33,
   "id": "50ba3b87-70a7-4321-9233-3b75fccd570d",
   "metadata": {},
   "outputs": [],
   "source": []
  },
  {
   "cell_type": "code",
   "execution_count": null,
   "id": "d9573710fafff13a",
   "metadata": {
    "ExecuteTime": {
     "end_time": "2024-10-24T13:26:58.069318Z",
     "start_time": "2024-10-24T13:26:58.053820Z"
    }
   },
   "outputs": [],
   "source": []
  },
  {
   "metadata": {},
   "cell_type": "code",
   "outputs": [],
   "execution_count": null,
   "source": "",
   "id": "609a4ac8bac6a736"
  },
  {
   "metadata": {},
   "cell_type": "code",
   "outputs": [],
   "execution_count": null,
   "source": "",
   "id": "3556b23d57ac6de7"
  },
  {
   "cell_type": "markdown",
   "id": "a0ba5c1e67dfa4fe",
   "metadata": {},
   "source": [
    "## Indexing Rows"
   ]
  },
  {
   "cell_type": "markdown",
   "id": "81b5ef30b6583426",
   "metadata": {},
   "source": [
    "The first column of the dataframe is the index. We can access rows in this dataframe the same way we did using indexes in lists. in the case of dataframes using the iloc function. (stands for integer location, so just the integer row number)"
   ]
  },
  {
   "cell_type": "code",
   "execution_count": 31,
   "id": "619d9ee5b1248bea",
   "metadata": {
    "ExecuteTime": {
     "end_time": "2024-10-24T13:26:58.079170Z",
     "start_time": "2024-10-24T13:26:58.071408Z"
    }
   },
   "outputs": [
    {
     "data": {
      "text/plain": [
       "Name              Alice\n",
       "Height              165\n",
       "Age                  25\n",
       "YearsStudying         2\n",
       "Sex              Female\n",
       "Name: 0, dtype: object"
      ]
     },
     "execution_count": 31,
     "metadata": {},
     "output_type": "execute_result"
    }
   ],
   "source": [
    "df.iloc[0]"
   ]
  },
  {
   "cell_type": "markdown",
   "id": "a7d4098b7fba4e07",
   "metadata": {},
   "source": [
    "Slicing operateors also work"
   ]
  },
  {
   "cell_type": "code",
   "execution_count": 21,
   "id": "6e51be25134cf7c",
   "metadata": {
    "ExecuteTime": {
     "end_time": "2024-10-24T13:26:58.089216Z",
     "start_time": "2024-10-24T13:26:58.080739Z"
    }
   },
   "outputs": [
    {
     "data": {
      "text/html": [
       "<div>\n",
       "<style scoped>\n",
       "    .dataframe tbody tr th:only-of-type {\n",
       "        vertical-align: middle;\n",
       "    }\n",
       "\n",
       "    .dataframe tbody tr th {\n",
       "        vertical-align: top;\n",
       "    }\n",
       "\n",
       "    .dataframe thead th {\n",
       "        text-align: right;\n",
       "    }\n",
       "</style>\n",
       "<table border=\"1\" class=\"dataframe\">\n",
       "  <thead>\n",
       "    <tr style=\"text-align: right;\">\n",
       "      <th></th>\n",
       "      <th>Unnamed: 0</th>\n",
       "      <th>Name</th>\n",
       "      <th>Height</th>\n",
       "      <th>Age</th>\n",
       "      <th>YearsStudying</th>\n",
       "      <th>Sex</th>\n",
       "    </tr>\n",
       "  </thead>\n",
       "  <tbody>\n",
       "    <tr>\n",
       "      <th>3</th>\n",
       "      <td>3</td>\n",
       "      <td>Diana</td>\n",
       "      <td>160</td>\n",
       "      <td>22</td>\n",
       "      <td>1</td>\n",
       "      <td>Female</td>\n",
       "    </tr>\n",
       "    <tr>\n",
       "      <th>4</th>\n",
       "      <td>4</td>\n",
       "      <td>Edward</td>\n",
       "      <td>180</td>\n",
       "      <td>28</td>\n",
       "      <td>4</td>\n",
       "      <td>Male</td>\n",
       "    </tr>\n",
       "  </tbody>\n",
       "</table>\n",
       "</div>"
      ],
      "text/plain": [
       "   Unnamed: 0    Name  Height  Age  YearsStudying     Sex\n",
       "3           3   Diana     160   22              1  Female\n",
       "4           4  Edward     180   28              4    Male"
      ]
     },
     "execution_count": 21,
     "metadata": {},
     "output_type": "execute_result"
    }
   ],
   "source": [
    "df.iloc[3:5]"
   ]
  },
  {
   "cell_type": "markdown",
   "id": "dfcb5c60bcbde2e4",
   "metadata": {},
   "source": [
    "## Indexing columns"
   ]
  },
  {
   "cell_type": "markdown",
   "id": "259c1659486ef04e",
   "metadata": {},
   "source": [
    "We can access single columns similar to dictionaries."
   ]
  },
  {
   "cell_type": "code",
   "execution_count": null,
   "id": "fab7729ad7ce9fc9",
   "metadata": {
    "ExecuteTime": {
     "end_time": "2024-10-24T13:26:58.097763Z",
     "start_time": "2024-10-24T13:26:58.091143Z"
    }
   },
   "outputs": [],
   "source": [
    "df['Height']"
   ]
  },
  {
   "cell_type": "markdown",
   "id": "8c8f35e60749ec3a",
   "metadata": {},
   "source": [
    "We can use lists of column names to get multiple with one operation"
   ]
  },
  {
   "cell_type": "code",
   "execution_count": null,
   "id": "c484ecb2f9194768",
   "metadata": {
    "ExecuteTime": {
     "end_time": "2024-10-24T13:26:58.111573Z",
     "start_time": "2024-10-24T13:26:58.101741Z"
    }
   },
   "outputs": [],
   "source": [
    "df[['Height', 'Age']]"
   ]
  },
  {
   "cell_type": "markdown",
   "id": "2d408a0f475d3d27",
   "metadata": {},
   "source": [
    "To extract a specific value given row and column name"
   ]
  },
  {
   "cell_type": "code",
   "execution_count": 35,
   "id": "c63dbc70c7b306db",
   "metadata": {
    "ExecuteTime": {
     "end_time": "2024-10-24T13:26:58.119905Z",
     "start_time": "2024-10-24T13:26:58.113663Z"
    }
   },
   "outputs": [
    {
     "data": {
      "text/plain": [
       "160"
      ]
     },
     "execution_count": 35,
     "metadata": {},
     "output_type": "execute_result"
    }
   ],
   "source": [
    "df.iloc[3]['Height']"
   ]
  },
  {
   "cell_type": "code",
   "execution_count": 36,
   "id": "1e5ea949c89c56e8",
   "metadata": {
    "ExecuteTime": {
     "end_time": "2024-10-24T13:26:58.127511Z",
     "start_time": "2024-10-24T13:26:58.122200Z"
    },
    "scrolled": true
   },
   "outputs": [
    {
     "data": {
      "text/plain": [
       "160"
      ]
     },
     "execution_count": 36,
     "metadata": {},
     "output_type": "execute_result"
    }
   ],
   "source": [
    "df['Height'].iloc[3]"
   ]
  },
  {
   "cell_type": "code",
   "execution_count": null,
   "id": "383e6e1d-0051-4023-8c9a-1b25fa7f766d",
   "metadata": {},
   "outputs": [],
   "source": []
  },
  {
   "cell_type": "markdown",
   "id": "b126337a-0302-4711-a11c-3338892063ac",
   "metadata": {},
   "source": [
    "### Exercise: Indexing\n",
    "- What is the height of the student in the 5th row?\n",
    "- What is the name of the student in the 2nd row?"
   ]
  },
  {
   "cell_type": "code",
   "execution_count": null,
   "id": "770b52f7-e2b2-484e-897b-6015d842f2be",
   "metadata": {},
   "outputs": [],
   "source": []
  },
  {
   "cell_type": "code",
   "execution_count": null,
   "id": "32dc1924-7d01-4f5f-a84d-c3b509f77321",
   "metadata": {},
   "outputs": [],
   "source": []
  },
  {
   "cell_type": "markdown",
   "id": "7897b4a0a3aed7b3",
   "metadata": {},
   "source": [
    "## Mathematical operations on columns"
   ]
  },
  {
   "cell_type": "markdown",
   "id": "b5b8967caeda171b",
   "metadata": {},
   "source": [
    "Columns can be used to perform mathematical operations in bulk. Very similar to numpy (pandas actually uses numpy behind the curtain to do this).\n",
    "So we do not need loops, but can apply mathemtical operations directly to a whole bunch of data."
   ]
  },
  {
   "cell_type": "markdown",
   "id": "33e0e2ec018cebd5",
   "metadata": {},
   "source": [
    "For example, how old were they when they started studying?"
   ]
  },
  {
   "cell_type": "code",
   "execution_count": null,
   "id": "a1a5cd3b715cd975",
   "metadata": {
    "ExecuteTime": {
     "end_time": "2024-10-24T13:26:58.135243Z",
     "start_time": "2024-10-24T13:26:58.129476Z"
    }
   },
   "outputs": [],
   "source": [
    "\n",
    "df['Age'] - df['YearsStudying']"
   ]
  },
  {
   "cell_type": "markdown",
   "id": "a0296e75f9964029",
   "metadata": {},
   "source": [
    "## Adding new columns"
   ]
  },
  {
   "cell_type": "markdown",
   "id": "d97a9242e12d23cf",
   "metadata": {},
   "source": [
    "Lets add the age when starting their studies back to the dataframe as a new column"
   ]
  },
  {
   "cell_type": "code",
   "execution_count": null,
   "id": "e6fb118334933a08",
   "metadata": {
    "ExecuteTime": {
     "end_time": "2024-10-24T13:26:58.152787Z",
     "start_time": "2024-10-24T13:26:58.138031Z"
    }
   },
   "outputs": [],
   "source": [
    "df['StartAge'] = df['Age'] - df['YearsStudying']\n",
    "df\n"
   ]
  },
  {
   "cell_type": "markdown",
   "id": "7268af514b6ed222",
   "metadata": {},
   "source": [
    "**Exercise**: Calculate what percentage of their lifespan people have been studying (years studying / height) * 100"
   ]
  },
  {
   "cell_type": "code",
   "execution_count": null,
   "id": "90290595b360205e",
   "metadata": {
    "ExecuteTime": {
     "end_time": "2024-10-24T13:26:58.158462Z",
     "start_time": "2024-10-24T13:26:58.154971Z"
    }
   },
   "outputs": [],
   "source": []
  },
  {
   "cell_type": "markdown",
   "id": "dd64e04952e5fbb6",
   "metadata": {},
   "source": [
    "## Separating data based on conditions and grouping"
   ]
  },
  {
   "cell_type": "markdown",
   "id": "416a0f6be3a81766",
   "metadata": {},
   "source": [
    "While slicing per index is useful, in practice we are often interested to look only at a specific part of the data to perform some analysis. For example, compare the height of male and female students."
   ]
  },
  {
   "cell_type": "markdown",
   "id": "1e176db75f5d8bd8",
   "metadata": {},
   "source": [
    "We can create True/False vectors if some condition is fulfilled or not:"
   ]
  },
  {
   "cell_type": "code",
   "execution_count": null,
   "id": "e81cdbb496cff94d",
   "metadata": {
    "ExecuteTime": {
     "end_time": "2024-10-24T13:26:58.166269Z",
     "start_time": "2024-10-24T13:26:58.160003Z"
    }
   },
   "outputs": [],
   "source": [
    "df['Sex'] == 'Male'"
   ]
  },
  {
   "cell_type": "markdown",
   "id": "9479e0ba46b36366",
   "metadata": {},
   "source": [
    "While this alone isnt that useful, such a vector of booleans can be use as an indexer. In the following example, we use this to select only the males from the dataframe."
   ]
  },
  {
   "cell_type": "code",
   "execution_count": null,
   "id": "14d7afdd566ab308",
   "metadata": {
    "ExecuteTime": {
     "end_time": "2024-10-24T13:26:58.180629Z",
     "start_time": "2024-10-24T13:26:58.168804Z"
    }
   },
   "outputs": [],
   "source": [
    "df[df['Sex'] == 'Male']"
   ]
  },
  {
   "cell_type": "markdown",
   "id": "9822477a111c2559",
   "metadata": {},
   "source": [
    "**Exercise**: Select all rows where the height is above 175"
   ]
  },
  {
   "cell_type": "code",
   "execution_count": null,
   "id": "9e1a1a2be2adc5d9",
   "metadata": {
    "ExecuteTime": {
     "end_time": "2024-10-24T13:26:58.185289Z",
     "start_time": "2024-10-24T13:26:58.182460Z"
    }
   },
   "outputs": [],
   "source": []
  },
  {
   "cell_type": "markdown",
   "id": "a1e617b1a245f8cf",
   "metadata": {},
   "source": [
    "We can also chain such conditions, however, syntax is slightly different than regular python boolean operations"
   ]
  },
  {
   "cell_type": "code",
   "execution_count": null,
   "id": "b6560ccd04a0103b",
   "metadata": {
    "ExecuteTime": {
     "end_time": "2024-10-24T13:26:58.197972Z",
     "start_time": "2024-10-24T13:26:58.186849Z"
    }
   },
   "outputs": [],
   "source": [
    "df[(df['Sex'] == 'Male') & (df['Age'] >= 35)]\n"
   ]
  },
  {
   "cell_type": "markdown",
   "id": "65efadca9d9851fc",
   "metadata": {},
   "source": [
    "**Exercise**: Select all rows of males with a height greater than 175\n"
   ]
  },
  {
   "cell_type": "code",
   "execution_count": null,
   "id": "921e9d673039e91",
   "metadata": {
    "ExecuteTime": {
     "end_time": "2024-10-24T13:26:58.202382Z",
     "start_time": "2024-10-24T13:26:58.199600Z"
    }
   },
   "outputs": [],
   "source": []
  },
  {
   "cell_type": "markdown",
   "id": "8db9f81038e813e5",
   "metadata": {},
   "source": [
    "## Basic math functions on columns (or rows)"
   ]
  },
  {
   "cell_type": "markdown",
   "id": "a7b8a14143c6ff4a",
   "metadata": {},
   "source": [
    "What weve already seen with 'describe' we can perform selectively aswell"
   ]
  },
  {
   "cell_type": "code",
   "execution_count": null,
   "id": "f260fb363085faa",
   "metadata": {
    "ExecuteTime": {
     "end_time": "2024-10-24T13:26:58.211519Z",
     "start_time": "2024-10-24T13:26:58.204123Z"
    }
   },
   "outputs": [],
   "source": [
    "print(df['Age'].mean())\n",
    "print(df['Age'].std())"
   ]
  },
  {
   "cell_type": "markdown",
   "id": "fd45d2926c102926",
   "metadata": {},
   "source": [
    "Also, all kinds of maths functions are available in pandas"
   ]
  },
  {
   "cell_type": "code",
   "execution_count": null,
   "id": "58e1e4e3908406c8",
   "metadata": {
    "ExecuteTime": {
     "end_time": "2024-10-24T13:26:58.217393Z",
     "start_time": "2024-10-24T13:26:58.213379Z"
    }
   },
   "outputs": [],
   "source": [
    "print(df['Age'].sum())\n",
    "print(df['Age'].min())\n",
    "print(df['Age'].max())\n"
   ]
  },
  {
   "cell_type": "markdown",
   "id": "1a70a7aa7acd6e14",
   "metadata": {},
   "source": [
    "Some functions return not a skalar, but again a series (a column)"
   ]
  },
  {
   "cell_type": "code",
   "execution_count": null,
   "id": "f5303c15983aa624",
   "metadata": {
    "ExecuteTime": {
     "end_time": "2024-10-24T13:26:58.225359Z",
     "start_time": "2024-10-24T13:26:58.219936Z"
    }
   },
   "outputs": [],
   "source": [
    "print(df['Age'].cumsum())\n"
   ]
  },
  {
   "cell_type": "markdown",
   "id": "cf5f40f3ee268900",
   "metadata": {},
   "source": [
    "**Exercise**: Calculate the mean and std of age of male and female students separately"
   ]
  },
  {
   "cell_type": "code",
   "execution_count": null,
   "id": "8b32adbe500caa1b",
   "metadata": {
    "ExecuteTime": {
     "end_time": "2024-10-24T13:26:58.229959Z",
     "start_time": "2024-10-24T13:26:58.227428Z"
    }
   },
   "outputs": [],
   "source": []
  },
  {
   "cell_type": "markdown",
   "id": "c65544e92c6c8c6b",
   "metadata": {},
   "source": [
    "## Loading and storing data"
   ]
  },
  {
   "cell_type": "markdown",
   "id": "988379414d86c356",
   "metadata": {},
   "source": [
    "While pandas supports different formats, we will mostly deal with csv."
   ]
  },
  {
   "cell_type": "markdown",
   "id": "f3c00d562ce14c8e",
   "metadata": {},
   "source": [
    "We can store a dataframe as csv file with 'to_csv'"
   ]
  },
  {
   "cell_type": "code",
   "execution_count": 37,
   "id": "4b0641f8b65ef60c",
   "metadata": {
    "ExecuteTime": {
     "end_time": "2024-10-24T13:26:58.240586Z",
     "start_time": "2024-10-24T13:26:58.234060Z"
    }
   },
   "outputs": [],
   "source": [
    "df.to_csv('students_v2.csv')"
   ]
  },
  {
   "cell_type": "markdown",
   "id": "81d0442f4c316c45",
   "metadata": {},
   "source": [
    "And load it again, using 'pandas.read_csv'"
   ]
  },
  {
   "cell_type": "code",
   "id": "e05f1e2b2bd620ca",
   "metadata": {},
   "source": [
    "df = pd.read_csv('students_v2.csv')"
   ],
   "outputs": [],
   "execution_count": null
  },
  {
   "cell_type": "code",
   "execution_count": null,
   "id": "7e7c2f3e",
   "metadata": {},
   "outputs": [],
   "source": []
  }
 ],
 "metadata": {
  "kernelspec": {
   "display_name": "Python 3 (ipykernel)",
   "language": "python",
   "name": "python3"
  },
  "language_info": {
   "codemirror_mode": {
    "name": "ipython",
    "version": 3
   },
   "file_extension": ".py",
   "mimetype": "text/x-python",
   "name": "python",
   "nbconvert_exporter": "python",
   "pygments_lexer": "ipython3",
   "version": "3.12.7"
  }
 },
 "nbformat": 4,
 "nbformat_minor": 5
}
