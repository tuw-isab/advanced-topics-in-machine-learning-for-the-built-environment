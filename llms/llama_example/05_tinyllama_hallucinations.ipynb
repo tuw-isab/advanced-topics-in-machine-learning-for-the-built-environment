{
 "cells": [
  {
   "metadata": {
    "ExecuteTime": {
     "end_time": "2025-06-06T07:40:33.238857Z",
     "start_time": "2025-06-06T07:40:27.943038Z"
    }
   },
   "cell_type": "code",
   "source": [
    "import torch\n",
    "from transformers import pipeline\n",
    "\n",
    "\n",
    "# https://huggingface.co/Mozilla/TinyLlama-1.1B-Chat-v1.0-llamafile\n",
    "\n",
    "pipe = pipeline(\"text-generation\", model=\"TinyLlama/TinyLlama-1.1B-Chat-v1.0\", torch_dtype=torch.bfloat16, device_map=\"auto\")"
   ],
   "id": "a5d347017f66181e",
   "outputs": [
    {
     "name": "stderr",
     "output_type": "stream",
     "text": [
      "/home/banana/anaconda3/envs/digital_modeling_and_big_data_lecture/lib/python3.11/site-packages/tqdm/auto.py:21: TqdmWarning: IProgress not found. Please update jupyter and ipywidgets. See https://ipywidgets.readthedocs.io/en/stable/user_install.html\n",
      "  from .autonotebook import tqdm as notebook_tqdm\n",
      "/home/banana/anaconda3/envs/digital_modeling_and_big_data_lecture/lib/python3.11/site-packages/accelerate/utils/modeling.py:808: UserWarning: CUDA initialization: CUDA unknown error - this may be due to an incorrectly set up environment, e.g. changing env variable CUDA_VISIBLE_DEVICES after program start. Setting the available devices to be zero. (Triggered internally at /opt/conda/conda-bld/pytorch_1729647429097/work/c10/cuda/CUDAFunctions.cpp:108.)\n",
      "  _ = torch.tensor([0], device=i)\n",
      "Device set to use cpu\n"
     ]
    }
   ],
   "execution_count": 1
  },
  {
   "metadata": {},
   "cell_type": "code",
   "outputs": [],
   "execution_count": null,
   "source": [
    "\n",
    "outputs = pipe(\"<|assistant|>\", max_new_tokens=256, do_sample=True, temperature=0.7, top_k=50, top_p=0.95)\n",
    "print(outputs[0][\"generated_text\"])\n",
    "\n",
    "\"\"\"\n",
    "<|assistant|>\n",
    "\n",
    "1. What is the significance of the term \"invisible\" in the passage?\n",
    "\n",
    "The term \"invisible\" in the passage refers to the people who are not seen or heard by others, but who play a crucial role in the story's events. This term is used to emphasize the hiddenness and the impact of the events on the people involved.\n",
    "\n",
    "2. What is the significance of the phrase \"their secret was safe\" in the passage?\n",
    "\n",
    "The phrase \"their secret was safe\" in the passage refers to the fact that the people involved in the events are not being revealed or revealed to others. This phrase suggests that their secrets are not being revealed to anyone, which could imply that they are safe and secure.\n",
    "\n",
    "3. What is the main theme of the passage?\n",
    "\n",
    "The main theme of the passage is the idea of hiddenness and the impact of events on people. The people involved in the events are not visible or heard, but their impact is felt and seen by others. The phrase \"their secret was safe\" emphasizes the idea that their secrets are not revealed to anyone, which could imply that they are hidden and secure.\n",
    "\n",
    "4. What is the significance\n",
    "\"\"\"\n"
   ],
   "id": "4f3fb26266382ba5"
  }
 ],
 "metadata": {
  "kernelspec": {
   "display_name": "Python 3",
   "language": "python",
   "name": "python3"
  },
  "language_info": {
   "codemirror_mode": {
    "name": "ipython",
    "version": 2
   },
   "file_extension": ".py",
   "mimetype": "text/x-python",
   "name": "python",
   "nbconvert_exporter": "python",
   "pygments_lexer": "ipython2",
   "version": "2.7.6"
  }
 },
 "nbformat": 4,
 "nbformat_minor": 5
}
