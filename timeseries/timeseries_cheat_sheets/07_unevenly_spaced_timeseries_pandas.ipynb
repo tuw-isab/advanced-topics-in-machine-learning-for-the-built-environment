{
 "cells": [
  {
   "metadata": {},
   "cell_type": "markdown",
   "source": "# Unevenly spaced timeseries",
   "id": "cb1dd0bf99e41046"
  },
  {
   "metadata": {},
   "cell_type": "code",
   "source": [
    "import pandas\n",
    "from io import StringIO\n",
    "from datetime import datetime, timedelta, UTC"
   ],
   "id": "3022f15ccf2fd125",
   "outputs": [],
   "execution_count": null
  },
  {
   "metadata": {},
   "cell_type": "code",
   "source": [
    "# Example weather measurement data from tawes, timestamps include a timzeone information and are in iso format\n",
    "tawes_utc = \"\"\"\n",
    "time,station,cglo_j,rr,tl_mittel,vv_mittel,p_mittel,tlmin,tlmax\n",
    "1999-04-09T00:00+00:00,5925,,-1,7.4,1.0,962.1,2.2,12.6\n",
    "1999-04-09T00:02+00:00,5925,,-1,8.3,1.0,957.7,-0.6,17.1\n",
    "1999-04-09T00:10+00:00,5925,,-1,10.9,1.5,951.9,7.5,14.3\n",
    "1999-04-09T01:03+00:00,5925,,2.5,8.1,1.0,947.4,4.5,11.7\n",
    "1999-04-09T01:56+00:00,5925,,7.8,9.1,0.6,939.7,6.2,12.0\n",
    "1999-04-09T03:30+00:00,5925,,0.4,6.5,1.0,945.4,0.9,12.1\n",
    "1999-04-09T03:33+00:00,5925,,-1,9.5,1.5,946.4,2.9,16.0\n",
    "1999-04-09T04:04+00:00,5925,,7.7,11.5,0.6,944.4,9.6,13.3\n",
    "\"\"\""
   ],
   "id": "5c47880b2a87b06f",
   "outputs": [],
   "execution_count": null
  },
  {
   "metadata": {},
   "cell_type": "code",
   "source": [
    "df = pandas.read_csv(StringIO(tawes_utc))\n",
    "df['time'] = pandas.to_datetime(df['time'])\n",
    "df = df.set_index('time')\n",
    "df"
   ],
   "id": "756befeb649f75be",
   "outputs": [],
   "execution_count": null
  },
  {
   "metadata": {},
   "cell_type": "markdown",
   "source": [
    "## Working with irregular spaced timeseries is hard\n",
    "Because some of the pandas built in resamplers are not made for this"
   ],
   "id": "c5952a1c17ccee05"
  },
  {
   "metadata": {},
   "cell_type": "code",
   "source": [
    "# Median still makes sense\n",
    "df.resample('1h').median()"
   ],
   "id": "8f2a85744af3631b",
   "outputs": [],
   "execution_count": null
  },
  {
   "metadata": {},
   "cell_type": "code",
   "source": [
    "# Mean however, depends on your context if this is a sensible thing to do:\n",
    "df.resample('1h').mean()"
   ],
   "id": "8c92a887d5ca8204",
   "outputs": [],
   "execution_count": null
  },
  {
   "metadata": {},
   "cell_type": "code",
   "source": [
    "# For example the tlmin in the original data is:\n",
    "# 1999-04-09 00:00:00+00:00       2.2\n",
    "# 1999-04-09 00:02:00+00:00      -0.6\n",
    "# 1999-04-09 00:10:00+00:00       7.5\n",
    "\n",
    "df.resample('1h').mean().loc['1999-04-09 00:00:00+00:00']\n",
    "\n"
   ],
   "id": "2ff1c4ec675db66a",
   "outputs": [],
   "execution_count": null
  },
  {
   "metadata": {},
   "cell_type": "code",
   "source": [
    "# tlmin = 3.033333333333333 according to pandas mean\n",
    "# which is exactly the mean of the values that occurred within this hour\n",
    "(2.2 + (-0.6) + 7.5)/3\n",
    "\n",
    "# however, depending on your context and use case, it may be sensible to consider the time between these timestamps as the -0.6 was occurring only for a short time inbetween the other measurements."
   ],
   "id": "299755c25a5b581e",
   "outputs": [],
   "execution_count": null
  },
  {
   "metadata": {},
   "cell_type": "markdown",
   "source": [
    "There are multiple ways to deal with such scenarios.\n",
    "One would be to upsample to a really high frequency (e.g. 1 second) under forward fill condition under the assumption that the values stayed the same until a new value arrived, and the downsample again with a mean for an hour.\n",
    "Or upsample to a really high frequency (e.g. 1 second) under linear interpolation conditon with the assumption that the values change continuously between measurements and then downsample again with a mean.\n",
    "The other option being writing a custom resampling method or numerically integrating the intervals."
   ],
   "id": "16b764c3d3bb1c13"
  }
 ],
 "metadata": {
  "kernelspec": {
   "display_name": "Python 3",
   "language": "python",
   "name": "python3"
  },
  "language_info": {
   "codemirror_mode": {
    "name": "ipython",
    "version": 2
   },
   "file_extension": ".py",
   "mimetype": "text/x-python",
   "name": "python",
   "nbconvert_exporter": "python",
   "pygments_lexer": "ipython2",
   "version": "2.7.6"
  }
 },
 "nbformat": 4,
 "nbformat_minor": 5
}
