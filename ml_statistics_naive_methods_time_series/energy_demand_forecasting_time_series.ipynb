{
 "cells": [
  {
   "cell_type": "markdown",
   "id": "6068ea9b",
   "metadata": {},
   "source": [
    "# Exercise: Multi-Step Time Series Forecasting for Building Energy Consumption"
   ]
  },
  {
   "cell_type": "markdown",
   "id": "9f5c665c",
   "metadata": {},
   "source": [
    "## Objective:\n",
    "- Work with endogenous and exogenous variables\n",
    "- Use real-world-like features (e.g., temperature, occupancy)\n",
    "- Highlight inputs vs. outputs in multistep context\n",
    "- Comparing performance estimation based on different parameters (input lags, forecasted horizon)"
   ]
  },
  {
   "cell_type": "markdown",
   "id": "51b96385",
   "metadata": {},
   "source": [
    "### Import required packages/libraries"
   ]
  },
  {
   "cell_type": "code",
   "execution_count": null,
   "id": "98c5bbc7",
   "metadata": {},
   "outputs": [],
   "source": [
    "import numpy as np\n",
    "import pandas as pd\n",
    "import matplotlib.pyplot as plt\n",
    "from sklearn.linear_model import LinearRegression, Ridge\n",
    "from sklearn.multioutput import MultiOutputRegressor\n",
    "from sklearn.metrics import mean_squared_error\n",
    "from sklearn.preprocessing import MinMaxScaler"
   ]
  },
  {
   "cell_type": "markdown",
   "id": "df310687",
   "metadata": {},
   "source": [
    "### Step 1: Load the dataset"
   ]
  },
  {
   "cell_type": "code",
   "execution_count": null,
   "id": "4fe5631c",
   "metadata": {},
   "outputs": [],
   "source": [
    "def load_dataset(filename):\n",
    "    filename = f\"./{filename}\"\n",
    "    building_df = pd.read_excel(filename)\n",
    "    return building_df"
   ]
  },
  {
   "cell_type": "markdown",
   "id": "751edaaa",
   "metadata": {},
   "source": [
    "### Step 2: Create supervised format for multistep forecasting"
   ]
  },
  {
   "cell_type": "code",
   "execution_count": null,
   "id": "fadc26df",
   "metadata": {},
   "outputs": [],
   "source": [
    "def create_multistep_data(df, feature_cols, input_lags=24, forecast_horizon=6):\n",
    "    X, y = [], []\n",
    "    for i in range(input_lags, len(df) - forecast_horizon): # sliding window\n",
    "        \n",
    "        # flatten past 'input_lags' values of all features into a 1D input vector\n",
    "        X.append(df.iloc[i - input_lags:i][feature_cols].values.flatten())\n",
    "        \n",
    "        #  next 'forecast_horizon' values of the target as output\n",
    "        y.append(df.iloc[i:i + forecast_horizon]['energy'].values)\n",
    "\n",
    "        \n",
    "    return np.array(X), np.array(y)"
   ]
  },
  {
   "cell_type": "markdown",
   "id": "f85f19ea",
   "metadata": {},
   "source": [
    "### Step 3: Train-test split"
   ]
  },
  {
   "cell_type": "code",
   "execution_count": null,
   "id": "97d2d23b",
   "metadata": {},
   "outputs": [],
   "source": [
    "def split_data(X, y, train_ratio=0.8):\n",
    "    \n",
    "    split_idx = int(train_ratio * len(X))\n",
    "    \n",
    "    return X[:split_idx], X[split_idx:], y[:split_idx], y[split_idx:]"
   ]
  },
  {
   "cell_type": "markdown",
   "id": "e41c3ac1",
   "metadata": {},
   "source": [
    "### Step 4: Train multi-output model"
   ]
  },
  {
   "cell_type": "code",
   "execution_count": null,
   "id": "451cce37",
   "metadata": {},
   "outputs": [],
   "source": [
    "def train_model(X_train, y_train):\n",
    "    # for this exercise we are using linear regression wrapped in MultiOutputRegressor\n",
    "    model = MultiOutputRegressor(Ridge())\n",
    "    \n",
    "    # input variables with corresponding targets (in our case sequences)\n",
    "    model.fit(X_train, y_train)\n",
    "    return model\n",
    "\n"
   ]
  },
  {
   "cell_type": "markdown",
   "id": "46fe6835",
   "metadata": {},
   "source": [
    "### Step 5: Evaluate Model"
   ]
  },
  {
   "cell_type": "code",
   "execution_count": null,
   "id": "6e4e6314",
   "metadata": {},
   "outputs": [],
   "source": [
    "def evaluate_model(model, X_test, y_test):\n",
    "    \n",
    "    # make predictions (sequence(s))\n",
    "    y_pred = model.predict(X_test) \n",
    "    \n",
    "    #calculate MSE\n",
    "    mse = mean_squared_error(y_test, y_pred)\n",
    "    \n",
    "    print(f\"Multi-step Forecast MSE: {mse:.2f}\")\n",
    "    \n",
    "    return y_test, y_pred"
   ]
  },
  {
   "cell_type": "markdown",
   "id": "7569f496",
   "metadata": {},
   "source": [
    "### Step 6: Visualization"
   ]
  },
  {
   "cell_type": "code",
   "execution_count": null,
   "id": "1ec10647",
   "metadata": {},
   "outputs": [],
   "source": [
    "def plot_forecast(y_test, y_pred, forecast_horizon, sample_idx=10):\n",
    "    plt.figure(figsize=(10, 4)) #set figure size\n",
    "    plt.plot(range(len(y_test[sample_idx])), y_test[sample_idx], marker='o', label='Actual') #actual\n",
    "    plt.plot(range(len(y_pred[sample_idx])), y_pred[sample_idx], marker='x', label='Predicted') #predicted\n",
    "    plt.title(f\"{forecast_horizon}-Step Ahead Forecast (Energy Consumption)\")\n",
    "    plt.xlabel(\"Hours Ahead\")\n",
    "    plt.ylabel(\"kWh\")\n",
    "    plt.legend()\n",
    "    plt.grid(True)\n",
    "    plt.show()"
   ]
  },
  {
   "cell_type": "markdown",
   "id": "b0c38a18",
   "metadata": {},
   "source": [
    "# Execution"
   ]
  },
  {
   "cell_type": "code",
   "execution_count": null,
   "id": "5f29039d",
   "metadata": {},
   "outputs": [],
   "source": [
    "input_lags = 3 # alternatively known as features\n",
    "forecast_horizon = 6\n",
    "feature_cols = ['energy', 'temperature', 'occupancy'] # feature names\n",
    "building_df = load_dataset('sim_building_data.xlsx')"
   ]
  },
  {
   "cell_type": "code",
   "execution_count": null,
   "id": "160bdd1f",
   "metadata": {},
   "outputs": [],
   "source": [
    "building_df.head()"
   ]
  },
  {
   "cell_type": "code",
   "execution_count": null,
   "id": "1cac9f97",
   "metadata": {},
   "outputs": [],
   "source": [
    "X, y = create_multistep_data(building_df, feature_cols, input_lags=input_lags, forecast_horizon=forecast_horizon)\n",
    "\n",
    "X_train, X_test, y_train, y_test = split_data(X, y)\n",
    "\n",
    "model = train_model(X_train, y_train)\n",
    "\n",
    "y_test, y_pred = evaluate_model(model, X_test, y_test)\n",
    "\n",
    "plot_forecast(y_test, y_pred, forecast_horizon=forecast_horizon)"
   ]
  },
  {
   "cell_type": "markdown",
   "id": "1aaafaed",
   "metadata": {},
   "source": [
    "# Further Tasks\n",
    "### 1. Remove exogenous variables (temp, occupancy) and observe changes\n",
    "### 2. Try different forecast horizons (e.g., 3, 12)\n",
    "### 3. Compare performance using MAE\n",
    "### 4. Normalize features to see if performance improves\n",
    "### 5. Try different models such LinearRegression, RandomForest\n",
    "### BONUS: Iterative Forecasting"
   ]
  },
  {
   "cell_type": "code",
   "execution_count": null,
   "id": "b7c13f9a",
   "metadata": {},
   "outputs": [],
   "source": []
  }
 ],
 "metadata": {
  "kernelspec": {
   "display_name": "Python 3 (ipykernel)",
   "language": "python",
   "name": "python3"
  },
  "language_info": {
   "codemirror_mode": {
    "name": "ipython",
    "version": 3
   },
   "file_extension": ".py",
   "mimetype": "text/x-python",
   "name": "python",
   "nbconvert_exporter": "python",
   "pygments_lexer": "ipython3",
   "version": "3.12.3"
  }
 },
 "nbformat": 4,
 "nbformat_minor": 5
}
