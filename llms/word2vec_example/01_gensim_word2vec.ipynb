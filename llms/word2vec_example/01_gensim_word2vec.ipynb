{
 "cells": [
  {
   "metadata": {
    "ExecuteTime": {
     "end_time": "2025-06-06T07:25:35.581739Z",
     "start_time": "2025-06-06T07:25:34.920164Z"
    }
   },
   "cell_type": "code",
   "source": "! pip install gensim",
   "id": "99a5ba1bd53cb0ae",
   "outputs": [
    {
     "name": "stdout",
     "output_type": "stream",
     "text": [
      "Requirement already satisfied: gensim in /home/banana/anaconda3/envs/digital_modeling_and_big_data_lecture/lib/python3.11/site-packages (4.3.3)\r\n",
      "Requirement already satisfied: numpy<2.0,>=1.18.5 in /home/banana/anaconda3/envs/digital_modeling_and_big_data_lecture/lib/python3.11/site-packages (from gensim) (1.26.4)\r\n",
      "Requirement already satisfied: scipy<1.14.0,>=1.7.0 in /home/banana/anaconda3/envs/digital_modeling_and_big_data_lecture/lib/python3.11/site-packages (from gensim) (1.13.1)\r\n",
      "Requirement already satisfied: smart-open>=1.8.1 in /home/banana/anaconda3/envs/digital_modeling_and_big_data_lecture/lib/python3.11/site-packages (from gensim) (5.2.1)\r\n"
     ]
    }
   ],
   "execution_count": 6
  },
  {
   "metadata": {
    "collapsed": true,
    "ExecuteTime": {
     "end_time": "2025-06-06T07:25:35.591447Z",
     "start_time": "2025-06-06T07:25:35.587787Z"
    }
   },
   "cell_type": "code",
   "source": [
    "import os.path\n",
    "\n",
    "from gensim.models import KeyedVectors\n",
    "import gensim.downloader"
   ],
   "id": "initial_id",
   "outputs": [],
   "execution_count": 7
  },
  {
   "metadata": {
    "ExecuteTime": {
     "end_time": "2025-06-06T07:25:36.548381Z",
     "start_time": "2025-06-06T07:25:35.637070Z"
    }
   },
   "cell_type": "code",
   "source": [
    "if not os.path.exists('word2vec.wordvectors'):\n",
    "    word_vectors = gensim.downloader.load('word2vec-google-news-300')\n",
    "    word_vectors.save(\"word2vec.wordvectors\")\n",
    "\n",
    "word_vectors: KeyedVectors = KeyedVectors.load(\"word2vec.wordvectors\", mmap='r')"
   ],
   "id": "daee0e2d43456e50",
   "outputs": [],
   "execution_count": 8
  },
  {
   "metadata": {
    "ExecuteTime": {
     "end_time": "2025-06-06T07:25:37.796054Z",
     "start_time": "2025-06-06T07:25:36.556188Z"
    }
   },
   "cell_type": "code",
   "source": [
    "\n",
    "print(word_vectors.most_similar(positive=['king', 'woman'], negative='man', topn=5))\n",
    "# \"\"\"\n",
    "# [('queen', 0.7118193507194519), ('monarch', 0.6189674139022827), ('princess', 0.5902431011199951), ('crown_prince', 0.5499460697174072), ('prince', 0.5377321839332581)]\n",
    "# \"\"\""
   ],
   "id": "e7b2e132faabac20",
   "outputs": [
    {
     "name": "stdout",
     "output_type": "stream",
     "text": [
      "[('queen', 0.7118193507194519), ('monarch', 0.6189674735069275), ('princess', 0.5902431011199951), ('crown_prince', 0.5499460697174072), ('prince', 0.5377321243286133)]\n"
     ]
    }
   ],
   "execution_count": 9
  },
  {
   "metadata": {
    "ExecuteTime": {
     "end_time": "2025-06-06T07:25:37.978907Z",
     "start_time": "2025-06-06T07:25:37.847480Z"
    }
   },
   "cell_type": "code",
   "source": [
    "\n",
    "print(word_vectors.most_similar(positive=['physician', 'woman'], negative='man', topn=5))\n",
    "# \"\"\"\n",
    "# [('doctor', 0.6828262805938721), ('nurse_practitioner', 0.6765698194503784), ('physicians', 0.6691580414772034), ('ob_gyn', 0.6643043160438538), ('gynecologist', 0.658219039440155)]\n",
    "# \"\"\""
   ],
   "id": "4d6f0fa1954cbd64",
   "outputs": [
    {
     "name": "stdout",
     "output_type": "stream",
     "text": [
      "[('doctor', 0.6828262805938721), ('nurse_practitioner', 0.6765698194503784), ('physicians', 0.6691580414772034), ('ob_gyn', 0.6643043756484985), ('gynecologist', 0.658219039440155)]\n"
     ]
    }
   ],
   "execution_count": 10
  },
  {
   "metadata": {
    "ExecuteTime": {
     "end_time": "2025-06-06T07:25:38.120970Z",
     "start_time": "2025-06-06T07:25:37.985346Z"
    }
   },
   "cell_type": "code",
   "source": [
    "\n",
    "print(word_vectors.most_similar(positive=['physician'], negative=None, topn=5))\n",
    "# \"\"\"\n",
    "# [('doctor', 0.7806021571159363), ('physicians', 0.7635090947151184), ('internist', 0.6973546147346497), ('Physician', 0.6826810240745544), ('physican', 0.6763942837715149)]\n",
    "# \"\"\""
   ],
   "id": "197602f2c0b45674",
   "outputs": [
    {
     "name": "stdout",
     "output_type": "stream",
     "text": [
      "[('doctor', 0.7806021571159363), ('physicians', 0.7635091543197632), ('internist', 0.6973546743392944), ('Physician', 0.6826810836791992), ('physican', 0.6763941645622253)]\n"
     ]
    }
   ],
   "execution_count": 11
  },
  {
   "metadata": {
    "ExecuteTime": {
     "end_time": "2025-06-06T07:25:38.265003Z",
     "start_time": "2025-06-06T07:25:38.132973Z"
    }
   },
   "cell_type": "code",
   "source": [
    "\n",
    "print(word_vectors.similar_by_vector(word_vectors['doctor'] - word_vectors['man'] + word_vectors['woman']))\n",
    "# \"\"\"\n",
    "# [('doctor', 0.883492112159729), ('gynecologist', 0.7276507616043091), ('nurse', 0.6698512434959412), ('physician', 0.6674120426177979), ('doctors', 0.664949357509613), ('pediatrician', 0.6398378014564514), ('nurse_practitioner', 0.6237460374832153), ('obstetrician', 0.6188926696777344), ('midwife', 0.6041983366012573), ('dentist', 0.599966287612915)]\n",
    "# \"\"\""
   ],
   "id": "b4259504a71880b9",
   "outputs": [
    {
     "name": "stdout",
     "output_type": "stream",
     "text": [
      "[('doctor', 0.883492112159729), ('gynecologist', 0.7276508212089539), ('nurse', 0.6698511838912964), ('physician', 0.6674119830131531), ('doctors', 0.664949357509613), ('pediatrician', 0.6398378014564514), ('nurse_practitioner', 0.6237460374832153), ('obstetrician', 0.6188927292823792), ('midwife', 0.6041982769966125), ('dentist', 0.5999662280082703)]\n"
     ]
    }
   ],
   "execution_count": 12
  },
  {
   "metadata": {
    "ExecuteTime": {
     "end_time": "2025-06-06T07:25:38.276879Z",
     "start_time": "2025-06-06T07:25:38.274776Z"
    }
   },
   "cell_type": "code",
   "source": [
    "\n",
    "print(word_vectors.distance('doctor', 'man'))\n",
    "# \"0.6855103671550751\"\n",
    "\n",
    "print(word_vectors.distance('doctor', 'woman'))\n",
    "# \"0.6205414235591888\"\n"
   ],
   "id": "cbc4f165d2fcd0a9",
   "outputs": [
    {
     "name": "stdout",
     "output_type": "stream",
     "text": [
      "0.6855103969573975\n",
      "0.6205414235591888\n"
     ]
    }
   ],
   "execution_count": 13
  }
 ],
 "metadata": {
  "kernelspec": {
   "display_name": "Python 3",
   "language": "python",
   "name": "python3"
  },
  "language_info": {
   "codemirror_mode": {
    "name": "ipython",
    "version": 2
   },
   "file_extension": ".py",
   "mimetype": "text/x-python",
   "name": "python",
   "nbconvert_exporter": "python",
   "pygments_lexer": "ipython2",
   "version": "2.7.6"
  }
 },
 "nbformat": 4,
 "nbformat_minor": 5
}
