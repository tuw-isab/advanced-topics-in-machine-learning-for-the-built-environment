{
 "cells": [
  {
   "cell_type": "markdown",
   "id": "dace6f9183cb1a4e",
   "metadata": {},
   "source": [
    "# Doing calcualtions with datetime"
   ]
  },
  {
   "cell_type": "code",
   "execution_count": 1,
   "id": "initial_id",
   "metadata": {
    "ExecuteTime": {
     "end_time": "2025-05-14T09:22:25.577672Z",
     "start_time": "2025-05-14T09:22:25.574303Z"
    }
   },
   "outputs": [],
   "source": [
    "from datetime import datetime, timedelta"
   ]
  },
  {
   "cell_type": "code",
   "execution_count": 2,
   "id": "7384579830841c74",
   "metadata": {
    "ExecuteTime": {
     "end_time": "2025-05-14T09:22:26.817885Z",
     "start_time": "2025-05-14T09:22:26.812904Z"
    }
   },
   "outputs": [],
   "source": [
    "dt1 = datetime.fromisoformat('2025-05-14T10:30:09Z')\n",
    "dt2 = datetime.fromisoformat('2025-05-12T21:12:33Z')"
   ]
  },
  {
   "cell_type": "code",
   "execution_count": 3,
   "id": "c70628e26e1440dc",
   "metadata": {
    "ExecuteTime": {
     "end_time": "2025-05-14T09:22:34.073509Z",
     "start_time": "2025-05-14T09:22:34.069003Z"
    }
   },
   "outputs": [
    {
     "data": {
      "text/plain": [
       "datetime.timedelta(days=1, seconds=47856)"
      ]
     },
     "execution_count": 3,
     "metadata": {},
     "output_type": "execute_result"
    }
   ],
   "source": [
    "dt1 - dt2"
   ]
  },
  {
   "cell_type": "code",
   "execution_count": 4,
   "id": "fe7ab5796a5528c4",
   "metadata": {
    "ExecuteTime": {
     "end_time": "2025-05-14T09:23:08.996568Z",
     "start_time": "2025-05-14T09:23:08.991977Z"
    }
   },
   "outputs": [
    {
     "data": {
      "text/plain": [
       "datetime.datetime(2025, 5, 14, 15, 30, 9, tzinfo=datetime.timezone.utc)"
      ]
     },
     "execution_count": 4,
     "metadata": {},
     "output_type": "execute_result"
    }
   ],
   "source": [
    "td = timedelta(hours=5)\n",
    "dt1 + td"
   ]
  },
  {
   "cell_type": "code",
   "execution_count": 5,
   "id": "93f6233a352baf84",
   "metadata": {
    "ExecuteTime": {
     "end_time": "2025-05-14T09:23:36.366881Z",
     "start_time": "2025-05-14T09:23:36.363951Z"
    }
   },
   "outputs": [
    {
     "data": {
      "text/plain": [
       "datetime.datetime(2025, 5, 15, 15, 32, 10, tzinfo=datetime.timezone.utc)"
      ]
     },
     "execution_count": 5,
     "metadata": {},
     "output_type": "execute_result"
    }
   ],
   "source": [
    "td = timedelta(days=1, hours=5, minutes=2, seconds=1)\n",
    "dt1 + td"
   ]
  }
 ],
 "metadata": {
  "kernelspec": {
   "display_name": "Python 3 (ipykernel)",
   "language": "python",
   "name": "python3"
  },
  "language_info": {
   "codemirror_mode": {
    "name": "ipython",
    "version": 3
   },
   "file_extension": ".py",
   "mimetype": "text/x-python",
   "name": "python",
   "nbconvert_exporter": "python",
   "pygments_lexer": "ipython3",
   "version": "3.11.11"
  }
 },
 "nbformat": 4,
 "nbformat_minor": 5
}
