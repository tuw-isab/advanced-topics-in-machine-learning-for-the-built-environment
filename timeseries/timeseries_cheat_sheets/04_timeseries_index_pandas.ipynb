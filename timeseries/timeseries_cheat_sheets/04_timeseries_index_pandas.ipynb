{
 "cells": [
  {
   "cell_type": "markdown",
   "id": "cb1dd0bf99e41046",
   "metadata": {},
   "source": [
    "# Pandas Timeseries index"
   ]
  },
  {
   "cell_type": "code",
   "id": "3022f15ccf2fd125",
   "metadata": {},
   "source": [
    "import pandas\n",
    "from io import StringIO\n",
    "from datetime import datetime, timedelta, UTC"
   ],
   "outputs": [],
   "execution_count": null
  },
  {
   "cell_type": "code",
   "id": "5c47880b2a87b06f",
   "metadata": {},
   "source": [
    "# Example weather measurement data from tawes, timestamps include a timzeone information and are in iso format\n",
    "tawes_utc = \"\"\"\n",
    "time,station,cglo_j,rr,tl_mittel,vv_mittel,p_mittel,tlmin,tlmax\n",
    "1999-04-09T00:00+00:00,5925,,-1,7.4,1.0,962.1,2.2,12.6\n",
    "1999-04-10T00:00+00:00,5925,,-1,8.3,1.0,957.7,-0.6,17.1\n",
    "1999-04-11T00:00+00:00,5925,,-1,10.9,1.5,951.9,7.5,14.3\n",
    "1999-04-12T00:00+00:00,5925,,2.5,8.1,1.0,947.4,4.5,11.7\n",
    "1999-04-13T00:00+00:00,5925,,7.8,9.1,0.6,939.7,6.2,12.0\n",
    "1999-04-14T00:00+00:00,5925,,0.4,6.5,1.0,945.4,0.9,12.1\n",
    "1999-04-15T00:00+00:00,5925,,-1,9.5,1.5,946.4,2.9,16.0\n",
    "1999-04-16T00:00+00:00,5925,,7.7,11.5,0.6,944.4,9.6,13.3\n",
    "1999-04-17T00:00+00:00,5925,,2.1,7.2,1.0,942.7,4.8,9.6\n",
    "1999-04-18T00:00+00:00,5925,,-1,6.7,1.0,949.9,2.5,10.9\n",
    "\"\"\""
   ],
   "outputs": [],
   "execution_count": null
  },
  {
   "cell_type": "code",
   "id": "756befeb649f75be",
   "metadata": {},
   "source": [
    "df = pandas.read_csv(StringIO(tawes_utc))\n",
    "df['time'] = pandas.to_datetime(df['time'])\n",
    "df.head(5)"
   ],
   "outputs": [],
   "execution_count": null
  },
  {
   "cell_type": "code",
   "id": "b00e5a9fc32ca169",
   "metadata": {},
   "source": [
    "df = df.set_index('time')\n",
    "df.head(5)"
   ],
   "outputs": [],
   "execution_count": null
  },
  {
   "cell_type": "markdown",
   "id": "c5952a1c17ccee05",
   "metadata": {},
   "source": [
    "## Accessing timeseries indizes"
   ]
  },
  {
   "cell_type": "code",
   "id": "6f577f99269f48ef",
   "metadata": {},
   "source": [
    "df['1999-04-09 00:00:00' : '1999-04-10 00:00:00']"
   ],
   "outputs": [],
   "execution_count": null
  },
  {
   "cell_type": "code",
   "id": "6e97dbc4b244c22c",
   "metadata": {},
   "source": [
    "df['1999-04-09': '1999-04-10']"
   ],
   "outputs": [],
   "execution_count": null
  },
  {
   "cell_type": "code",
   "id": "12401ef4d694676e",
   "metadata": {},
   "source": [
    "df[datetime(year=1999, month=4, day=1, tzinfo=UTC): datetime(year=1999, month=4, day=10, tzinfo=UTC)]"
   ],
   "outputs": [],
   "execution_count": null
  },
  {
   "cell_type": "code",
   "id": "5fea2930f75be55b",
   "metadata": {},
   "source": [
    "df[datetime(year=1995, month=1, day=1, tzinfo=UTC): datetime(year=2000, month=1, day=1, tzinfo=UTC)]"
   ],
   "outputs": [],
   "execution_count": null
  },
  {
   "cell_type": "code",
   "id": "5203b0acc5e59c8d",
   "metadata": {},
   "source": [
    "# However, when accessing a TZ aware datetime index, the indexer has to be TZ aware also:\n",
    "df[datetime(year=1999, month=4, day=1): datetime(year=1999, month=4, day=10)]"
   ],
   "outputs": [],
   "execution_count": null
  }
 ],
 "metadata": {
  "kernelspec": {
   "display_name": "Python 3 (ipykernel)",
   "language": "python",
   "name": "python3"
  },
  "language_info": {
   "codemirror_mode": {
    "name": "ipython",
    "version": 3
   },
   "file_extension": ".py",
   "mimetype": "text/x-python",
   "name": "python",
   "nbconvert_exporter": "python",
   "pygments_lexer": "ipython3",
   "version": "3.11.11"
  }
 },
 "nbformat": 4,
 "nbformat_minor": 5
}
